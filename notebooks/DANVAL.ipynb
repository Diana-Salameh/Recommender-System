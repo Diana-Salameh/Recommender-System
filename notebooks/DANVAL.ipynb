{
 "cells": [
  {
   "cell_type": "markdown",
   "metadata": {},
   "source": [
    "# Creating own DAN "
   ]
  },
  {
   "cell_type": "code",
   "execution_count": 1,
   "metadata": {},
   "outputs": [],
   "source": [
    "import os\n",
    "import tensorflow as tf\n",
    "# from keras.layers import Layer\n",
    "import numpy as np\n",
    "import pandas as pd\n",
    "from nltk.tokenize import word_tokenize\n",
    "from typing import *\n",
    "import pickle\n",
    "import random\n",
    "from nltk.tokenize import sent_tokenize\n",
    "import seaborn as sns\n",
    "import matplotlib.pyplot as plt"
   ]
  },
  {
   "cell_type": "markdown",
   "metadata": {},
   "source": [
    "## Reading Data"
   ]
  },
  {
   "cell_type": "code",
   "execution_count": 2,
   "metadata": {},
   "outputs": [],
   "source": [
    "data_dir = \"../datasets/cleaned_datasets/filtered_dataset\""
   ]
  },
  {
   "cell_type": "code",
   "execution_count": 3,
   "metadata": {},
   "outputs": [],
   "source": [
    "def read_data(_dir:str) -> pd.DataFrame:\n",
    "    data = {}\n",
    "    #data[\"url\"] = []\n",
    "    data[\"text\"] = []\n",
    "    data[\"class\"] = []\n",
    "    for root, dirs, files in os.walk(_dir):\n",
    "        for _dir in dirs: \n",
    "            for txt_file in [x for x in os.listdir(os.path.join(root, _dir)) if x.endswith((\".txt\", \".TXT\"))]:\n",
    "                # Class name = dir name\n",
    "                class_name = _dir\n",
    "                #Read File\n",
    "                file_name = os.path.abspath(os.path.join(root, _dir, txt_file))\n",
    "                file = open(file_name, \"r\")\n",
    "                txt = file.read()\n",
    "                file.close()\n",
    "                #data[\"url\"].append(file_name)\n",
    "                data[\"text\"].append(txt)\n",
    "                data[\"class\"].append(class_name)\n",
    "    df = pd.DataFrame.from_dict(data)\n",
    "    del data\n",
    "    return df"
   ]
  },
  {
   "cell_type": "code",
   "execution_count": 4,
   "metadata": {},
   "outputs": [],
   "source": [
    "df = read_data(data_dir).sample(frac = 1)"
   ]
  },
  {
   "cell_type": "code",
   "execution_count": 5,
   "metadata": {},
   "outputs": [
    {
     "data": {
      "text/html": [
       "<div>\n",
       "<style scoped>\n",
       "    .dataframe tbody tr th:only-of-type {\n",
       "        vertical-align: middle;\n",
       "    }\n",
       "\n",
       "    .dataframe tbody tr th {\n",
       "        vertical-align: top;\n",
       "    }\n",
       "\n",
       "    .dataframe thead th {\n",
       "        text-align: right;\n",
       "    }\n",
       "</style>\n",
       "<table border=\"1\" class=\"dataframe\">\n",
       "  <thead>\n",
       "    <tr style=\"text-align: right;\">\n",
       "      <th></th>\n",
       "      <th>text</th>\n",
       "      <th>class</th>\n",
       "    </tr>\n",
       "  </thead>\n",
       "  <tbody>\n",
       "    <tr>\n",
       "      <th>154</th>\n",
       "      <td>in the present work the techniques of data min...</td>\n",
       "      <td>prediction</td>\n",
       "    </tr>\n",
       "    <tr>\n",
       "      <th>1044</th>\n",
       "      <td>but mere traditional urban and rural land clas...</td>\n",
       "      <td>prediction</td>\n",
       "    </tr>\n",
       "    <tr>\n",
       "      <th>2422</th>\n",
       "      <td>based on the class of algorithm to be used in ...</td>\n",
       "      <td>prediction</td>\n",
       "    </tr>\n",
       "    <tr>\n",
       "      <th>2900</th>\n",
       "      <td>however image clustering is a hard task mainly...</td>\n",
       "      <td>clustering</td>\n",
       "    </tr>\n",
       "    <tr>\n",
       "      <th>5589</th>\n",
       "      <td>frequent pattern mining based on linear prefix...</td>\n",
       "      <td>pattern_mining</td>\n",
       "    </tr>\n",
       "  </tbody>\n",
       "</table>\n",
       "</div>"
      ],
      "text/plain": [
       "                                                   text           class\n",
       "154   in the present work the techniques of data min...      prediction\n",
       "1044  but mere traditional urban and rural land clas...      prediction\n",
       "2422  based on the class of algorithm to be used in ...      prediction\n",
       "2900  however image clustering is a hard task mainly...      clustering\n",
       "5589  frequent pattern mining based on linear prefix...  pattern_mining"
      ]
     },
     "execution_count": 5,
     "metadata": {},
     "output_type": "execute_result"
    }
   ],
   "source": [
    "df.head()"
   ]
  },
  {
   "cell_type": "markdown",
   "metadata": {},
   "source": [
    "## Creating One-Hot-Encodings"
   ]
  },
  {
   "cell_type": "code",
   "execution_count": 6,
   "metadata": {},
   "outputs": [],
   "source": [
    "from sklearn import preprocessing\n",
    "\n",
    "# Transform classes into dummies\n",
    "le = preprocessing.LabelEncoder()\n",
    "\n",
    "classes = df.drop([\"text\"], axis = 1)\n",
    "classes.apply(le.fit_transform)\n",
    "\n",
    "# Create One Hot Encodings\n",
    "enc = preprocessing.OneHotEncoder()\n",
    "enc.fit(classes)\n",
    "\n",
    "\n",
    "one_hot_encodings = enc.transform(classes)"
   ]
  },
  {
   "cell_type": "code",
   "execution_count": 7,
   "metadata": {},
   "outputs": [],
   "source": [
    "one_hot_encodings = one_hot_encodings.toarray()"
   ]
  },
  {
   "cell_type": "code",
   "execution_count": 8,
   "metadata": {},
   "outputs": [
    {
     "data": {
      "text/plain": [
       "(9156, 2)"
      ]
     },
     "execution_count": 8,
     "metadata": {},
     "output_type": "execute_result"
    }
   ],
   "source": [
    "df.shape"
   ]
  },
  {
   "cell_type": "markdown",
   "metadata": {},
   "source": [
    "## Embeddings"
   ]
  },
  {
   "cell_type": "code",
   "execution_count": 9,
   "metadata": {},
   "outputs": [],
   "source": [
    "class FastText():\n",
    "    \"\"\"\n",
    "    Loads the FastText model and get the Vectors.\n",
    "    \"\"\"\n",
    "\n",
    "    def __init__(self, **kwargs):\n",
    "        # super().__init__(**kwargs)\n",
    "        self.path = \"/Users/Daniel/PycharmProjects/Recommender-System/notebooks/FastText/ft_model_15000.pkl\"\n",
    "        self.__initialize_model()\n",
    "\n",
    "    def __initialize_model(self, **kwargs):\n",
    "        try:\n",
    "            tf.logging.info(\"FastText Model is loading\")\n",
    "            self.model = pickle.load(open(self.path, \"rb\"))\n",
    "            tf.logging.info(\"FastText Model loaded!\")\n",
    "        except Exception as e:\n",
    "            tf.logging.warning(\"Something went wrong while loading the FastText Model..\")\n",
    "            tf.logging.warning(e)\n",
    "\n",
    "    def inference(self, words: List[str]) -> np.ndarray:\n",
    "        embeddings = []\n",
    "        for word in words:\n",
    "            if self.model.wv.__contains__(word):\n",
    "                embeddings.append(self.model.wv.__getitem__(word))\n",
    "        return np.array(embeddings)\n"
   ]
  },
  {
   "cell_type": "code",
   "execution_count": 10,
   "metadata": {},
   "outputs": [
    {
     "name": "stdout",
     "output_type": "stream",
     "text": [
      "INFO:tensorflow:FastText Model is loading\n",
      "INFO:tensorflow:FastText Model loaded!\n"
     ]
    }
   ],
   "source": [
    "ft_path = \"/Users/Daniel/PycharmProjects/Recommender-System/notebooks/FastText/ft_model_15000.pkl\"\n",
    "fast_text_model = FastText()"
   ]
  },
  {
   "cell_type": "markdown",
   "metadata": {},
   "source": [
    "## Creating Network Architecture"
   ]
  },
  {
   "cell_type": "markdown",
   "metadata": {},
   "source": [
    "### Placeholder"
   ]
  },
  {
   "cell_type": "code",
   "execution_count": 11,
   "metadata": {},
   "outputs": [],
   "source": [
    "x_input = tf.placeholder(dtype = tf.float64, shape = (None, 100), name = \"placeholder_input\")"
   ]
  },
  {
   "cell_type": "code",
   "execution_count": 12,
   "metadata": {},
   "outputs": [],
   "source": [
    "y_true = tf.placeholder(dtype = tf.float64, shape = (None, 3), name = \"placeholder_y_true\")"
   ]
  },
  {
   "cell_type": "markdown",
   "metadata": {},
   "source": [
    "### Costumized Layers"
   ]
  },
  {
   "cell_type": "code",
   "execution_count": 13,
   "metadata": {},
   "outputs": [],
   "source": [
    "def dropout_layer(input_layer:np.ndarray ,dropout_prob:float = 0.2):\n",
    "    #dist = tf.contrib.distributions.Binomial(1, self.drop)\n",
    "    dist = 1 - np.random.binomial(1, dropout_prob, input_layer.shape[0])\n",
    "    return input_layer[dist.astype(bool)]"
   ]
  },
  {
   "cell_type": "code",
   "execution_count": 14,
   "metadata": {},
   "outputs": [],
   "source": [
    "def average_layer(placeholder: tf.Variable, name= \"average_layer\"):\n",
    "    with tf.name_scope(name):\n",
    "        average = tf.reduce_mean(input_tensor=placeholder, axis=0)\n",
    "        return tf.reshape(average, (1,-1), name = \"average_layer\")"
   ]
  },
  {
   "cell_type": "code",
   "execution_count": 15,
   "metadata": {},
   "outputs": [],
   "source": [
    "average = average_layer(x_input)"
   ]
  },
  {
   "cell_type": "markdown",
   "metadata": {},
   "source": [
    "### Creating the Dense Layers for DAN"
   ]
  },
  {
   "cell_type": "code",
   "execution_count": 16,
   "metadata": {},
   "outputs": [],
   "source": [
    "dense_layer_1 = tf.layers.dense(inputs=average,\n",
    "                                      units=100,\n",
    "                                      activation=tf.nn.tanh,\n",
    "                                      use_bias=True,\n",
    "                                      trainable=True,\n",
    "                                      name=\"dense_layer_1\")"
   ]
  },
  {
   "cell_type": "code",
   "execution_count": 17,
   "metadata": {},
   "outputs": [],
   "source": [
    "dense_layer_2 = tf.layers.dense(inputs=dense_layer_1,\n",
    "                                      units=100,\n",
    "                                      activation=tf.nn.tanh,\n",
    "                                      use_bias=True,\n",
    "                                      trainable=True,\n",
    "                                      name=\"dense_layer_2\")"
   ]
  },
  {
   "cell_type": "code",
   "execution_count": 18,
   "metadata": {},
   "outputs": [],
   "source": [
    "dense_layer_3 = tf.layers.dense(inputs=dense_layer_2,\n",
    "                                      units=100,\n",
    "                                      activation=tf.nn.tanh,\n",
    "                                      use_bias=True,\n",
    "                                      trainable=True,\n",
    "                                      name=\"dense_layer_3\")"
   ]
  },
  {
   "cell_type": "code",
   "execution_count": 19,
   "metadata": {},
   "outputs": [],
   "source": [
    "dense_layer_4 = tf.layers.dense(inputs=dense_layer_3,\n",
    "                                      units=100,\n",
    "                                      activation=tf.nn.tanh,\n",
    "                                      use_bias=True,\n",
    "                                      trainable=True,\n",
    "                                      name=\"dense_layer_4\")"
   ]
  },
  {
   "cell_type": "markdown",
   "metadata": {},
   "source": [
    "### Creating the Dense Layers for Clasification"
   ]
  },
  {
   "cell_type": "code",
   "execution_count": 20,
   "metadata": {},
   "outputs": [],
   "source": [
    "dense_layer_5 = tf.layers.dense(inputs=dense_layer_4,\n",
    "                                      units=200,\n",
    "                                      activation=tf.nn.tanh,\n",
    "                                      use_bias=True,\n",
    "                                      trainable=True,\n",
    "                                      name=\"dense_layer_5\")"
   ]
  },
  {
   "cell_type": "code",
   "execution_count": 21,
   "metadata": {},
   "outputs": [],
   "source": [
    "logits = tf.layers.dense(inputs=dense_layer_5,\n",
    "                                      units=3,\n",
    "                                      activation=tf.nn.tanh,\n",
    "                                      use_bias=True,\n",
    "                                      trainable=True,\n",
    "                                      name=\"logits\")"
   ]
  },
  {
   "cell_type": "markdown",
   "metadata": {},
   "source": [
    "### Softmax Layer & Loss Function\n",
    "https://www.tensorflow.org/api_docs/python/tf/nn/softmax_cross_entropy_with_logits_v2"
   ]
  },
  {
   "cell_type": "code",
   "execution_count": 22,
   "metadata": {},
   "outputs": [],
   "source": [
    "with tf.name_scope(\"loss\"):\n",
    "    softmax_layer = tf.nn.softmax_cross_entropy_with_logits_v2(labels = y_true, logits=logits) # WTF Is this function actually? \n",
    "    cross_entropy = tf.reduce_mean(softmax_layer)\n",
    "    tf.summary.scalar(\"cross_entropy\", cross_entropy)"
   ]
  },
  {
   "cell_type": "markdown",
   "metadata": {},
   "source": [
    "### Optimizer"
   ]
  },
  {
   "cell_type": "code",
   "execution_count": 23,
   "metadata": {},
   "outputs": [],
   "source": [
    "with tf.name_scope(\"train\"):\n",
    "    optimizer = tf.train.AdamOptimizer(learning_rate=1e-4)\n",
    "    train = optimizer.minimize(cross_entropy)\n",
    "    "
   ]
  },
  {
   "cell_type": "markdown",
   "metadata": {},
   "source": [
    "### Metrics - Accuracy"
   ]
  },
  {
   "cell_type": "code",
   "execution_count": 24,
   "metadata": {},
   "outputs": [],
   "source": [
    "with tf.name_scope(\"pred_eval\"):\n",
    "    prob_target = tf.argmax(logits, 1, name=\"prob_target\") # Returns Index with largest value\n",
    "    prob_true = tf.argmax(y_true, 1, name = \"prob_true\")\n",
    "    pred_eval = tf.equal(prob_target, prob_true)\n",
    "    \n",
    "    #_sum = tf.add(predictions, tf.cast(correct_prediction, dtype=tf.float64))\n",
    "    #correct_predictions = tf.concat(prob_target, prob_true)\n",
    "    #correct_pred = tf.cast(correct_predictions, dtype=tf.int32)\n",
    "    \n",
    "    \n",
    "    \n",
    "    #correct_prediction = tf.equal(tf.argmax(logits, 1), tf.argmax(y_true))\n",
    "    #print(\"correct_prediction: {}\".format(correct_prediction))\n",
    "    \n",
    "    #accuracy = tf.reduce_mean(tf.cast(correct_prediction, tf.float32))\n",
    "    #tf.summary.scalar(\"accuracy\", accuracy)"
   ]
  },
  {
   "cell_type": "markdown",
   "metadata": {},
   "source": [
    "## Saver"
   ]
  },
  {
   "cell_type": "code",
   "execution_count": 25,
   "metadata": {},
   "outputs": [],
   "source": [
    "saver = tf.train.Saver()"
   ]
  },
  {
   "cell_type": "code",
   "execution_count": 26,
   "metadata": {},
   "outputs": [],
   "source": [
    "save_path = \"dan_checkpoints/\" # Need to exist "
   ]
  },
  {
   "cell_type": "code",
   "execution_count": 27,
   "metadata": {},
   "outputs": [],
   "source": [
    "model_name = \"first_dan.ckpt\""
   ]
  },
  {
   "cell_type": "code",
   "execution_count": 28,
   "metadata": {},
   "outputs": [],
   "source": [
    "# Check the Graph\n",
    "if not os.path.isdir(save_path):\n",
    "    os.makedirs(save_path)"
   ]
  },
  {
   "cell_type": "markdown",
   "metadata": {},
   "source": [
    "## Training"
   ]
  },
  {
   "cell_type": "code",
   "execution_count": 29,
   "metadata": {},
   "outputs": [],
   "source": [
    "init = tf.global_variables_initializer()"
   ]
  },
  {
   "cell_type": "markdown",
   "metadata": {},
   "source": [
    "10 Epoches rund 6 Minuten"
   ]
  },
  {
   "cell_type": "code",
   "execution_count": 30,
   "metadata": {},
   "outputs": [
    {
     "name": "stdout",
     "output_type": "stream",
     "text": [
      "Accuracy: 0.9322848405417212\n",
      "Accuracy: 0.9415137614678899\n",
      "Accuracy: 0.9444444444444444\n",
      "Accuracy: 0.9472204019222368\n",
      "Accuracy: 0.9490607252075142\n",
      "Accuracy: 0.9508519003931848\n",
      "Accuracy: 0.9515072083879423\n",
      "model_saved!\n",
      "CPU times: user 3min, sys: 15.8 s, total: 3min 16s\n",
      "Wall time: 2min 24s\n"
     ]
    }
   ],
   "source": [
    "%%time\n",
    "with tf.Session() as sess: \n",
    "    sess.run(init)\n",
    "    \n",
    "    ### Tensorboard Stuff\n",
    "    ## TODO at summary\n",
    "    #merged_summary = tf.summary.merge_all()\n",
    "    writer = tf.summary.FileWriter(save_path)\n",
    "    writer.add_graph(sess.graph)\n",
    "\n",
    "    epoches = 7\n",
    "    \n",
    "    preds = []\n",
    "    for i in range(epoches):\n",
    "        for j,p in enumerate([word_tokenize(x) for x in df[\"text\"].tolist()]): \n",
    "            # Converting paragraphs to Embeddings\n",
    "            embeddings = dropout_layer(fast_text_model.inference(p))\n",
    "            label = np.array(one_hot_encodings[j]).reshape(1,-1)\n",
    "            \n",
    "            \n",
    "            [_, _eval] = sess.run([train, pred_eval], feed_dict={x_input:embeddings, y_true:label})\n",
    "            preds.append(_eval[0])\n",
    "        print(\"Accuracy: {}\".format(np.mean(preds)))\n",
    "    saver.save(sess, os.path.join(save_path, model_name))\n",
    "    print(\"model_saved!\")\n",
    "    sess.close()"
   ]
  },
  {
   "cell_type": "markdown",
   "metadata": {},
   "source": [
    "## Loading the Model"
   ]
  },
  {
   "cell_type": "raw",
   "metadata": {},
   "source": [
    "with tf.Session() as sess: \n",
    "    saver.restore(sess,os.path.join(save_path, model_name))\n",
    "    sess.close()"
   ]
  },
  {
   "cell_type": "code",
   "execution_count": 57,
   "metadata": {},
   "outputs": [],
   "source": [
    "def get_dan_embedding(text: List[str], layer):\n",
    "    with tf.Session() as sess: \n",
    "        saver.restore(sess,os.path.join(save_path, model_name))\n",
    "\n",
    "        embeddings = fast_text_model.inference(text)\n",
    "        \n",
    "        dan_emb = sess.run(layer, feed_dict={x_input:embeddings})\n",
    "        \n",
    "        sess.close()\n",
    "        return dan_emb"
   ]
  },
  {
   "cell_type": "markdown",
   "metadata": {},
   "source": [
    "## Retrieving Embeddings for Examples"
   ]
  },
  {
   "cell_type": "code",
   "execution_count": 32,
   "metadata": {},
   "outputs": [],
   "source": [
    "example_1 = \"i want predict cost\"\n",
    "example_2 = \"i want predict stock prize\"\n",
    "example_3 = \"i want similar cost\"\n",
    "example_4 = \"i want pattern in my costs\"\n",
    "\n",
    "examples = [example_1, example_2, example_3, example_4]"
   ]
  },
  {
   "cell_type": "code",
   "execution_count": 33,
   "metadata": {},
   "outputs": [],
   "source": [
    "fastText_embeddings = [np.mean(fast_text_model.inference(word_tokenize(x)), axis = 0) for x in examples]"
   ]
  },
  {
   "cell_type": "code",
   "execution_count": 34,
   "metadata": {},
   "outputs": [
    {
     "name": "stdout",
     "output_type": "stream",
     "text": [
      "INFO:tensorflow:Restoring parameters from dan_checkpoints/first_dan.ckpt\n",
      "INFO:tensorflow:Restoring parameters from dan_checkpoints/first_dan.ckpt\n",
      "INFO:tensorflow:Restoring parameters from dan_checkpoints/first_dan.ckpt\n",
      "INFO:tensorflow:Restoring parameters from dan_checkpoints/first_dan.ckpt\n"
     ]
    }
   ],
   "source": [
    "dan_embeddings = np.squeeze([get_dan_embedding(word_tokenize(x), layer = dense_layer_4) for x in examples]).tolist()"
   ]
  },
  {
   "cell_type": "code",
   "execution_count": 35,
   "metadata": {},
   "outputs": [],
   "source": [
    "_df = pd.DataFrame.from_dict({\"text\": examples, \"ft_embedding\": fastText_embeddings, \"dan_embedding\": dan_embeddings})"
   ]
  },
  {
   "cell_type": "markdown",
   "metadata": {},
   "source": [
    "## PCA"
   ]
  },
  {
   "cell_type": "code",
   "execution_count": 36,
   "metadata": {},
   "outputs": [],
   "source": [
    "from sklearn.decomposition import PCA"
   ]
  },
  {
   "cell_type": "code",
   "execution_count": 37,
   "metadata": {},
   "outputs": [],
   "source": [
    "pca_FT = PCA(n_components=2)\n",
    "pca_DAN = PCA(n_components=2)"
   ]
  },
  {
   "cell_type": "code",
   "execution_count": 38,
   "metadata": {},
   "outputs": [],
   "source": [
    "matrix_DAN = pca_FT.fit_transform(_df[\"dan_embedding\"].tolist())"
   ]
  },
  {
   "cell_type": "code",
   "execution_count": 39,
   "metadata": {},
   "outputs": [],
   "source": [
    "matrix_FT = pca_FT.fit_transform(_df[\"ft_embedding\"].tolist())"
   ]
  },
  {
   "cell_type": "code",
   "execution_count": 40,
   "metadata": {},
   "outputs": [],
   "source": [
    "_df[\"ft_x\"] = matrix_FT[:,0]\n",
    "_df[\"ft_y\"] = matrix_FT[:,1]"
   ]
  },
  {
   "cell_type": "code",
   "execution_count": 41,
   "metadata": {},
   "outputs": [],
   "source": [
    "_df[\"dan_x\"] = matrix_DAN[:,0]\n",
    "_df[\"dan_y\"] = matrix_DAN[:,1]"
   ]
  },
  {
   "cell_type": "code",
   "execution_count": 42,
   "metadata": {},
   "outputs": [
    {
     "data": {
      "image/png": "[encoded data removed]",
      "text/plain": [
       "<Figure size 432x288 with 1 Axes>"
      ]
     },
     "metadata": {
      "needs_background": "light"
     },
     "output_type": "display_data"
    }
   ],
   "source": [
    "ax = sns.scatterplot(x = \"ft_x\", y=\"ft_y\", data = _df, s = 100,  hue = \"text\")\n",
    "title = ax.set_title(\"FastText\")\n"
   ]
  },
  {
   "cell_type": "code",
   "execution_count": 43,
   "metadata": {},
   "outputs": [
    {
     "data": {
      "text/plain": [
       "[(-5, 5)]"
      ]
     },
     "execution_count": 43,
     "metadata": {},
     "output_type": "execute_result"
    },
    {
     "data": {
      "image/png": "[encoded data removed]",
      "text/plain": [
       "<Figure size 432x288 with 1 Axes>"
      ]
     },
     "metadata": {
      "needs_background": "light"
     },
     "output_type": "display_data"
    }
   ],
   "source": [
    "ax = sns.scatterplot(x = \"dan_x\", y=\"dan_y\", data = _df, s=100, hue = \"text\")\n",
    "title = ax.set_title(\"DAN\")\n",
    "ax.set(ylim=(-5, 5))\n",
    "ax.set(xlim=(-5, 5))"
   ]
  },
  {
   "cell_type": "markdown",
   "metadata": {},
   "source": [
    "## Pertubation\n",
    "As used in:  http://cs.umd.edu/~miyyer/pubs/2015_acl_dan.pdf "
   ]
  },
  {
   "cell_type": "code",
   "execution_count": 44,
   "metadata": {},
   "outputs": [
    {
     "name": "stdout",
     "output_type": "stream",
     "text": [
      "INFO:tensorflow:Restoring parameters from dan_checkpoints/first_dan.ckpt\n",
      "INFO:tensorflow:Restoring parameters from dan_checkpoints/first_dan.ckpt\n",
      "INFO:tensorflow:Restoring parameters from dan_checkpoints/first_dan.ckpt\n",
      "INFO:tensorflow:Restoring parameters from dan_checkpoints/first_dan.ckpt\n",
      "INFO:tensorflow:Restoring parameters from dan_checkpoints/first_dan.ckpt\n",
      "INFO:tensorflow:Restoring parameters from dan_checkpoints/first_dan.ckpt\n",
      "INFO:tensorflow:Restoring parameters from dan_checkpoints/first_dan.ckpt\n",
      "INFO:tensorflow:Restoring parameters from dan_checkpoints/first_dan.ckpt\n",
      "INFO:tensorflow:Restoring parameters from dan_checkpoints/first_dan.ckpt\n",
      "INFO:tensorflow:Restoring parameters from dan_checkpoints/first_dan.ckpt\n",
      "INFO:tensorflow:Restoring parameters from dan_checkpoints/first_dan.ckpt\n",
      "INFO:tensorflow:Restoring parameters from dan_checkpoints/first_dan.ckpt\n",
      "INFO:tensorflow:Restoring parameters from dan_checkpoints/first_dan.ckpt\n",
      "INFO:tensorflow:Restoring parameters from dan_checkpoints/first_dan.ckpt\n",
      "INFO:tensorflow:Restoring parameters from dan_checkpoints/first_dan.ckpt\n",
      "INFO:tensorflow:Restoring parameters from dan_checkpoints/first_dan.ckpt\n"
     ]
    }
   ],
   "source": [
    "layers = [dense_layer_1, dense_layer_2, dense_layer_3, dense_layer_4]\n",
    "for i,layer in enumerate(layers): \n",
    "    _df[\"layer_{}\".format(i)] = _df[\"text\"].apply(lambda text: np.linalg.norm(get_dan_embedding(text, layers[i])))"
   ]
  },
  {
   "cell_type": "code",
   "execution_count": 45,
   "metadata": {},
   "outputs": [
    {
     "name": "stdout",
     "output_type": "stream",
     "text": [
      "[1.26381174 1.28828307 1.67969674 3.40001111]\n",
      "[1.29637451 1.31091004 1.64902928 3.26000511]\n",
      "[1.22822768 1.28830832 1.78456619 3.69376751]\n",
      "[1.22707313 1.32968001 1.85823389 3.84094202]\n"
     ]
    },
    {
     "data": {
      "image/png": "[encoded data removed]",
      "text/plain": [
       "<Figure size 432x288 with 1 Axes>"
      ]
     },
     "metadata": {
      "needs_background": "light"
     },
     "output_type": "display_data"
    }
   ],
   "source": [
    "for i in range(0,len(layers)):\n",
    "    x = [x+1 for x in range(0,len(layers))]\n",
    "    y = _df.drop(columns = [\"text\",\"ft_embedding\", \"dan_embedding\", \"ft_x\", \"ft_y\", \"dan_x\", \"dan_y\"]).T.values[:,i]\n",
    "    print(y)\n",
    "    ax = sns.lineplot(x = range(1, len(layers)+1), y = y, markers = \"x\")\n",
    "    #ax.set(xlim = (0,len(layers)+1))"
   ]
  },
  {
   "cell_type": "markdown",
   "metadata": {},
   "source": [
    "## Density Plots on Dataset"
   ]
  },
  {
   "cell_type": "code",
   "execution_count": 47,
   "metadata": {},
   "outputs": [],
   "source": [
    "#df = df.drop(columns = [\"x\",\"y\",\"z\"])"
   ]
  },
  {
   "cell_type": "code",
   "execution_count": 56,
   "metadata": {},
   "outputs": [
    {
     "name": "stdout",
     "output_type": "stream",
     "text": [
      "CPU times: user 72 µs, sys: 311 µs, total: 383 µs\n",
      "Wall time: 280 µs\n"
     ]
    }
   ],
   "source": [
    "%%time\n",
    "tf.logging.set_verbosity(tf.logging.ERROR)\n",
    "#df[\"embedding\"] = df[\"text\"].apply(lambda x: get_dan_embedding(word_tokenize(x), layers[-1]))"
   ]
  },
  {
   "cell_type": "code",
   "execution_count": 49,
   "metadata": {},
   "outputs": [],
   "source": [
    "pca = PCA(n_components=2)\n",
    "matrix = pca.fit_transform(df[\"embedding\"].apply(lambda x: x[0]).tolist())"
   ]
  },
  {
   "cell_type": "code",
   "execution_count": 50,
   "metadata": {},
   "outputs": [
    {
     "data": {
      "text/plain": [
       "(9156, 2)"
      ]
     },
     "execution_count": 50,
     "metadata": {},
     "output_type": "execute_result"
    }
   ],
   "source": [
    "matrix.shape"
   ]
  },
  {
   "cell_type": "code",
   "execution_count": 51,
   "metadata": {},
   "outputs": [],
   "source": [
    "df[\"x\"] = matrix[:,0]\n",
    "df[\"y\"] = matrix[:,1]\n",
    "#df[\"z\"] = matrix[:,2]"
   ]
  },
  {
   "cell_type": "code",
   "execution_count": 52,
   "metadata": {},
   "outputs": [
    {
     "data": {
      "text/html": [
       "<div>\n",
       "<style scoped>\n",
       "    .dataframe tbody tr th:only-of-type {\n",
       "        vertical-align: middle;\n",
       "    }\n",
       "\n",
       "    .dataframe tbody tr th {\n",
       "        vertical-align: top;\n",
       "    }\n",
       "\n",
       "    .dataframe thead th {\n",
       "        text-align: right;\n",
       "    }\n",
       "</style>\n",
       "<table border=\"1\" class=\"dataframe\">\n",
       "  <thead>\n",
       "    <tr style=\"text-align: right;\">\n",
       "      <th></th>\n",
       "      <th>text</th>\n",
       "      <th>class</th>\n",
       "      <th>embedding</th>\n",
       "      <th>x</th>\n",
       "      <th>y</th>\n",
       "    </tr>\n",
       "  </thead>\n",
       "  <tbody>\n",
       "    <tr>\n",
       "      <th>154</th>\n",
       "      <td>in the present work the techniques of data min...</td>\n",
       "      <td>prediction</td>\n",
       "      <td>[[-0.3355638357840839, -0.13896291549960116, -...</td>\n",
       "      <td>3.883821</td>\n",
       "      <td>2.471886</td>\n",
       "    </tr>\n",
       "    <tr>\n",
       "      <th>1044</th>\n",
       "      <td>but mere traditional urban and rural land clas...</td>\n",
       "      <td>prediction</td>\n",
       "      <td>[[-0.4095738417188059, -0.030257054046782517, ...</td>\n",
       "      <td>3.714581</td>\n",
       "      <td>3.098291</td>\n",
       "    </tr>\n",
       "    <tr>\n",
       "      <th>2422</th>\n",
       "      <td>based on the class of algorithm to be used in ...</td>\n",
       "      <td>prediction</td>\n",
       "      <td>[[-0.26437180314109704, -0.10844077346145818, ...</td>\n",
       "      <td>3.595108</td>\n",
       "      <td>3.499652</td>\n",
       "    </tr>\n",
       "    <tr>\n",
       "      <th>2900</th>\n",
       "      <td>however image clustering is a hard task mainly...</td>\n",
       "      <td>clustering</td>\n",
       "      <td>[[-0.680087947850376, -0.4902574324514204, 0.6...</td>\n",
       "      <td>4.800903</td>\n",
       "      <td>-2.826970</td>\n",
       "    </tr>\n",
       "    <tr>\n",
       "      <th>5589</th>\n",
       "      <td>frequent pattern mining based on linear prefix...</td>\n",
       "      <td>pattern_mining</td>\n",
       "      <td>[[0.26148430063823214, -0.14276555655640655, -...</td>\n",
       "      <td>-6.226912</td>\n",
       "      <td>0.166970</td>\n",
       "    </tr>\n",
       "  </tbody>\n",
       "</table>\n",
       "</div>"
      ],
      "text/plain": [
       "                                                   text           class  \\\n",
       "154   in the present work the techniques of data min...      prediction   \n",
       "1044  but mere traditional urban and rural land clas...      prediction   \n",
       "2422  based on the class of algorithm to be used in ...      prediction   \n",
       "2900  however image clustering is a hard task mainly...      clustering   \n",
       "5589  frequent pattern mining based on linear prefix...  pattern_mining   \n",
       "\n",
       "                                              embedding         x         y  \n",
       "154   [[-0.3355638357840839, -0.13896291549960116, -...  3.883821  2.471886  \n",
       "1044  [[-0.4095738417188059, -0.030257054046782517, ...  3.714581  3.098291  \n",
       "2422  [[-0.26437180314109704, -0.10844077346145818, ...  3.595108  3.499652  \n",
       "2900  [[-0.680087947850376, -0.4902574324514204, 0.6...  4.800903 -2.826970  \n",
       "5589  [[0.26148430063823214, -0.14276555655640655, -... -6.226912  0.166970  "
      ]
     },
     "execution_count": 52,
     "metadata": {},
     "output_type": "execute_result"
    }
   ],
   "source": [
    "df.head()"
   ]
  },
  {
   "cell_type": "code",
   "execution_count": 53,
   "metadata": {},
   "outputs": [
    {
     "data": {
      "image/png": "[encoded data removed]",
      "text/plain": [
       "<Figure size 864x576 with 2 Axes>"
      ]
     },
     "metadata": {
      "needs_background": "light"
     },
     "output_type": "display_data"
    }
   ],
   "source": [
    "import matplotlib.patches as mpatches\n",
    "import matplotlib\n",
    "\n",
    "cmaps = cmaps = [\"Reds\",\"YlOrBr\", \"Blues\",\"Greens\"]\n",
    "#colors = [\"red\", \"blue\", \"purple\", \"green\", \"\", \"grey\"]\n",
    "groups = df.groupby(\"class\")\n",
    "counter = 0\n",
    "\n",
    "fig = plt.figure(figsize=(12,8))\n",
    "fig.suptitle(\"Density & Scatter Plot\")\n",
    "\n",
    "ax_1 = fig.add_subplot(1,2,1)\n",
    "ax_2 = fig.add_subplot(1,2,2)\n",
    "\n",
    "ax_1.set_title(\"Density Plot\")\n",
    "ax_2.set_title(\"Scatter Plot\")\n",
    "\n",
    "\n",
    "labels = []\n",
    "for name, group in groups: \n",
    "    # Change that ax = ax_1\n",
    "    ax = sns.kdeplot(group.x,group.y, shade=True, cmap = cmaps[counter],shade_lowest=False, ax = ax_1)\n",
    "    color_from_cmap = matplotlib.cm.get_cmap(cmaps[counter])(0.5)\n",
    "    \n",
    "    ax_2.scatter(group.x, group.y, color = color_from_cmap)\n",
    "    labels.append(mpatches.Patch(color=color_from_cmap, label=name))\n",
    "    counter +=1\n",
    "legend = plt.legend(handles = labels)"
   ]
  },
  {
   "cell_type": "code",
   "execution_count": null,
   "metadata": {},
   "outputs": [],
   "source": []
  }
 ],
 "metadata": {
  "kernelspec": {
   "display_name": "Python 3",
   "language": "python",
   "name": "python3"
  },
  "language_info": {
   "codemirror_mode": {
    "name": "ipython",
    "version": 3
   },
   "file_extension": ".py",
   "mimetype": "text/x-python",
   "name": "python",
   "nbconvert_exporter": "python",
   "pygments_lexer": "ipython3",
   "version": "3.6.5"
  }
 },
 "nbformat": 4,
 "nbformat_minor": 2
}
