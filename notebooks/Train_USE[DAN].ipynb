{
 "cells": [
  {
   "cell_type": "markdown",
   "metadata": {},
   "source": [
    "# Training an USE[DAN] Model\n",
    "\n",
    "This Notebook defines a pipeline to train a dense neural network based on a DAN-Model. You can chose two settings: \n",
    "\n",
    "1. All your input text is treated as normal text\n",
    "2. Your input text file will be splitt up in sentences"
   ]
  },
  {
   "cell_type": "code",
   "execution_count": 1,
   "metadata": {},
   "outputs": [],
   "source": [
    "import tensorflow as tf\n",
    "import tensorflow_hub as hub\n",
    "import matplotlib.pyplot as plt\n",
    "import numpy as np\n",
    "import os\n",
    "import pandas as pd\n",
    "import re\n",
    "import seaborn as sns\n",
    "from nltk.tokenize import sent_tokenize\n",
    "from sklearn.metrics.pairwise import cosine_similarity\n",
    "from sklearn.model_selection import train_test_split\n",
    "from sklearn.utils import shuffle"
   ]
  },
  {
   "cell_type": "markdown",
   "metadata": {},
   "source": [
    "## General Information & Label Map"
   ]
  },
  {
   "cell_type": "markdown",
   "metadata": {},
   "source": [
    "### Directories"
   ]
  },
  {
   "cell_type": "code",
   "execution_count": 92,
   "metadata": {},
   "outputs": [],
   "source": [
    "classifier_name = \"test_model\" # Name of the model is at the same time the dir where model files will be stored\n",
    "classifier_dir = os.path.abspath(classifier_name)\n",
    "# label_map = \"\" # path to label map (not implemented yet..)\n",
    "data_dir = \"../data/datasets/daniel_0212\" # Where text data are stored\n",
    "test_dir = \"../data/eval_data\""
   ]
  },
  {
   "cell_type": "code",
   "execution_count": 4,
   "metadata": {},
   "outputs": [
    {
     "name": "stdout",
     "output_type": "stream",
     "text": [
      "model dir already exists\n"
     ]
    }
   ],
   "source": [
    "if not os.path.isdir(classifier_dir):\n",
    "    os.mkdir(classifier_dir)\n",
    "    print(\"model dir created!\")\n",
    "else:\n",
    "    print(\"model dir already exists\")"
   ]
  },
  {
   "cell_type": "markdown",
   "metadata": {},
   "source": [
    "### Model (Classifier) & Training Parameters"
   ]
  },
  {
   "cell_type": "code",
   "execution_count": 91,
   "metadata": {},
   "outputs": [],
   "source": [
    "# Training Parameters\n",
    "batch_size = 10\n",
    "num_epochs = 100\n",
    "training_steps = None\n",
    "\n",
    "# Model Parameters\n",
    "num_classes = 4 # ADJUST THAT\n",
    "hidden_units = [1024,512,256,64] # Iterable of number hidden units per layer. \n",
    "activation_fn=tf.nn.relu\n",
    "optimizer = tf.train.AdadeltaOptimizer(learning_rate=0.001)\n",
    "dropout = None # None or float 0-1\n",
    "batch_normalization = False\n",
    "regularization = False"
   ]
  },
  {
   "cell_type": "markdown",
   "metadata": {},
   "source": [
    "### Label Map"
   ]
  },
  {
   "cell_type": "code",
   "execution_count": 51,
   "metadata": {},
   "outputs": [],
   "source": [
    "# Use the label_map class from you package..\n",
    "def get_label_id(class_name:str):\n",
    "    if class_name == \"clustering\":   \n",
    "        return 0\n",
    "    if class_name == \"pattern_mining\":\n",
    "        return 1\n",
    "    if class_name == \"regression\":\n",
    "        return 2\n",
    "    if class_name == \"classification\":\n",
    "        return 3"
   ]
  },
  {
   "cell_type": "markdown",
   "metadata": {},
   "source": [
    "## Environment for TF-HUB Model"
   ]
  },
  {
   "cell_type": "code",
   "execution_count": 66,
   "metadata": {},
   "outputs": [],
   "source": [
    "# Reduce logging output.\n",
    "tf.logging.set_verbosity(tf.logging.ERROR)"
   ]
  },
  {
   "cell_type": "code",
   "execution_count": 67,
   "metadata": {},
   "outputs": [],
   "source": [
    "# I dont know if he overwrites the model during retraining.\n",
    "embedding_model_url = \"https://tfhub.dev/google/universal-sentence-encoder/2\" "
   ]
  },
  {
   "cell_type": "code",
   "execution_count": 68,
   "metadata": {},
   "outputs": [
    {
     "name": "stdout",
     "output_type": "stream",
     "text": [
      "419b2b3084fae7c4784fd6ce806e7ef02ec4c87a\n"
     ]
    }
   ],
   "source": [
    "import hashlib\n",
    "# The path where tf-hub will cache the model (use an absolute path..) \n",
    "os.environ[\"TFHUB_CACHE_DIR\"] = os.path.join(classifier_dir, \"embedding_model\")\n",
    "\n",
    "#TF-hub will store the name as hex\n",
    "embedding_model_hash = hashlib.sha1(classifier_dir.encode(\"utf8\")).hexdigest()\n",
    "print(embedding_model_hash)"
   ]
  },
  {
   "cell_type": "markdown",
   "metadata": {},
   "source": [
    "## Loading Data into Dataframe"
   ]
  },
  {
   "cell_type": "code",
   "execution_count": 11,
   "metadata": {},
   "outputs": [],
   "source": [
    "from nltk.tokenize import sent_tokenize"
   ]
  },
  {
   "cell_type": "code",
   "execution_count": 12,
   "metadata": {},
   "outputs": [],
   "source": [
    "def read_data(_dir:str, sentence_level = True):\n",
    "    data = {}\n",
    "    data[\"text\"] = []\n",
    "    data[\"class\"] = []\n",
    "    for root, dirs, files in os.walk(_dir):\n",
    "        for _dir in dirs: \n",
    "            for txt_file in [x for x in os.listdir(os.path.join(root, _dir)) if x.endswith((\".txt\", \".TXT\"))]:\n",
    "                # Class name = dir name\n",
    "                class_name = _dir\n",
    "                #Read File\n",
    "                file_name = os.path.join(root, _dir, txt_file)\n",
    "                file = open(file_name, \"r\")\n",
    "                txt = file.read()\n",
    "                file.close()\n",
    "                if sentence_level:\n",
    "                    # Txt to List[Sentences]\n",
    "                    sentences = sent_tokenize(txt)\n",
    "                    # Abstracts\n",
    "                    for sentence in sentences:\n",
    "                        data[\"text\"].append(sentence)\n",
    "                        data[\"class\"].append(get_label_id(class_name))\n",
    "                else:\n",
    "                    data[\"text\"].append(text)\n",
    "                    data[\"class\"].append(get_label_id(class_name))\n",
    "    df = pd.DataFrame.from_dict(data)\n",
    "    del data\n",
    "    return df"
   ]
  },
  {
   "cell_type": "code",
   "execution_count": 13,
   "metadata": {},
   "outputs": [
    {
     "name": "stdout",
     "output_type": "stream",
     "text": [
      "CPU times: user 4.86 s, sys: 1.13 s, total: 5.99 s\n",
      "Wall time: 7.33 s\n"
     ]
    }
   ],
   "source": [
    "%%time\n",
    "df = read_data(data_dir)"
   ]
  },
  {
   "cell_type": "markdown",
   "metadata": {},
   "source": [
    "## Data Overview"
   ]
  },
  {
   "cell_type": "code",
   "execution_count": 14,
   "metadata": {},
   "outputs": [
    {
     "data": {
      "text/html": [
       "<div>\n",
       "<style scoped>\n",
       "    .dataframe tbody tr th:only-of-type {\n",
       "        vertical-align: middle;\n",
       "    }\n",
       "\n",
       "    .dataframe tbody tr th {\n",
       "        vertical-align: top;\n",
       "    }\n",
       "\n",
       "    .dataframe thead th {\n",
       "        text-align: right;\n",
       "    }\n",
       "</style>\n",
       "<table border=\"1\" class=\"dataframe\">\n",
       "  <thead>\n",
       "    <tr style=\"text-align: right;\">\n",
       "      <th></th>\n",
       "      <th>text</th>\n",
       "      <th>class</th>\n",
       "    </tr>\n",
       "  </thead>\n",
       "  <tbody>\n",
       "    <tr>\n",
       "      <th>21835</th>\n",
       "      <td>Particularly, the\\nMMC network is developed to...</td>\n",
       "      <td>1</td>\n",
       "    </tr>\n",
       "    <tr>\n",
       "      <th>15088</th>\n",
       "      <td>The function parameters are searched with an e...</td>\n",
       "      <td>1</td>\n",
       "    </tr>\n",
       "    <tr>\n",
       "      <th>1424</th>\n",
       "      <td>Numerous social, medical, engineering and biol...</td>\n",
       "      <td>3</td>\n",
       "    </tr>\n",
       "    <tr>\n",
       "      <th>14510</th>\n",
       "      <td>Traditional EM imaging based on\\nhomogeneous r...</td>\n",
       "      <td>1</td>\n",
       "    </tr>\n",
       "    <tr>\n",
       "      <th>34320</th>\n",
       "      <td>Work on clustering similar households has conc...</td>\n",
       "      <td>0</td>\n",
       "    </tr>\n",
       "  </tbody>\n",
       "</table>\n",
       "</div>"
      ],
      "text/plain": [
       "                                                    text  class\n",
       "21835  Particularly, the\\nMMC network is developed to...      1\n",
       "15088  The function parameters are searched with an e...      1\n",
       "1424   Numerous social, medical, engineering and biol...      3\n",
       "14510  Traditional EM imaging based on\\nhomogeneous r...      1\n",
       "34320  Work on clustering similar households has conc...      0"
      ]
     },
     "execution_count": 14,
     "metadata": {},
     "output_type": "execute_result"
    }
   ],
   "source": [
    "df.sample(frac=1).head()"
   ]
  },
  {
   "cell_type": "code",
   "execution_count": 15,
   "metadata": {},
   "outputs": [
    {
     "name": "stdout",
     "output_type": "stream",
     "text": [
      "<class 'pandas.core.frame.DataFrame'>\n",
      "RangeIndex: 58243 entries, 0 to 58242\n",
      "Data columns (total 2 columns):\n",
      "text     58243 non-null object\n",
      "class    58243 non-null int64\n",
      "dtypes: int64(1), object(1)\n",
      "memory usage: 910.1+ KB\n"
     ]
    }
   ],
   "source": [
    "df.info()"
   ]
  },
  {
   "cell_type": "markdown",
   "metadata": {},
   "source": [
    "## Train and Test Split"
   ]
  },
  {
   "cell_type": "code",
   "execution_count": 16,
   "metadata": {},
   "outputs": [],
   "source": [
    "df = shuffle(df) # Shuffle the DataFrame\n",
    "X, Y = train_test_split(df, test_size=0.2, random_state = 101)"
   ]
  },
  {
   "cell_type": "code",
   "execution_count": 17,
   "metadata": {},
   "outputs": [
    {
     "data": {
      "text/html": [
       "<div>\n",
       "<style scoped>\n",
       "    .dataframe tbody tr th:only-of-type {\n",
       "        vertical-align: middle;\n",
       "    }\n",
       "\n",
       "    .dataframe tbody tr th {\n",
       "        vertical-align: top;\n",
       "    }\n",
       "\n",
       "    .dataframe thead th {\n",
       "        text-align: right;\n",
       "    }\n",
       "</style>\n",
       "<table border=\"1\" class=\"dataframe\">\n",
       "  <thead>\n",
       "    <tr style=\"text-align: right;\">\n",
       "      <th></th>\n",
       "      <th>text</th>\n",
       "      <th>class</th>\n",
       "    </tr>\n",
       "  </thead>\n",
       "  <tbody>\n",
       "    <tr>\n",
       "      <th>11774</th>\n",
       "      <td>In this paper, we present a method to reveal v...</td>\n",
       "      <td>3</td>\n",
       "    </tr>\n",
       "    <tr>\n",
       "      <th>18209</th>\n",
       "      <td>Brain computer interface is the current area o...</td>\n",
       "      <td>1</td>\n",
       "    </tr>\n",
       "    <tr>\n",
       "      <th>19217</th>\n",
       "      <td>As such, SBIC uses an embedded mechanism for s...</td>\n",
       "      <td>1</td>\n",
       "    </tr>\n",
       "  </tbody>\n",
       "</table>\n",
       "</div>"
      ],
      "text/plain": [
       "                                                    text  class\n",
       "11774  In this paper, we present a method to reveal v...      3\n",
       "18209  Brain computer interface is the current area o...      1\n",
       "19217  As such, SBIC uses an embedded mechanism for s...      1"
      ]
     },
     "execution_count": 17,
     "metadata": {},
     "output_type": "execute_result"
    }
   ],
   "source": [
    "X.head(3)"
   ]
  },
  {
   "cell_type": "code",
   "execution_count": 18,
   "metadata": {},
   "outputs": [
    {
     "data": {
      "text/html": [
       "<div>\n",
       "<style scoped>\n",
       "    .dataframe tbody tr th:only-of-type {\n",
       "        vertical-align: middle;\n",
       "    }\n",
       "\n",
       "    .dataframe tbody tr th {\n",
       "        vertical-align: top;\n",
       "    }\n",
       "\n",
       "    .dataframe thead th {\n",
       "        text-align: right;\n",
       "    }\n",
       "</style>\n",
       "<table border=\"1\" class=\"dataframe\">\n",
       "  <thead>\n",
       "    <tr style=\"text-align: right;\">\n",
       "      <th></th>\n",
       "      <th>text</th>\n",
       "      <th>class</th>\n",
       "    </tr>\n",
       "  </thead>\n",
       "  <tbody>\n",
       "    <tr>\n",
       "      <th>37474</th>\n",
       "      <td>Extensive simulations\\nshow the superior perfo...</td>\n",
       "      <td>0</td>\n",
       "    </tr>\n",
       "    <tr>\n",
       "      <th>56133</th>\n",
       "      <td>For these estimators we prove Fisher-consisten...</td>\n",
       "      <td>2</td>\n",
       "    </tr>\n",
       "    <tr>\n",
       "      <th>5910</th>\n",
       "      <td>Probabilistic k-nearest neighbour (PKNN) class...</td>\n",
       "      <td>3</td>\n",
       "    </tr>\n",
       "  </tbody>\n",
       "</table>\n",
       "</div>"
      ],
      "text/plain": [
       "                                                    text  class\n",
       "37474  Extensive simulations\\nshow the superior perfo...      0\n",
       "56133  For these estimators we prove Fisher-consisten...      2\n",
       "5910   Probabilistic k-nearest neighbour (PKNN) class...      3"
      ]
     },
     "execution_count": 18,
     "metadata": {},
     "output_type": "execute_result"
    }
   ],
   "source": [
    "Y.head(3)"
   ]
  },
  {
   "cell_type": "code",
   "execution_count": 19,
   "metadata": {},
   "outputs": [
    {
     "name": "stdout",
     "output_type": "stream",
     "text": [
      "Train Data: \n",
      "\n",
      "<class 'pandas.core.frame.DataFrame'>\n",
      "Int64Index: 46594 entries, 11774 to 54040\n",
      "Data columns (total 2 columns):\n",
      "text     46594 non-null object\n",
      "class    46594 non-null int64\n",
      "dtypes: int64(1), object(1)\n",
      "memory usage: 1.1+ MB\n",
      "None\n",
      "\n",
      " Test Data: \n",
      "\n",
      "<class 'pandas.core.frame.DataFrame'>\n",
      "Int64Index: 11649 entries, 37474 to 25986\n",
      "Data columns (total 2 columns):\n",
      "text     11649 non-null object\n",
      "class    11649 non-null int64\n",
      "dtypes: int64(1), object(1)\n",
      "memory usage: 273.0+ KB\n",
      "None\n"
     ]
    }
   ],
   "source": [
    "print(\"Train Data: \\n\")\n",
    "print(X.info())\n",
    "print(\"\\n Test Data: \\n\")\n",
    "print(Y.info())"
   ]
  },
  {
   "cell_type": "markdown",
   "metadata": {},
   "source": [
    "## Training"
   ]
  },
  {
   "cell_type": "markdown",
   "metadata": {},
   "source": [
    "### Constructing Feature Columns"
   ]
  },
  {
   "cell_type": "code",
   "execution_count": 20,
   "metadata": {},
   "outputs": [
    {
     "name": "stdout",
     "output_type": "stream",
     "text": [
      "CPU times: user 116 ms, sys: 8.87 ms, total: 125 ms\n",
      "Wall time: 131 ms\n"
     ]
    }
   ],
   "source": [
    "%%time\n",
    "tf.logging.set_verbosity(tf.logging.INFO)\n",
    "embedded_text_feature_column = hub.text_embedding_column(\n",
    "    key=\"text\", \n",
    "    module_spec=embedding_model_url,\n",
    "    trainable = True)"
   ]
  },
  {
   "cell_type": "code",
   "execution_count": 21,
   "metadata": {},
   "outputs": [],
   "source": [
    "tf.logging.set_verbosity(tf.logging.ERROR) # Reduce the stupid tf-warnings"
   ]
  },
  {
   "cell_type": "code",
   "execution_count": 22,
   "metadata": {},
   "outputs": [],
   "source": [
    "estimator = tf.estimator.DNNClassifier(\n",
    "    hidden_units= hidden_units,\n",
    "    feature_columns=[embedded_text_feature_column],\n",
    "    model_dir = classifier_dir,\n",
    "    activation_fn=activation_fn,\n",
    "    n_classes=num_classes,\n",
    "    dropout = dropout,\n",
    "    batch_norm=batch_normalization,\n",
    "    optimizer=optimizer)"
   ]
  },
  {
   "cell_type": "markdown",
   "metadata": {},
   "source": [
    "### Defining Input Functions"
   ]
  },
  {
   "cell_type": "code",
   "execution_count": 23,
   "metadata": {},
   "outputs": [],
   "source": [
    "# Training input on the whole training set with no limit on training epochs.\n",
    "train_input_fn = tf.estimator.inputs.pandas_input_fn(\n",
    "    X, \n",
    "    X[\"class\"],\n",
    "    num_epochs=num_epochs,\n",
    "    batch_size= batch_size,\n",
    "    shuffle = False)\n",
    "\n",
    "# Prediction on the whole training set.\n",
    "predict_train_input_fn = tf.estimator.inputs.pandas_input_fn(\n",
    "    X, X[\"class\"], shuffle=False)\n",
    "\n",
    "# Prediction on the test set.\n",
    "predict_test_input_fn = tf.estimator.inputs.pandas_input_fn(\n",
    "    Y, Y[\"class\"], shuffle=False)"
   ]
  },
  {
   "cell_type": "markdown",
   "metadata": {},
   "source": [
    "### Training of the Classifier"
   ]
  },
  {
   "cell_type": "code",
   "execution_count": 24,
   "metadata": {},
   "outputs": [
    {
     "name": "stdout",
     "output_type": "stream",
     "text": [
      "WARNING:tensorflow:From /anaconda3/envs/rs/lib/python3.6/site-packages/tensorflow/python/estimator/inputs/queues/feeding_queue_runner.py:62: QueueRunner.__init__ (from tensorflow.python.training.queue_runner_impl) is deprecated and will be removed in a future version.\n",
      "Instructions for updating:\n",
      "To construct input pipelines, use the `tf.data` module.\n",
      "WARNING:tensorflow:From /anaconda3/envs/rs/lib/python3.6/site-packages/tensorflow/python/estimator/inputs/queues/feeding_functions.py:500: add_queue_runner (from tensorflow.python.training.queue_runner_impl) is deprecated and will be removed in a future version.\n",
      "Instructions for updating:\n",
      "To construct input pipelines, use the `tf.data` module.\n",
      "INFO:tensorflow:Calling model_fn.\n",
      "INFO:tensorflow:Saver not created because there are no variables in the graph to restore\n",
      "INFO:tensorflow:Saver not created because there are no variables in the graph to restore\n",
      "INFO:tensorflow:Done calling model_fn.\n",
      "INFO:tensorflow:Create CheckpointSaverHook.\n",
      "INFO:tensorflow:Graph was finalized.\n",
      "INFO:tensorflow:Running local_init_op.\n",
      "INFO:tensorflow:Done running local_init_op.\n",
      "WARNING:tensorflow:From /anaconda3/envs/rs/lib/python3.6/site-packages/tensorflow/python/training/monitored_session.py:804: start_queue_runners (from tensorflow.python.training.queue_runner_impl) is deprecated and will be removed in a future version.\n",
      "Instructions for updating:\n",
      "To construct input pipelines, use the `tf.data` module.\n",
      "INFO:tensorflow:Saving checkpoints for 0 into /Users/Daniel/PycharmProjects/Recommender-System/notebooks/test_model/model.ckpt.\n",
      "INFO:tensorflow:loss = 13.930591, step = 1\n",
      "INFO:tensorflow:Saving checkpoints for 1 into /Users/Daniel/PycharmProjects/Recommender-System/notebooks/test_model/model.ckpt.\n",
      "INFO:tensorflow:Loss for final step: 13.930591.\n",
      "CPU times: user 59.2 s, sys: 21.4 s, total: 1min 20s\n",
      "Wall time: 1min 19s\n"
     ]
    }
   ],
   "source": [
    "%%time\n",
    "tf.logging.set_verbosity(tf.logging.INFO)\n",
    "estimator.train(input_fn=train_input_fn, steps=training_steps);"
   ]
  },
  {
   "cell_type": "markdown",
   "metadata": {},
   "source": [
    "## Evaluation"
   ]
  },
  {
   "cell_type": "code",
   "execution_count": 36,
   "metadata": {},
   "outputs": [],
   "source": [
    "tf.logging.set_verbosity(tf.logging.ERROR)"
   ]
  },
  {
   "cell_type": "code",
   "execution_count": 37,
   "metadata": {},
   "outputs": [],
   "source": [
    "def get_predictions(estimator, input_fn):\n",
    "    return [x[\"class_ids\"][0] for x in estimator.predict(input_fn=input_fn)]"
   ]
  },
  {
   "cell_type": "code",
   "execution_count": 38,
   "metadata": {},
   "outputs": [],
   "source": [
    "labels = [\"clustering\", \"association\", \"regression\", \"classification\"]"
   ]
  },
  {
   "cell_type": "markdown",
   "metadata": {},
   "source": [
    "### Insampling"
   ]
  },
  {
   "cell_type": "code",
   "execution_count": 39,
   "metadata": {},
   "outputs": [
    {
     "name": "stdout",
     "output_type": "stream",
     "text": [
      "Results: \n",
      "\n",
      "{'accuracy': 0.25599864, 'average_loss': 1.3835783, 'loss': 176.62039, 'global_step': 1}\n"
     ]
    }
   ],
   "source": [
    "results = estimator.evaluate(input_fn=predict_train_input_fn)\n",
    "\n",
    "print(\"Results: \\n\")\n",
    "print(results)"
   ]
  },
  {
   "cell_type": "code",
   "execution_count": 41,
   "metadata": {},
   "outputs": [
    {
     "data": {
      "image/png": "[encoded data removed]",
      "text/plain": [
       "<Figure size 432x288 with 2 Axes>"
      ]
     },
     "metadata": {
      "needs_background": "light"
     },
     "output_type": "display_data"
    }
   ],
   "source": [
    "with tf.Graph().as_default():\n",
    "    cm = tf.confusion_matrix(X[\"class\"], get_predictions(estimator, predict_train_input_fn))\n",
    "    with tf.Session() as session:\n",
    "        cm_out = session.run(cm)\n",
    "\n",
    "# Normalize the confusion matrix so that each row sums to 1.\n",
    "cm_out = cm_out.astype(float) / cm_out.sum(axis=1)[:, np.newaxis]\n",
    "\n",
    "sns.heatmap(cm_out, annot=True, xticklabels=labels, yticklabels=labels);\n",
    "plt.xlabel(\"Predicted\");\n",
    "plt.ylabel(\"True\");"
   ]
  },
  {
   "cell_type": "markdown",
   "metadata": {},
   "source": [
    "### Outsampling"
   ]
  },
  {
   "cell_type": "code",
   "execution_count": 42,
   "metadata": {},
   "outputs": [
    {
     "name": "stdout",
     "output_type": "stream",
     "text": [
      "Results: \n",
      "\n",
      "{'accuracy': 0.25452828, 'average_loss': 1.3835768, 'loss': 175.18788, 'global_step': 1}\n"
     ]
    }
   ],
   "source": [
    "results = estimator.evaluate(input_fn=predict_test_input_fn)\n",
    "\n",
    "print(\"Results: \\n\")\n",
    "print(results)"
   ]
  },
  {
   "cell_type": "code",
   "execution_count": 43,
   "metadata": {},
   "outputs": [
    {
     "data": {
      "image/png": "[encoded data removed]",
      "text/plain": [
       "<Figure size 432x288 with 2 Axes>"
      ]
     },
     "metadata": {
      "needs_background": "light"
     },
     "output_type": "display_data"
    }
   ],
   "source": [
    "with tf.Graph().as_default():\n",
    "    cm = tf.confusion_matrix(Y[\"class\"], get_predictions(estimator, predict_test_input_fn))\n",
    "    with tf.Session() as session:\n",
    "        cm_out = session.run(cm)\n",
    "\n",
    "# Normalize the confusion matrix so that each row sums to 1.\n",
    "cm_out = cm_out.astype(float) / cm_out.sum(axis=1)[:, np.newaxis]\n",
    "\n",
    "sns.heatmap(cm_out, annot=True, xticklabels=labels, yticklabels=labels);\n",
    "plt.xlabel(\"Predicted\");\n",
    "plt.ylabel(\"True\");"
   ]
  },
  {
   "cell_type": "markdown",
   "metadata": {},
   "source": [
    "### Test Set"
   ]
  },
  {
   "cell_type": "markdown",
   "metadata": {},
   "source": [
    "#### Read Test Data"
   ]
  },
  {
   "cell_type": "code",
   "execution_count": 52,
   "metadata": {},
   "outputs": [],
   "source": [
    "df_test = read_data(test_dir, sentence_level = False)"
   ]
  },
  {
   "cell_type": "code",
   "execution_count": 54,
   "metadata": {},
   "outputs": [
    {
     "data": {
      "text/html": [
       "<div>\n",
       "<style scoped>\n",
       "    .dataframe tbody tr th:only-of-type {\n",
       "        vertical-align: middle;\n",
       "    }\n",
       "\n",
       "    .dataframe tbody tr th {\n",
       "        vertical-align: top;\n",
       "    }\n",
       "\n",
       "    .dataframe thead th {\n",
       "        text-align: right;\n",
       "    }\n",
       "</style>\n",
       "<table border=\"1\" class=\"dataframe\">\n",
       "  <thead>\n",
       "    <tr style=\"text-align: right;\">\n",
       "      <th></th>\n",
       "      <th>text</th>\n",
       "      <th>class</th>\n",
       "    </tr>\n",
       "  </thead>\n",
       "  <tbody>\n",
       "    <tr>\n",
       "      <th>4</th>\n",
       "      <td>The main objective is to detect different car ...</td>\n",
       "      <td>3</td>\n",
       "    </tr>\n",
       "    <tr>\n",
       "      <th>2</th>\n",
       "      <td>Given a arbitrary text of the world library th...</td>\n",
       "      <td>3</td>\n",
       "    </tr>\n",
       "    <tr>\n",
       "      <th>1</th>\n",
       "      <td>Not based on numerical features.</td>\n",
       "      <td>3</td>\n",
       "    </tr>\n",
       "    <tr>\n",
       "      <th>0</th>\n",
       "      <td>I want a forecasting of the used machine types...</td>\n",
       "      <td>3</td>\n",
       "    </tr>\n",
       "    <tr>\n",
       "      <th>3</th>\n",
       "      <td>The project describes the problem of recognizi...</td>\n",
       "      <td>3</td>\n",
       "    </tr>\n",
       "  </tbody>\n",
       "</table>\n",
       "</div>"
      ],
      "text/plain": [
       "                                                text  class\n",
       "4  The main objective is to detect different car ...      3\n",
       "2  Given a arbitrary text of the world library th...      3\n",
       "1                   Not based on numerical features.      3\n",
       "0  I want a forecasting of the used machine types...      3\n",
       "3  The project describes the problem of recognizi...      3"
      ]
     },
     "execution_count": 54,
     "metadata": {},
     "output_type": "execute_result"
    }
   ],
   "source": [
    "shuffle(df_test.head(5))"
   ]
  },
  {
   "cell_type": "markdown",
   "metadata": {},
   "source": [
    "#### Defining Input Function"
   ]
  },
  {
   "cell_type": "code",
   "execution_count": 55,
   "metadata": {},
   "outputs": [],
   "source": [
    "# Prediction on the whole training set.\n",
    "predict_test_input_fn = tf.estimator.inputs.pandas_input_fn(\n",
    "    df_test, df_test[\"class\"], shuffle=True)"
   ]
  },
  {
   "cell_type": "markdown",
   "metadata": {},
   "source": [
    "#### Evaluation of Test Set"
   ]
  },
  {
   "cell_type": "code",
   "execution_count": 56,
   "metadata": {},
   "outputs": [
    {
     "name": "stdout",
     "output_type": "stream",
     "text": [
      "Results: \n",
      "\n",
      "{'accuracy': 0.3, 'average_loss': 1.3803766, 'loss': 27.607533, 'global_step': 1}\n"
     ]
    }
   ],
   "source": [
    "results = estimator.evaluate(input_fn=predict_test_input_fn)\n",
    "\n",
    "print(\"Results: \\n\")\n",
    "print(results)"
   ]
  },
  {
   "cell_type": "code",
   "execution_count": 57,
   "metadata": {},
   "outputs": [
    {
     "data": {
      "image/png": "[encoded data removed]",
      "text/plain": [
       "<Figure size 432x288 with 2 Axes>"
      ]
     },
     "metadata": {
      "needs_background": "light"
     },
     "output_type": "display_data"
    }
   ],
   "source": [
    "with tf.Graph().as_default():\n",
    "    cm = tf.confusion_matrix(df_test[\"class\"], get_predictions(estimator, predict_test_input_fn))\n",
    "    with tf.Session() as session:\n",
    "        cm_out = session.run(cm)\n",
    "\n",
    "# Normalize the confusion matrix so that each row sums to 1.\n",
    "cm_out = cm_out.astype(float) / cm_out.sum(axis=1)[:, np.newaxis]\n",
    "\n",
    "sns.heatmap(cm_out, annot=True, xticklabels=labels, yticklabels=labels);\n",
    "plt.xlabel(\"Predicted\");\n",
    "plt.ylabel(\"True\");"
   ]
  },
  {
   "cell_type": "markdown",
   "metadata": {},
   "source": [
    "### Semantic Textual Similarity"
   ]
  },
  {
   "cell_type": "markdown",
   "metadata": {},
   "source": [
    "#### Function and Sentences for Similarity Matrix"
   ]
  },
  {
   "cell_type": "code",
   "execution_count": 58,
   "metadata": {},
   "outputs": [],
   "source": [
    "def plot_similarity(labels, features, rotation):\n",
    "    corr = np.inner(features, features)\n",
    "    sns.set(font_scale=1.2)\n",
    "    g = sns.heatmap(\n",
    "      corr,\n",
    "      xticklabels=labels,\n",
    "      yticklabels=labels,\n",
    "      vmin=0,\n",
    "      vmax=1,\n",
    "      cmap=\"YlOrRd\")\n",
    "    g.set_xticklabels(labels, rotation=rotation)\n",
    "    g.set_title(\"Semantic Textual Similarity\")\n",
    "\n",
    "\n",
    "def run_and_plot(session_, input_tensor_, messages_, encoding_tensor):\n",
    "    message_embeddings_ = session_.run(\n",
    "      encoding_tensor, feed_dict={input_tensor_: messages_})\n",
    "    plot_similarity(messages_, message_embeddings_, 90)"
   ]
  },
  {
   "cell_type": "code",
   "execution_count": 62,
   "metadata": {},
   "outputs": [],
   "source": [
    "clustering_0 = \"finding similar groups\"\n",
    "clustering_1 = \"clustering things\"\n",
    "pattern_mining_0 = \"analysing sequences\"\n",
    "pattern_mining_1 = \"finding pattern\"\n",
    "classification_0 = \"predicting categorical types\"\n",
    "classification_1 = \"classifing objects\"\n",
    "regression_0 = \"predicting prices\"\n",
    "regression_1 = \"forecasting numbers\"\n",
    "\n",
    "messages = [clustering_0,\n",
    "            clustering_1,\n",
    "            pattern_mining_0,\n",
    "            pattern_mining_1,\n",
    "            classification_0,\n",
    "            classification_1,\n",
    "            regression_0,\n",
    "            regression_1]"
   ]
  },
  {
   "cell_type": "markdown",
   "metadata": {},
   "source": [
    "#### Similarity Matrix"
   ]
  },
  {
   "cell_type": "code",
   "execution_count": 64,
   "metadata": {},
   "outputs": [
    {
     "name": "stdout",
     "output_type": "stream",
     "text": [
      "CPU times: user 1.53 s, sys: 41.5 ms, total: 1.57 s\n",
      "Wall time: 1.59 s\n"
     ]
    }
   ],
   "source": [
    "%%time\n",
    "# Initial download takes a while till the model is downloaded from tf-hub (~1GB)\n",
    "tf.logging.set_verbosity(tf.logging.INFO)\n",
    "model = hub.Module(embedding_model_url, trainable = False) # trainable = True for Transfer Learning!!"
   ]
  },
  {
   "cell_type": "code",
   "execution_count": 65,
   "metadata": {},
   "outputs": [
    {
     "name": "stdout",
     "output_type": "stream",
     "text": [
      "INFO:tensorflow:Saver not created because there are no variables in the graph to restore\n"
     ]
    },
    {
     "data": {
      "image/png": "[encoded data removed]",
      "text/plain": [
       "<Figure size 432x288 with 2 Axes>"
      ]
     },
     "metadata": {},
     "output_type": "display_data"
    }
   ],
   "source": [
    "similarity_input_placeholder = tf.placeholder(tf.string, shape=(None))\n",
    "similarity_message_encodings = model(similarity_input_placeholder)\n",
    "\n",
    "with tf.Session() as session:\n",
    "    session.run(tf.global_variables_initializer())\n",
    "    session.run(tf.tables_initializer())\n",
    "    \n",
    "    run_and_plot(session, similarity_input_placeholder, messages,\n",
    "               similarity_message_encodings)"
   ]
  },
  {
   "cell_type": "markdown",
   "metadata": {},
   "source": [
    "## Inference for each Test Data File"
   ]
  },
  {
   "cell_type": "code",
   "execution_count": 80,
   "metadata": {},
   "outputs": [],
   "source": [
    "df_inference = pd.DataFrame.from_dict({\"text\": df_test[\"text\"]})\n",
    "inference_func = tf.estimator.inputs.pandas_input_fn(df_inference, shuffle=False)"
   ]
  },
  {
   "cell_type": "code",
   "execution_count": 89,
   "metadata": {},
   "outputs": [],
   "source": [
    "results = estimator.predict(inference_func)\n",
    "y = []\n",
    "probs =[]\n",
    "for x in results:\n",
    "    y.append(x[\"class_ids\"])\n",
    "    probs.append(x[\"probabilities\"])\n",
    "df_test[\"predicted\"] = y\n",
    "df_test[\"probs\"] = probs"
   ]
  },
  {
   "cell_type": "code",
   "execution_count": 90,
   "metadata": {},
   "outputs": [
    {
     "data": {
      "text/html": [
       "<div>\n",
       "<style scoped>\n",
       "    .dataframe tbody tr th:only-of-type {\n",
       "        vertical-align: middle;\n",
       "    }\n",
       "\n",
       "    .dataframe tbody tr th {\n",
       "        vertical-align: top;\n",
       "    }\n",
       "\n",
       "    .dataframe thead th {\n",
       "        text-align: right;\n",
       "    }\n",
       "</style>\n",
       "<table border=\"1\" class=\"dataframe\">\n",
       "  <thead>\n",
       "    <tr style=\"text-align: right;\">\n",
       "      <th></th>\n",
       "      <th>text</th>\n",
       "      <th>class</th>\n",
       "      <th>predicted</th>\n",
       "      <th>probs</th>\n",
       "    </tr>\n",
       "  </thead>\n",
       "  <tbody>\n",
       "    <tr>\n",
       "      <th>0</th>\n",
       "      <td>I want a forecasting of the used machine types in my assembly line.</td>\n",
       "      <td>3</td>\n",
       "      <td>[0]</td>\n",
       "      <td>[0.26093316, 0.25915012, 0.25016004, 0.22975671]</td>\n",
       "    </tr>\n",
       "    <tr>\n",
       "      <th>1</th>\n",
       "      <td>Not based on numerical features.</td>\n",
       "      <td>3</td>\n",
       "      <td>[0]</td>\n",
       "      <td>[0.25667354, 0.25535163, 0.24522372, 0.24275109]</td>\n",
       "    </tr>\n",
       "    <tr>\n",
       "      <th>2</th>\n",
       "      <td>Given a arbitrary text of the world library the software should classify the author.</td>\n",
       "      <td>3</td>\n",
       "      <td>[0]</td>\n",
       "      <td>[0.26328275, 0.25517595, 0.23295455, 0.24858673]</td>\n",
       "    </tr>\n",
       "    <tr>\n",
       "      <th>3</th>\n",
       "      <td>The project describes the problem of recognizing objects in images.</td>\n",
       "      <td>3</td>\n",
       "      <td>[0]</td>\n",
       "      <td>[0.26405403, 0.24664634, 0.24863827, 0.24066138]</td>\n",
       "    </tr>\n",
       "    <tr>\n",
       "      <th>4</th>\n",
       "      <td>The main objective is to detect different car brands in one picture.</td>\n",
       "      <td>3</td>\n",
       "      <td>[0]</td>\n",
       "      <td>[0.26617894, 0.25238276, 0.23944362, 0.24199477]</td>\n",
       "    </tr>\n",
       "    <tr>\n",
       "      <th>5</th>\n",
       "      <td>The purpose of this project is to segment supply chain partners in the automobile industry, according to their provided quality.</td>\n",
       "      <td>0</td>\n",
       "      <td>[0]</td>\n",
       "      <td>[0.2643476, 0.25394645, 0.25034013, 0.23136574]</td>\n",
       "    </tr>\n",
       "    <tr>\n",
       "      <th>6</th>\n",
       "      <td>Our company has a variety of different costumers.</td>\n",
       "      <td>0</td>\n",
       "      <td>[0]</td>\n",
       "      <td>[0.26106918, 0.25313938, 0.24082673, 0.24496472]</td>\n",
       "    </tr>\n",
       "    <tr>\n",
       "      <th>7</th>\n",
       "      <td>Based on the costumer types as well of their revenues, different costumer groups should be found.</td>\n",
       "      <td>0</td>\n",
       "      <td>[0]</td>\n",
       "      <td>[0.26276815, 0.24651077, 0.25111374, 0.23960736]</td>\n",
       "    </tr>\n",
       "    <tr>\n",
       "      <th>8</th>\n",
       "      <td>I want to group my machines according to their energy consumption.</td>\n",
       "      <td>0</td>\n",
       "      <td>[1]</td>\n",
       "      <td>[0.2512538, 0.2602064, 0.24818558, 0.24035424]</td>\n",
       "    </tr>\n",
       "    <tr>\n",
       "      <th>9</th>\n",
       "      <td>Machines with a similar energy consumption should be grouped together.</td>\n",
       "      <td>0</td>\n",
       "      <td>[0]</td>\n",
       "      <td>[0.26045293, 0.25245857, 0.2506396, 0.23644893]</td>\n",
       "    </tr>\n",
       "    <tr>\n",
       "      <th>10</th>\n",
       "      <td>The number of the resulting classes doesnt matter.</td>\n",
       "      <td>0</td>\n",
       "      <td>[1]</td>\n",
       "      <td>[0.24592666, 0.2663798, 0.24155802, 0.24613555]</td>\n",
       "    </tr>\n",
       "    <tr>\n",
       "      <th>11</th>\n",
       "      <td>Based on our costumer data we want to extract interesting patterns in their consumer behavior.</td>\n",
       "      <td>1</td>\n",
       "      <td>[0]</td>\n",
       "      <td>[0.2588882, 0.25715548, 0.25211024, 0.2318461]</td>\n",
       "    </tr>\n",
       "    <tr>\n",
       "      <th>12</th>\n",
       "      <td>The last 2 years the XX-Company collected data of their machine errors.</td>\n",
       "      <td>1</td>\n",
       "      <td>[0]</td>\n",
       "      <td>[0.2616971, 0.25374013, 0.24392629, 0.2406365]</td>\n",
       "    </tr>\n",
       "    <tr>\n",
       "      <th>13</th>\n",
       "      <td>Based on those sequential data, a analysis should be performed to find different error patterns.</td>\n",
       "      <td>1</td>\n",
       "      <td>[1]</td>\n",
       "      <td>[0.2527789, 0.26298115, 0.24808773, 0.23615232]</td>\n",
       "    </tr>\n",
       "    <tr>\n",
       "      <th>14</th>\n",
       "      <td>I want to discover unseen relations and patterns in my costumer process.</td>\n",
       "      <td>1</td>\n",
       "      <td>[1]</td>\n",
       "      <td>[0.25628915, 0.26349157, 0.24307285, 0.23714647]</td>\n",
       "    </tr>\n",
       "    <tr>\n",
       "      <th>15</th>\n",
       "      <td>The goal of the analysis is to predict the price of each player in the FIFA Ultimate Market.</td>\n",
       "      <td>2</td>\n",
       "      <td>[0]</td>\n",
       "      <td>[0.2592065, 0.25442794, 0.24420492, 0.24216065]</td>\n",
       "    </tr>\n",
       "    <tr>\n",
       "      <th>16</th>\n",
       "      <td>Empirical collected data should be used to predict a the right sample size for our testing environment.</td>\n",
       "      <td>2</td>\n",
       "      <td>[0]</td>\n",
       "      <td>[0.25716513, 0.2565829, 0.24780308, 0.23844896]</td>\n",
       "    </tr>\n",
       "    <tr>\n",
       "      <th>17</th>\n",
       "      <td>In terms of a new product introduction, the price of a product should be predicted based on different characteristics like the size, equipment features or the buying power of the area.</td>\n",
       "      <td>2</td>\n",
       "      <td>[1]</td>\n",
       "      <td>[0.25787252, 0.26080233, 0.24848254, 0.23284261]</td>\n",
       "    </tr>\n",
       "    <tr>\n",
       "      <th>18</th>\n",
       "      <td>The analysis should evaluate the relationship between the weather and the amount of sold ice cream.</td>\n",
       "      <td>2</td>\n",
       "      <td>[0]</td>\n",
       "      <td>[0.25990802, 0.25224715, 0.25267377, 0.23517106]</td>\n",
       "    </tr>\n",
       "    <tr>\n",
       "      <th>19</th>\n",
       "      <td>More specific, it should be examined how much the temperature influences the revenue of the organization.</td>\n",
       "      <td>2</td>\n",
       "      <td>[0]</td>\n",
       "      <td>[0.2646936, 0.2548405, 0.2528931, 0.22757278]</td>\n",
       "    </tr>\n",
       "  </tbody>\n",
       "</table>\n",
       "</div>"
      ],
      "text/plain": [
       "                                                                                                                                                                                        text  \\\n",
       "0   I want a forecasting of the used machine types in my assembly line.                                                                                                                        \n",
       "1   Not based on numerical features.                                                                                                                                                           \n",
       "2   Given a arbitrary text of the world library the software should classify the author.                                                                                                       \n",
       "3   The project describes the problem of recognizing objects in images.                                                                                                                        \n",
       "4   The main objective is to detect different car brands in one picture.                                                                                                                       \n",
       "5   The purpose of this project is to segment supply chain partners in the automobile industry, according to their provided quality.                                                           \n",
       "6   Our company has a variety of different costumers.                                                                                                                                          \n",
       "7   Based on the costumer types as well of their revenues, different costumer groups should be found.                                                                                          \n",
       "8   I want to group my machines according to their energy consumption.                                                                                                                         \n",
       "9   Machines with a similar energy consumption should be grouped together.                                                                                                                     \n",
       "10  The number of the resulting classes doesnt matter.                                                                                                                                         \n",
       "11  Based on our costumer data we want to extract interesting patterns in their consumer behavior.                                                                                             \n",
       "12  The last 2 years the XX-Company collected data of their machine errors.                                                                                                                    \n",
       "13  Based on those sequential data, a analysis should be performed to find different error patterns.                                                                                           \n",
       "14  I want to discover unseen relations and patterns in my costumer process.                                                                                                                   \n",
       "15  The goal of the analysis is to predict the price of each player in the FIFA Ultimate Market.                                                                                               \n",
       "16  Empirical collected data should be used to predict a the right sample size for our testing environment.                                                                                    \n",
       "17  In terms of a new product introduction, the price of a product should be predicted based on different characteristics like the size, equipment features or the buying power of the area.   \n",
       "18  The analysis should evaluate the relationship between the weather and the amount of sold ice cream.                                                                                        \n",
       "19  More specific, it should be examined how much the temperature influences the revenue of the organization.                                                                                  \n",
       "\n",
       "    class predicted                                             probs  \n",
       "0   3      [0]       [0.26093316, 0.25915012, 0.25016004, 0.22975671]  \n",
       "1   3      [0]       [0.25667354, 0.25535163, 0.24522372, 0.24275109]  \n",
       "2   3      [0]       [0.26328275, 0.25517595, 0.23295455, 0.24858673]  \n",
       "3   3      [0]       [0.26405403, 0.24664634, 0.24863827, 0.24066138]  \n",
       "4   3      [0]       [0.26617894, 0.25238276, 0.23944362, 0.24199477]  \n",
       "5   0      [0]       [0.2643476, 0.25394645, 0.25034013, 0.23136574]   \n",
       "6   0      [0]       [0.26106918, 0.25313938, 0.24082673, 0.24496472]  \n",
       "7   0      [0]       [0.26276815, 0.24651077, 0.25111374, 0.23960736]  \n",
       "8   0      [1]       [0.2512538, 0.2602064, 0.24818558, 0.24035424]    \n",
       "9   0      [0]       [0.26045293, 0.25245857, 0.2506396, 0.23644893]   \n",
       "10  0      [1]       [0.24592666, 0.2663798, 0.24155802, 0.24613555]   \n",
       "11  1      [0]       [0.2588882, 0.25715548, 0.25211024, 0.2318461]    \n",
       "12  1      [0]       [0.2616971, 0.25374013, 0.24392629, 0.2406365]    \n",
       "13  1      [1]       [0.2527789, 0.26298115, 0.24808773, 0.23615232]   \n",
       "14  1      [1]       [0.25628915, 0.26349157, 0.24307285, 0.23714647]  \n",
       "15  2      [0]       [0.2592065, 0.25442794, 0.24420492, 0.24216065]   \n",
       "16  2      [0]       [0.25716513, 0.2565829, 0.24780308, 0.23844896]   \n",
       "17  2      [1]       [0.25787252, 0.26080233, 0.24848254, 0.23284261]  \n",
       "18  2      [0]       [0.25990802, 0.25224715, 0.25267377, 0.23517106]  \n",
       "19  2      [0]       [0.2646936, 0.2548405, 0.2528931, 0.22757278]     "
      ]
     },
     "execution_count": 90,
     "metadata": {},
     "output_type": "execute_result"
    }
   ],
   "source": [
    "pd.set_option('display.max_colwidth', -1)\n",
    "df_test"
   ]
  },
  {
   "cell_type": "code",
   "execution_count": null,
   "metadata": {},
   "outputs": [],
   "source": []
  }
 ],
 "metadata": {
  "kernelspec": {
   "display_name": "Python 3",
   "language": "python",
   "name": "python3"
  },
  "language_info": {
   "codemirror_mode": {
    "name": "ipython",
    "version": 3
   },
   "file_extension": ".py",
   "mimetype": "text/x-python",
   "name": "python",
   "nbconvert_exporter": "python",
   "pygments_lexer": "ipython3",
   "version": "3.6.5"
  },
  "toc": {
   "base_numbering": 1.0,
   "nav_menu": {},
   "number_sections": true,
   "sideBar": true,
   "skip_h1_title": false,
   "title_cell": "Table of Contents",
   "title_sidebar": "Contents",
   "toc_cell": false,
   "toc_position": {
    "height": "calc(100% - 180px)",
    "left": "10px",
    "top": "150px",
    "width": "220px"
   },
   "toc_section_display": true,
   "toc_window_display": true
  }
 },
 "nbformat": 4,
 "nbformat_minor": 2
}
