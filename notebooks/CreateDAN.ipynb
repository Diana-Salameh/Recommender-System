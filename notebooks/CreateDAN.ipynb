{
 "cells": [
  {
   "cell_type": "markdown",
   "metadata": {},
   "source": [
    "# Creating own DAN "
   ]
  },
  {
   "cell_type": "code",
   "execution_count": 1,
   "metadata": {},
   "outputs": [],
   "source": [
    "import os\n",
    "import tensorflow as tf\n",
    "# from keras.layers import Layer\n",
    "import numpy as np\n",
    "import pandas as pd\n",
    "from nltk.tokenize import word_tokenize\n",
    "from typing import *\n",
    "import pickle\n",
    "import random\n",
    "from nltk.tokenize import sent_tokenize\n",
    "import seaborn as sns"
   ]
  },
  {
   "cell_type": "markdown",
   "metadata": {},
   "source": [
    "## Reading Data"
   ]
  },
  {
   "cell_type": "code",
   "execution_count": 2,
   "metadata": {},
   "outputs": [],
   "source": [
    "data_dir = \"../datasets/cleaned_datasets/filtered_dataset\""
   ]
  },
  {
   "cell_type": "code",
   "execution_count": 3,
   "metadata": {},
   "outputs": [],
   "source": [
    "def read_data(_dir:str) -> pd.DataFrame:\n",
    "    data = {}\n",
    "    #data[\"url\"] = []\n",
    "    data[\"text\"] = []\n",
    "    data[\"class\"] = []\n",
    "    for root, dirs, files in os.walk(_dir):\n",
    "        for _dir in dirs: \n",
    "            for txt_file in [x for x in os.listdir(os.path.join(root, _dir)) if x.endswith((\".txt\", \".TXT\"))]:\n",
    "                # Class name = dir name\n",
    "                class_name = _dir\n",
    "                #Read File\n",
    "                file_name = os.path.abspath(os.path.join(root, _dir, txt_file))\n",
    "                file = open(file_name, \"r\")\n",
    "                txt = file.read()\n",
    "                file.close()\n",
    "                #data[\"url\"].append(file_name)\n",
    "                data[\"text\"].append(txt)\n",
    "                data[\"class\"].append(class_name)\n",
    "    df = pd.DataFrame.from_dict(data)\n",
    "    del data\n",
    "    return df"
   ]
  },
  {
   "cell_type": "code",
   "execution_count": 4,
   "metadata": {},
   "outputs": [],
   "source": [
    "df = read_data(data_dir).sample(frac = 1)"
   ]
  },
  {
   "cell_type": "code",
   "execution_count": 5,
   "metadata": {},
   "outputs": [
    {
     "data": {
      "text/html": [
       "<div>\n",
       "<style scoped>\n",
       "    .dataframe tbody tr th:only-of-type {\n",
       "        vertical-align: middle;\n",
       "    }\n",
       "\n",
       "    .dataframe tbody tr th {\n",
       "        vertical-align: top;\n",
       "    }\n",
       "\n",
       "    .dataframe thead th {\n",
       "        text-align: right;\n",
       "    }\n",
       "</style>\n",
       "<table border=\"1\" class=\"dataframe\">\n",
       "  <thead>\n",
       "    <tr style=\"text-align: right;\">\n",
       "      <th></th>\n",
       "      <th>text</th>\n",
       "      <th>class</th>\n",
       "    </tr>\n",
       "  </thead>\n",
       "  <tbody>\n",
       "    <tr>\n",
       "      <th>1307</th>\n",
       "      <td>however if discharge from hospital is treated ...</td>\n",
       "      <td>prediction</td>\n",
       "    </tr>\n",
       "    <tr>\n",
       "      <th>283</th>\n",
       "      <td>results and discussion in the present study co...</td>\n",
       "      <td>prediction</td>\n",
       "    </tr>\n",
       "    <tr>\n",
       "      <th>2128</th>\n",
       "      <td>multilabel classification is a challenging res...</td>\n",
       "      <td>prediction</td>\n",
       "    </tr>\n",
       "    <tr>\n",
       "      <th>3310</th>\n",
       "      <td>introduction combining multiple clusterings fo...</td>\n",
       "      <td>clustering</td>\n",
       "    </tr>\n",
       "    <tr>\n",
       "      <th>6721</th>\n",
       "      <td>in this paper we propose a novel method based ...</td>\n",
       "      <td>pattern_mining</td>\n",
       "    </tr>\n",
       "  </tbody>\n",
       "</table>\n",
       "</div>"
      ],
      "text/plain": [
       "                                                   text           class\n",
       "1307  however if discharge from hospital is treated ...      prediction\n",
       "283   results and discussion in the present study co...      prediction\n",
       "2128  multilabel classification is a challenging res...      prediction\n",
       "3310  introduction combining multiple clusterings fo...      clustering\n",
       "6721  in this paper we propose a novel method based ...  pattern_mining"
      ]
     },
     "execution_count": 5,
     "metadata": {},
     "output_type": "execute_result"
    }
   ],
   "source": [
    "df.head()"
   ]
  },
  {
   "cell_type": "markdown",
   "metadata": {},
   "source": [
    "## Creating One-Hot-Encodings"
   ]
  },
  {
   "cell_type": "code",
   "execution_count": 6,
   "metadata": {},
   "outputs": [],
   "source": [
    "from sklearn import preprocessing\n",
    "\n",
    "# Transform classes into dummies\n",
    "le = preprocessing.LabelEncoder()\n",
    "\n",
    "classes = df.drop([\"text\"], axis = 1)\n",
    "classes.apply(le.fit_transform)\n",
    "\n",
    "# Create One Hot Encodings\n",
    "enc = preprocessing.OneHotEncoder()\n",
    "enc.fit(classes)\n",
    "\n",
    "\n",
    "one_hot_encodings = enc.transform(classes)"
   ]
  },
  {
   "cell_type": "code",
   "execution_count": 7,
   "metadata": {},
   "outputs": [],
   "source": [
    "one_hot_encodings = one_hot_encodings.toarray()"
   ]
  },
  {
   "cell_type": "code",
   "execution_count": 8,
   "metadata": {},
   "outputs": [
    {
     "data": {
      "text/plain": [
       "(11874, 2)"
      ]
     },
     "execution_count": 8,
     "metadata": {},
     "output_type": "execute_result"
    }
   ],
   "source": [
    "df.shape"
   ]
  },
  {
   "cell_type": "markdown",
   "metadata": {},
   "source": [
    "## Embeddings"
   ]
  },
  {
   "cell_type": "code",
   "execution_count": 9,
   "metadata": {},
   "outputs": [],
   "source": [
    "class FastText():\n",
    "    \"\"\"\n",
    "    Loads the FastText model and get the Vectors.\n",
    "    \"\"\"\n",
    "\n",
    "    def __init__(self, **kwargs):\n",
    "        # super().__init__(**kwargs)\n",
    "        self.path = \"/Users/Daniel/PycharmProjects/Recommender-System/notebooks/FastText/ft_model_15000.pkl\"\n",
    "        self.__initialize_model()\n",
    "\n",
    "    def __initialize_model(self, **kwargs):\n",
    "        try:\n",
    "            tf.logging.info(\"FastText Model is loading\")\n",
    "            self.model = pickle.load(open(self.path, \"rb\"))\n",
    "            tf.logging.info(\"FastText Model loaded!\")\n",
    "        except Exception as e:\n",
    "            tf.logging.warning(\"Something went wrong while loading the FastText Model..\")\n",
    "            tf.logging.warning(e)\n",
    "\n",
    "    def inference(self, words: List[str]) -> np.ndarray:\n",
    "        embeddings = []\n",
    "        for word in words:\n",
    "            if self.model.wv.__contains__(word):\n",
    "                embeddings.append(self.model.wv.__getitem__(word))\n",
    "        return np.array(embeddings)\n"
   ]
  },
  {
   "cell_type": "code",
   "execution_count": 10,
   "metadata": {},
   "outputs": [
    {
     "name": "stdout",
     "output_type": "stream",
     "text": [
      "INFO:tensorflow:FastText Model is loading\n",
      "INFO:tensorflow:FastText Model loaded!\n"
     ]
    }
   ],
   "source": [
    "ft_path = \"/Users/Daniel/PycharmProjects/Recommender-System/notebooks/FastText/ft_model_15000.pkl\"\n",
    "fast_text_model = FastText()"
   ]
  },
  {
   "cell_type": "markdown",
   "metadata": {},
   "source": [
    "## Creating Layer\n",
    "We need: \n",
    "    1. Input Layer with Dropout\n",
    "    2. Average Layer\n",
    "    3. Dense Layer\n",
    "    4. Dense Layer (Classifier)\n",
    "    5. Output Softmax Layer"
   ]
  },
  {
   "cell_type": "code",
   "execution_count": 11,
   "metadata": {},
   "outputs": [],
   "source": [
    "paragraphs = [[\"this\", \"sucks\"], [\"hello\", \"my\", \"name\", \"is\", \"daniel\"],[\"clustering\", \"is\", \"amazing\"]]\n",
    "paragraphs_y = np.asarray([[0,1,0], [0,0,1], [1,0,0]])"
   ]
  },
  {
   "cell_type": "code",
   "execution_count": 12,
   "metadata": {},
   "outputs": [],
   "source": [
    "input_layer = fast_text_model.inference(paragraphs[1])"
   ]
  },
  {
   "cell_type": "code",
   "execution_count": 13,
   "metadata": {},
   "outputs": [
    {
     "data": {
      "text/plain": [
       "(5, 100)"
      ]
     },
     "execution_count": 13,
     "metadata": {},
     "output_type": "execute_result"
    }
   ],
   "source": [
    "input_layer.shape"
   ]
  },
  {
   "cell_type": "code",
   "execution_count": 14,
   "metadata": {},
   "outputs": [
    {
     "data": {
      "text/plain": [
       "(3, 3)"
      ]
     },
     "execution_count": 14,
     "metadata": {},
     "output_type": "execute_result"
    }
   ],
   "source": [
    "paragraphs_y.shape"
   ]
  },
  {
   "cell_type": "markdown",
   "metadata": {},
   "source": [
    "### Placeholder"
   ]
  },
  {
   "cell_type": "code",
   "execution_count": 15,
   "metadata": {},
   "outputs": [],
   "source": [
    "x_input = tf.placeholder(dtype = tf.float64, shape = (None, 100), name = \"placeholder_input\")"
   ]
  },
  {
   "cell_type": "code",
   "execution_count": 16,
   "metadata": {},
   "outputs": [],
   "source": [
    "y_true = tf.placeholder(dtype = tf.float64, shape = (None, 3), name = \"placeholder_y_true\")"
   ]
  },
  {
   "cell_type": "markdown",
   "metadata": {},
   "source": [
    "### Costumized Layers"
   ]
  },
  {
   "cell_type": "code",
   "execution_count": 17,
   "metadata": {},
   "outputs": [],
   "source": [
    "def dropout_layer(input_layer:np.ndarray ,dropout_prob:float = 0.2):\n",
    "    #dist = tf.contrib.distributions.Binomial(1, self.drop)\n",
    "    dist = 1 - np.random.binomial(1, dropout_prob, input_layer.shape[0])\n",
    "    return input_layer[dist.astype(bool)]"
   ]
  },
  {
   "cell_type": "code",
   "execution_count": 18,
   "metadata": {},
   "outputs": [],
   "source": [
    "dl = dropout_layer(input_layer)"
   ]
  },
  {
   "cell_type": "code",
   "execution_count": 19,
   "metadata": {},
   "outputs": [],
   "source": [
    "def average_layer(dropout_layer:np.ndarray, placeholder: tf.placeholder,name= \"average_layer\"):\n",
    "    with tf.name_scope(name):\n",
    "        average = tf.reduce_mean(input_tensor=placeholder, axis=0)\n",
    "        return tf.reshape(average, (1,-1), name = \"average_layer\")"
   ]
  },
  {
   "cell_type": "code",
   "execution_count": 20,
   "metadata": {},
   "outputs": [],
   "source": [
    "average = average_layer(dl, x_input)"
   ]
  },
  {
   "cell_type": "markdown",
   "metadata": {},
   "source": [
    "### Creating the Dense Layers for DAN"
   ]
  },
  {
   "cell_type": "code",
   "execution_count": 21,
   "metadata": {},
   "outputs": [],
   "source": [
    "dense_layer_1 = tf.layers.dense(inputs=average,\n",
    "                                      units=100,\n",
    "                                      activation=tf.nn.tanh,\n",
    "                                      use_bias=True,\n",
    "                                      trainable=True,\n",
    "                                      name=\"dense_layer_1\")"
   ]
  },
  {
   "cell_type": "code",
   "execution_count": 22,
   "metadata": {},
   "outputs": [],
   "source": [
    "dense_layer_2 = tf.layers.dense(inputs=dense_layer_1,\n",
    "                                      units=100,\n",
    "                                      activation=tf.nn.tanh,\n",
    "                                      use_bias=True,\n",
    "                                      trainable=True,\n",
    "                                      name=\"dense_layer_2\")"
   ]
  },
  {
   "cell_type": "code",
   "execution_count": 23,
   "metadata": {},
   "outputs": [],
   "source": [
    "dense_layer_3 = tf.layers.dense(inputs=dense_layer_2,\n",
    "                                      units=100,\n",
    "                                      activation=tf.nn.tanh,\n",
    "                                      use_bias=True,\n",
    "                                      trainable=True,\n",
    "                                      name=\"dense_layer_3\")"
   ]
  },
  {
   "cell_type": "code",
   "execution_count": 24,
   "metadata": {},
   "outputs": [],
   "source": [
    "dense_layer_4 = tf.layers.dense(inputs=dense_layer_3,\n",
    "                                      units=100,\n",
    "                                      activation=tf.nn.tanh,\n",
    "                                      use_bias=True,\n",
    "                                      trainable=True,\n",
    "                                      name=\"dense_layer_4\")"
   ]
  },
  {
   "cell_type": "markdown",
   "metadata": {},
   "source": [
    "### Creating the Dense Layers for Clasification"
   ]
  },
  {
   "cell_type": "code",
   "execution_count": 25,
   "metadata": {},
   "outputs": [],
   "source": [
    "dense_layer_5 = tf.layers.dense(inputs=dense_layer_4,\n",
    "                                      units=200,\n",
    "                                      activation=tf.nn.tanh,\n",
    "                                      use_bias=True,\n",
    "                                      trainable=True,\n",
    "                                      name=\"dense_layer_5\")"
   ]
  },
  {
   "cell_type": "code",
   "execution_count": 26,
   "metadata": {},
   "outputs": [],
   "source": [
    "logits = tf.layers.dense(inputs=dense_layer_5,\n",
    "                                      units=3,\n",
    "                                      activation=tf.nn.tanh,\n",
    "                                      use_bias=True,\n",
    "                                      trainable=True,\n",
    "                                      name=\"logits\")"
   ]
  },
  {
   "cell_type": "markdown",
   "metadata": {},
   "source": [
    "### Softmax Layer & Loss Function\n",
    "https://www.tensorflow.org/api_docs/python/tf/nn/softmax_cross_entropy_with_logits_v2"
   ]
  },
  {
   "cell_type": "code",
   "execution_count": 27,
   "metadata": {},
   "outputs": [],
   "source": [
    "with tf.name_scope(\"loss\"):\n",
    "    softmax_layer = tf.nn.softmax_cross_entropy_with_logits_v2(labels = y_true, logits=logits) # WTF Is this function actually? \n",
    "    cross_entropy = tf.reduce_mean(softmax_layer)\n",
    "    tf.summary.scalar(\"cross_entropy\", cross_entropy)"
   ]
  },
  {
   "cell_type": "markdown",
   "metadata": {},
   "source": [
    "### Optimizer"
   ]
  },
  {
   "cell_type": "code",
   "execution_count": 28,
   "metadata": {},
   "outputs": [],
   "source": [
    "with tf.name_scope(\"train\"):\n",
    "    optimizer = tf.train.AdamOptimizer(learning_rate=1e-4)\n",
    "    train = optimizer.minimize(cross_entropy)\n",
    "    "
   ]
  },
  {
   "cell_type": "markdown",
   "metadata": {},
   "source": [
    "### Metrics - Accuracy"
   ]
  },
  {
   "cell_type": "code",
   "execution_count": 29,
   "metadata": {},
   "outputs": [],
   "source": [
    "with tf.name_scope(\"accuracy\"):\n",
    "    correct_prediction = tf.equal(tf.argmax(logits, 1), tf.argmax(y_true))\n",
    "    accuracy = tf.reduce_mean(tf.cast(correct_prediction, tf.float32))\n",
    "    tf.summary.scalar(\"accuracy\", accuracy)"
   ]
  },
  {
   "cell_type": "markdown",
   "metadata": {},
   "source": [
    "## Saver"
   ]
  },
  {
   "cell_type": "code",
   "execution_count": 30,
   "metadata": {},
   "outputs": [],
   "source": [
    "saver = tf.train.Saver()"
   ]
  },
  {
   "cell_type": "code",
   "execution_count": 31,
   "metadata": {},
   "outputs": [],
   "source": [
    "save_path = \"dan_checkpoints/\" # Need to exist "
   ]
  },
  {
   "cell_type": "code",
   "execution_count": 32,
   "metadata": {},
   "outputs": [],
   "source": [
    "model_name = \"first_dan.ckpt\""
   ]
  },
  {
   "cell_type": "code",
   "execution_count": 33,
   "metadata": {},
   "outputs": [],
   "source": [
    "# Check the Graph\n",
    "if not os.path.isdir(save_path):\n",
    "    os.makedirs(save_path)"
   ]
  },
  {
   "cell_type": "markdown",
   "metadata": {},
   "source": [
    "## Training"
   ]
  },
  {
   "cell_type": "code",
   "execution_count": 34,
   "metadata": {},
   "outputs": [],
   "source": [
    "init = tf.global_variables_initializer()"
   ]
  },
  {
   "cell_type": "raw",
   "metadata": {},
   "source": [
    "with tf.Session() as sess: \n",
    "    sess.run(init)\n",
    "    \n",
    "    ### Tensorboard Stuff\n",
    "    # Writing the Graph\n",
    "    #tf.summary.scalar(\"accuracy\", accuracy)\n",
    "    merged_summary = tf.summary.merge_all()\n",
    "    \n",
    "    writer = tf.summary.FileWriter(save_path)\n",
    "    writer.add_graph(sess.graph)\n",
    "    \n",
    "    \n",
    "    # To merge all summary objects\n",
    "    \n",
    "    \n",
    "    \n",
    "    epoches = 1\n",
    "    for i in range(epoches):\n",
    "        for j,p in enumerate(paragraphs): \n",
    "            # Converting paragraphs to Embeddings\n",
    "            embeddings = dropout_layer(fast_text_model.inference(p)) # There should be the input placehodler\n",
    "            label = np.array(paragraphs_y[j]).reshape(1,-1)\n",
    "            print(\"________\")\n",
    "            print(embeddings.shape)\n",
    "            print(label.shape)\n",
    "            a = sess.run(average, feed_dict={x_input:embeddings, y_true:label})\n",
    "            #print(average)\n",
    "            print(a.shape)\n",
    "            l = sess.run(logits, feed_dict={x_input:embeddings, y_true:label})\n",
    "            print(l)\n",
    "            s = sess.run(softmax_layer, feed_dict={x_input:embeddings, y_true:label})\n",
    "            print(s)\n",
    "            c = sess.run(cross_entropy, feed_dict={x_input:embeddings, y_true:label})\n",
    "            print(c)\n",
    "           \n",
    "            \n",
    "        \n",
    "        \n",
    "        \n",
    "    \"\"\"\n",
    "    print('Currently on step {}'.format(i))\n",
    "    print('Accuracy is:')\n",
    "    # Test the Train Model\n",
    "    matches = tf.equal(tf.argmax(cross_entropy,1),tf.argmax(y_true,1))\n",
    "\n",
    "    acc = tf.reduce_mean(tf.cast(matches,tf.float32))\n",
    "\n",
    "    print(sess.run(acc,feed_dict={x:mnist.test.images,y_true:mnist.test.labels,hold_prob:1.0}))\n",
    "    print('\\n')\n",
    "    \"\"\"\n",
    "    sess.close()"
   ]
  },
  {
   "cell_type": "markdown",
   "metadata": {},
   "source": [
    "10 Epoches rund 6 Minuten"
   ]
  },
  {
   "cell_type": "code",
   "execution_count": 35,
   "metadata": {},
   "outputs": [
    {
     "name": "stdout",
     "output_type": "stream",
     "text": [
      "Accuracy after Epoch: 0.0\n",
      "Accuracy after Epoch: 0.0\n",
      "Accuracy after Epoch: 0.0\n",
      "Accuracy after Epoch: 0.0\n",
      "Accuracy after Epoch: 0.0\n",
      "Accuracy after Epoch: 0.0\n",
      "Accuracy after Epoch: 0.0\n",
      "Accuracy after Epoch: 0.0\n",
      "Accuracy after Epoch: 0.0\n",
      "Accuracy after Epoch: 0.0\n",
      "model_saved!\n",
      "CPU times: user 5min 56s, sys: 49.5 s, total: 6min 46s\n",
      "Wall time: 4min 9s\n"
     ]
    }
   ],
   "source": [
    "%%time\n",
    "with tf.Session() as sess: \n",
    "    sess.run(init)\n",
    "    \n",
    "    ### Tensorboard Stuff\n",
    "    merged_summary = tf.summary.merge_all()\n",
    "    writer = tf.summary.FileWriter(save_path)\n",
    "    writer.add_graph(sess.graph)\n",
    "\n",
    "    epoches = 10\n",
    "    for i in range(epoches):\n",
    "        for j,p in enumerate([word_tokenize(x) for x in df[\"text\"].tolist()]): \n",
    "            # Converting paragraphs to Embeddings\n",
    "            embeddings = dropout_layer(fast_text_model.inference(p))\n",
    "            label = np.array(one_hot_encodings[j]).reshape(1,-1)\n",
    "            [_, train_accuracy, summary] = sess.run([train, accuracy, merged_summary], feed_dict={x_input:embeddings, y_true:label})\n",
    "            writer.add_summary(summary = summary, global_step = i)\n",
    "            writer.flush()\n",
    "            #[train_accurcy, summary] = sess.run([accuracy, merged_summary], feed_dict={x_input:embeddings, y_true:label})\n",
    "        print(\"Accuracy after Epoch: {}\".format(train_accuracy))\n",
    "    \n",
    "    saver.save(sess, os.path.join(save_path, model_name))\n",
    "    print(\"model_saved!\")\n",
    "    sess.close()"
   ]
  },
  {
   "cell_type": "markdown",
   "metadata": {},
   "source": [
    "## Loading the Model"
   ]
  },
  {
   "cell_type": "code",
   "execution_count": 36,
   "metadata": {},
   "outputs": [
    {
     "name": "stdout",
     "output_type": "stream",
     "text": [
      "INFO:tensorflow:Restoring parameters from dan_checkpoints/first_dan.ckpt\n"
     ]
    }
   ],
   "source": [
    "with tf.Session() as sess: \n",
    "    saver.restore(sess,os.path.join(save_path, model_name))\n",
    "    \n",
    "    # Is it predicting right? \n",
    "    embeddings = fast_text_model.inference([\"this\", \"sucks\"])\n",
    "    #print(sess.run(logits, feed_dict={x_input:embeddings}))\n",
    "    \n",
    "    #Getting new Embeddings\n",
    "    #print(sess.run(dense_layer_2, feed_dict={x_input:embeddings}))\n",
    "    sess.close()"
   ]
  },
  {
   "cell_type": "code",
   "execution_count": 66,
   "metadata": {},
   "outputs": [],
   "source": [
    "def get_dan_embedding(text: List[str], layer):\n",
    "    with tf.Session() as sess: \n",
    "        saver.restore(sess,os.path.join(save_path, model_name))\n",
    "\n",
    "        # Is it predicting right? \n",
    "        embeddings = fast_text_model.inference(text)\n",
    "        dan_emb = sess.run(layer, feed_dict={x_input:embeddings})\n",
    "        \n",
    "        sess.close()\n",
    "        return dan_emb"
   ]
  },
  {
   "cell_type": "markdown",
   "metadata": {},
   "source": [
    "## Retrieving Embeddings for Examples"
   ]
  },
  {
   "cell_type": "code",
   "execution_count": 329,
   "metadata": {},
   "outputs": [],
   "source": [
    "example_1 = \"i want predict cost\"\n",
    "example_2 = \"i want predict stock prize\"\n",
    "example_3 = \"i want similar cost\"\n",
    "example_4 = \"i want pattern in my costs\"\n",
    "\n",
    "examples = [example_1, example_2, example_3, example_4]"
   ]
  },
  {
   "cell_type": "code",
   "execution_count": 330,
   "metadata": {},
   "outputs": [],
   "source": [
    "fastText_embeddings = [np.mean(fast_text_model.inference(word_tokenize(x)), axis = 0) for x in examples]"
   ]
  },
  {
   "cell_type": "code",
   "execution_count": 331,
   "metadata": {},
   "outputs": [
    {
     "name": "stdout",
     "output_type": "stream",
     "text": [
      "INFO:tensorflow:Restoring parameters from dan_checkpoints/first_dan.ckpt\n",
      "INFO:tensorflow:Restoring parameters from dan_checkpoints/first_dan.ckpt\n",
      "INFO:tensorflow:Restoring parameters from dan_checkpoints/first_dan.ckpt\n",
      "INFO:tensorflow:Restoring parameters from dan_checkpoints/first_dan.ckpt\n"
     ]
    }
   ],
   "source": [
    "dan_embeddings = np.squeeze([get_dan_embedding(word_tokenize(x), layer = dense_layer_4) for x in examples])"
   ]
  },
  {
   "cell_type": "code",
   "execution_count": 332,
   "metadata": {},
   "outputs": [],
   "source": [
    "dan_embeddings = dan_embeddings.tolist()"
   ]
  },
  {
   "cell_type": "code",
   "execution_count": 333,
   "metadata": {},
   "outputs": [],
   "source": [
    "_df = pd.DataFrame.from_dict({\"text\": examples, \"ft_embedding\": fastText_embeddings, \"dan_embedding\": dan_embeddings})"
   ]
  },
  {
   "cell_type": "code",
   "execution_count": 334,
   "metadata": {},
   "outputs": [
    {
     "data": {
      "text/html": [
       "<div>\n",
       "<style scoped>\n",
       "    .dataframe tbody tr th:only-of-type {\n",
       "        vertical-align: middle;\n",
       "    }\n",
       "\n",
       "    .dataframe tbody tr th {\n",
       "        vertical-align: top;\n",
       "    }\n",
       "\n",
       "    .dataframe thead th {\n",
       "        text-align: right;\n",
       "    }\n",
       "</style>\n",
       "<table border=\"1\" class=\"dataframe\">\n",
       "  <thead>\n",
       "    <tr style=\"text-align: right;\">\n",
       "      <th></th>\n",
       "      <th>text</th>\n",
       "      <th>ft_embedding</th>\n",
       "      <th>dan_embedding</th>\n",
       "    </tr>\n",
       "  </thead>\n",
       "  <tbody>\n",
       "    <tr>\n",
       "      <th>0</th>\n",
       "      <td>i want predict cost</td>\n",
       "      <td>[0.13824575, 0.4492068, 0.35157588, -0.0956589...</td>\n",
       "      <td>[0.7342431235739231, 0.9351681055695422, -0.58...</td>\n",
       "    </tr>\n",
       "    <tr>\n",
       "      <th>1</th>\n",
       "      <td>i want predict stock prize</td>\n",
       "      <td>[0.1945199, 0.3696619, 0.16522367, -0.21709582...</td>\n",
       "      <td>[0.7192703987202866, 0.9583220865482183, 0.482...</td>\n",
       "    </tr>\n",
       "    <tr>\n",
       "      <th>2</th>\n",
       "      <td>i want similar cost</td>\n",
       "      <td>[0.10927786, 0.3648242, 0.23734617, 0.00141632...</td>\n",
       "      <td>[0.7359610178579562, 0.5982608841921955, 0.773...</td>\n",
       "    </tr>\n",
       "    <tr>\n",
       "      <th>3</th>\n",
       "      <td>i want pattern in my costs</td>\n",
       "      <td>[0.15498453, 0.25325826, 0.14314944, -0.143352...</td>\n",
       "      <td>[0.7789896061993133, 0.9614800042558498, 0.978...</td>\n",
       "    </tr>\n",
       "  </tbody>\n",
       "</table>\n",
       "</div>"
      ],
      "text/plain": [
       "                         text  \\\n",
       "0         i want predict cost   \n",
       "1  i want predict stock prize   \n",
       "2         i want similar cost   \n",
       "3  i want pattern in my costs   \n",
       "\n",
       "                                        ft_embedding  \\\n",
       "0  [0.13824575, 0.4492068, 0.35157588, -0.0956589...   \n",
       "1  [0.1945199, 0.3696619, 0.16522367, -0.21709582...   \n",
       "2  [0.10927786, 0.3648242, 0.23734617, 0.00141632...   \n",
       "3  [0.15498453, 0.25325826, 0.14314944, -0.143352...   \n",
       "\n",
       "                                       dan_embedding  \n",
       "0  [0.7342431235739231, 0.9351681055695422, -0.58...  \n",
       "1  [0.7192703987202866, 0.9583220865482183, 0.482...  \n",
       "2  [0.7359610178579562, 0.5982608841921955, 0.773...  \n",
       "3  [0.7789896061993133, 0.9614800042558498, 0.978...  "
      ]
     },
     "execution_count": 334,
     "metadata": {},
     "output_type": "execute_result"
    }
   ],
   "source": [
    "_df"
   ]
  },
  {
   "cell_type": "markdown",
   "metadata": {},
   "source": [
    "## PCA"
   ]
  },
  {
   "cell_type": "code",
   "execution_count": 335,
   "metadata": {},
   "outputs": [],
   "source": [
    "from sklearn.decomposition import PCA"
   ]
  },
  {
   "cell_type": "code",
   "execution_count": 336,
   "metadata": {},
   "outputs": [],
   "source": [
    "pca_FT = PCA(n_components=2)\n",
    "pca_DAN = PCA(n_components=2)"
   ]
  },
  {
   "cell_type": "code",
   "execution_count": 337,
   "metadata": {},
   "outputs": [],
   "source": [
    "matrix_DAN = pca_FT.fit_transform(_df[\"dan_embedding\"].tolist())"
   ]
  },
  {
   "cell_type": "code",
   "execution_count": 338,
   "metadata": {},
   "outputs": [
    {
     "data": {
      "text/plain": [
       "array([[ 5.23798824,  1.24220604],\n",
       "       [ 2.30941569, -1.33996041],\n",
       "       [-4.56657439,  1.96800005],\n",
       "       [-2.98082954, -1.87024569]])"
      ]
     },
     "execution_count": 338,
     "metadata": {},
     "output_type": "execute_result"
    }
   ],
   "source": [
    "matrix_DAN"
   ]
  },
  {
   "cell_type": "code",
   "execution_count": 339,
   "metadata": {},
   "outputs": [],
   "source": [
    "matrix_FT = pca_FT.fit_transform(_df[\"ft_embedding\"].tolist())"
   ]
  },
  {
   "cell_type": "code",
   "execution_count": 340,
   "metadata": {},
   "outputs": [
    {
     "data": {
      "text/plain": [
       "array([[-0.01255384, -0.51668778],\n",
       "       [ 1.03186932,  0.12791036],\n",
       "       [-0.57804832, -0.24185723],\n",
       "       [-0.44126716,  0.63063465]])"
      ]
     },
     "execution_count": 340,
     "metadata": {},
     "output_type": "execute_result"
    }
   ],
   "source": [
    "matrix_FT"
   ]
  },
  {
   "cell_type": "code",
   "execution_count": 341,
   "metadata": {},
   "outputs": [],
   "source": [
    "_df[\"ft_x\"] = matrix_FT[:,0]\n",
    "_df[\"ft_y\"] = matrix_FT[:,1]"
   ]
  },
  {
   "cell_type": "code",
   "execution_count": 342,
   "metadata": {},
   "outputs": [],
   "source": [
    "_df[\"dan_x\"] = matrix_DAN[:,0]\n",
    "_df[\"dan_y\"] = matrix_DAN[:,1]"
   ]
  },
  {
   "cell_type": "code",
   "execution_count": 343,
   "metadata": {},
   "outputs": [
    {
     "data": {
      "image/png": "[encoded data removed]",
      "text/plain": [
       "<Figure size 432x288 with 1 Axes>"
      ]
     },
     "metadata": {
      "needs_background": "light"
     },
     "output_type": "display_data"
    }
   ],
   "source": [
    "ax = sns.scatterplot(x = \"ft_x\", y=\"ft_y\", data = _df, s = 100,  hue = \"text\")\n",
    "title = ax.set_title(\"FastText\")"
   ]
  },
  {
   "cell_type": "code",
   "execution_count": 344,
   "metadata": {},
   "outputs": [
    {
     "data": {
      "image/png": "[encoded data removed]",
      "text/plain": [
       "<Figure size 432x288 with 1 Axes>"
      ]
     },
     "metadata": {
      "needs_background": "light"
     },
     "output_type": "display_data"
    }
   ],
   "source": [
    "ax = sns.scatterplot(x = \"dan_x\", y=\"dan_y\", data = _df, s=100, hue = \"text\")\n",
    "title = ax.set_title(\"DAN\")"
   ]
  },
  {
   "cell_type": "markdown",
   "metadata": {},
   "source": [
    "## Pertubation\n",
    "As used in:  http://cs.umd.edu/~miyyer/pubs/2015_acl_dan.pdf "
   ]
  },
  {
   "cell_type": "code",
   "execution_count": 345,
   "metadata": {},
   "outputs": [],
   "source": [
    "# We just append the values to the df\n",
    "average_layer = []\n",
    "for embedding in _df[\"ft_embedding\"]:\n",
    "    average_layer.append(np.linalg.norm(embedding))"
   ]
  },
  {
   "cell_type": "code",
   "execution_count": 346,
   "metadata": {},
   "outputs": [],
   "source": [
    "layers = []\n",
    "layers.append(average_layer)"
   ]
  },
  {
   "cell_type": "code",
   "execution_count": 347,
   "metadata": {},
   "outputs": [
    {
     "name": "stdout",
     "output_type": "stream",
     "text": [
      "INFO:tensorflow:Restoring parameters from dan_checkpoints/first_dan.ckpt\n",
      "INFO:tensorflow:Restoring parameters from dan_checkpoints/first_dan.ckpt\n",
      "INFO:tensorflow:Restoring parameters from dan_checkpoints/first_dan.ckpt\n",
      "INFO:tensorflow:Restoring parameters from dan_checkpoints/first_dan.ckpt\n",
      "INFO:tensorflow:Restoring parameters from dan_checkpoints/first_dan.ckpt\n",
      "INFO:tensorflow:Restoring parameters from dan_checkpoints/first_dan.ckpt\n",
      "INFO:tensorflow:Restoring parameters from dan_checkpoints/first_dan.ckpt\n",
      "INFO:tensorflow:Restoring parameters from dan_checkpoints/first_dan.ckpt\n",
      "INFO:tensorflow:Restoring parameters from dan_checkpoints/first_dan.ckpt\n",
      "INFO:tensorflow:Restoring parameters from dan_checkpoints/first_dan.ckpt\n",
      "INFO:tensorflow:Restoring parameters from dan_checkpoints/first_dan.ckpt\n",
      "INFO:tensorflow:Restoring parameters from dan_checkpoints/first_dan.ckpt\n",
      "INFO:tensorflow:Restoring parameters from dan_checkpoints/first_dan.ckpt\n",
      "INFO:tensorflow:Restoring parameters from dan_checkpoints/first_dan.ckpt\n",
      "INFO:tensorflow:Restoring parameters from dan_checkpoints/first_dan.ckpt\n",
      "INFO:tensorflow:Restoring parameters from dan_checkpoints/first_dan.ckpt\n"
     ]
    }
   ],
   "source": [
    "#layers.append(np.array(_norm_layer_1))\n",
    "for x in [dense_layer_1, dense_layer_2, dense_layer_3, dense_layer_4]:\n",
    "    lst = []\n",
    "    for text in _df[\"text\"]:\n",
    "        lst.append(np.linalg.norm(get_dan_embedding(text, x)))\n",
    "    layers.append(lst)"
   ]
  },
  {
   "cell_type": "code",
   "execution_count": 348,
   "metadata": {},
   "outputs": [
    {
     "data": {
      "text/plain": [
       "[[2.395768, 2.5447118, 2.320776, 2.0617003],\n",
       " [1.0120313028403851,\n",
       "  1.0417034885010217,\n",
       "  0.9483682212427283,\n",
       "  0.9860510108590991],\n",
       " [1.1714013166642185,\n",
       "  1.1931081713366054,\n",
       "  1.147874805275536,\n",
       "  1.2192174282906245],\n",
       " [1.9071569940058046,\n",
       "  1.9186458110425386,\n",
       "  2.0197126528032285,\n",
       "  2.2164840092673495],\n",
       " [4.147715752396286, 4.119007438032194, 4.431750982754251, 4.743712810945867]]"
      ]
     },
     "execution_count": 348,
     "metadata": {},
     "output_type": "execute_result"
    }
   ],
   "source": [
    "layers"
   ]
  },
  {
   "cell_type": "code",
   "execution_count": 349,
   "metadata": {},
   "outputs": [
    {
     "data": {
      "text/plain": [
       "array([[2.39576793, 1.0120313 , 1.17140132, 1.90715699, 4.14771575],\n",
       "       [2.54471183, 1.04170349, 1.19310817, 1.91864581, 4.11900744],\n",
       "       [2.32077599, 0.94836822, 1.14787481, 2.01971265, 4.43175098],\n",
       "       [2.06170034, 0.98605101, 1.21921743, 2.21648401, 4.74371281]])"
      ]
     },
     "execution_count": 349,
     "metadata": {},
     "output_type": "execute_result"
    }
   ],
   "source": [
    "np.transpose(layers)"
   ]
  },
  {
   "cell_type": "code",
   "execution_count": 350,
   "metadata": {},
   "outputs": [
    {
     "data": {
      "text/plain": [
       "array([2.39576793, 2.54471183, 2.32077599, 2.06170034])"
      ]
     },
     "execution_count": 350,
     "metadata": {},
     "output_type": "execute_result"
    }
   ],
   "source": [
    "np.transpose(np.array(layers))[:,0]"
   ]
  },
  {
   "cell_type": "code",
   "execution_count": 351,
   "metadata": {},
   "outputs": [],
   "source": [
    "for i in range(np.transpose(layers).shape[1]):\n",
    "    _df[\"layer_{}\".format(i)] = np.transpose(layers)[:,i]"
   ]
  },
  {
   "cell_type": "code",
   "execution_count": 352,
   "metadata": {},
   "outputs": [
    {
     "data": {
      "text/html": [
       "<div>\n",
       "<style scoped>\n",
       "    .dataframe tbody tr th:only-of-type {\n",
       "        vertical-align: middle;\n",
       "    }\n",
       "\n",
       "    .dataframe tbody tr th {\n",
       "        vertical-align: top;\n",
       "    }\n",
       "\n",
       "    .dataframe thead th {\n",
       "        text-align: right;\n",
       "    }\n",
       "</style>\n",
       "<table border=\"1\" class=\"dataframe\">\n",
       "  <thead>\n",
       "    <tr style=\"text-align: right;\">\n",
       "      <th></th>\n",
       "      <th>text</th>\n",
       "      <th>ft_embedding</th>\n",
       "      <th>dan_embedding</th>\n",
       "      <th>ft_x</th>\n",
       "      <th>ft_y</th>\n",
       "      <th>dan_x</th>\n",
       "      <th>dan_y</th>\n",
       "      <th>layer_0</th>\n",
       "      <th>layer_1</th>\n",
       "      <th>layer_2</th>\n",
       "      <th>layer_3</th>\n",
       "      <th>layer_4</th>\n",
       "    </tr>\n",
       "  </thead>\n",
       "  <tbody>\n",
       "    <tr>\n",
       "      <th>0</th>\n",
       "      <td>i want predict cost</td>\n",
       "      <td>[0.13824575, 0.4492068, 0.35157588, -0.0956589...</td>\n",
       "      <td>[0.7342431235739231, 0.9351681055695422, -0.58...</td>\n",
       "      <td>-0.012554</td>\n",
       "      <td>-0.516688</td>\n",
       "      <td>5.237988</td>\n",
       "      <td>1.242206</td>\n",
       "      <td>2.395768</td>\n",
       "      <td>1.012031</td>\n",
       "      <td>1.171401</td>\n",
       "      <td>1.907157</td>\n",
       "      <td>4.147716</td>\n",
       "    </tr>\n",
       "  </tbody>\n",
       "</table>\n",
       "</div>"
      ],
      "text/plain": [
       "                  text                                       ft_embedding  \\\n",
       "0  i want predict cost  [0.13824575, 0.4492068, 0.35157588, -0.0956589...   \n",
       "\n",
       "                                       dan_embedding      ft_x      ft_y  \\\n",
       "0  [0.7342431235739231, 0.9351681055695422, -0.58... -0.012554 -0.516688   \n",
       "\n",
       "      dan_x     dan_y   layer_0   layer_1   layer_2   layer_3   layer_4  \n",
       "0  5.237988  1.242206  2.395768  1.012031  1.171401  1.907157  4.147716  "
      ]
     },
     "execution_count": 352,
     "metadata": {},
     "output_type": "execute_result"
    }
   ],
   "source": [
    "_df.head(1)"
   ]
  },
  {
   "cell_type": "code",
   "execution_count": 353,
   "metadata": {},
   "outputs": [
    {
     "data": {
      "image/png": "[encoded data removed]",
      "text/plain": [
       "<Figure size 432x288 with 1 Axes>"
      ]
     },
     "metadata": {
      "needs_background": "light"
     },
     "output_type": "display_data"
    }
   ],
   "source": [
    "for i,column in enumerate(_df[[\"layer_1\", \"layer_2\", \"layer_3\", \"layer_4\"]]):\n",
    "    ax = sns.scatterplot(x = [i+1 for x in range(4)], y = column , s = 70, data=_df, hue=\"text\")\n",
    "    ax.get_legend().remove()\n",
    "    "
   ]
  },
  {
   "cell_type": "code",
   "execution_count": 354,
   "metadata": {},
   "outputs": [],
   "source": [
    "_df = _df.drop(columns = [\"text\",\"ft_embedding\", \"dan_embedding\", \"ft_x\", \"ft_y\", \"dan_x\", \"dan_y\"])"
   ]
  },
  {
   "cell_type": "code",
   "execution_count": 367,
   "metadata": {},
   "outputs": [],
   "source": [
    "_df = _df.drop(columns = [\"layer_0\"])"
   ]
  },
  {
   "cell_type": "code",
   "execution_count": 368,
   "metadata": {},
   "outputs": [
    {
     "data": {
      "image/png": "[encoded data removed]",
      "text/plain": [
       "<Figure size 432x288 with 1 Axes>"
      ]
     },
     "metadata": {
      "needs_background": "light"
     },
     "output_type": "display_data"
    }
   ],
   "source": [
    "for row in _df.iterrows():\n",
    "    \n",
    "    row = sns.lineplot(x = row[1].values, y = range(row[1].values.shape[0]))"
   ]
  },
  {
   "cell_type": "code",
   "execution_count": null,
   "metadata": {},
   "outputs": [],
   "source": [
    "import matplotlib.pyplot as plt"
   ]
  },
  {
   "cell_type": "code",
   "execution_count": null,
   "metadata": {},
   "outputs": [],
   "source": [
    "plt.scatter(np.ones(shape=(4,1)),_layers[0])\n",
    "plt.scatter([2 for x in range(4)], _layers[1])\n",
    "plt.scatter([3 for x in range(4)], _layers[2])\n",
    "plt.scatter([4 for x in range(4)], _layers[3])"
   ]
  },
  {
   "cell_type": "code",
   "execution_count": null,
   "metadata": {},
   "outputs": [],
   "source": []
  },
  {
   "cell_type": "code",
   "execution_count": null,
   "metadata": {},
   "outputs": [],
   "source": []
  },
  {
   "cell_type": "code",
   "execution_count": null,
   "metadata": {},
   "outputs": [],
   "source": []
  },
  {
   "cell_type": "code",
   "execution_count": null,
   "metadata": {},
   "outputs": [],
   "source": []
  }
 ],
 "metadata": {
  "kernelspec": {
   "display_name": "Python 3",
   "language": "python",
   "name": "python3"
  },
  "language_info": {
   "codemirror_mode": {
    "name": "ipython",
    "version": 3
   },
   "file_extension": ".py",
   "mimetype": "text/x-python",
   "name": "python",
   "nbconvert_exporter": "python",
   "pygments_lexer": "ipython3",
   "version": "3.6.5"
  }
 },
 "nbformat": 4,
 "nbformat_minor": 2
}
