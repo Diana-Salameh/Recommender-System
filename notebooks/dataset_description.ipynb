{
 "cells": [
  {
   "cell_type": "markdown",
   "metadata": {},
   "source": [
    "# Descriptive Notebook for Text-based Datasets\n",
    "___\n",
    "__Name of dataset__: daniel_0212  \n",
    "__Date__: 02.12.2018  \n",
    "__Creator__: Daniel  \n",
    "__Purpose__: No specific pipeline   \n",
    "__Crawled Databases__: ARXIV\n",
    "\n",
    "__Used Queries (Code Snippet)____:\n",
    "\n",
    "```\n",
    "excluded = [\"astro-ph\", \"cond-mat\", \"gr-gc\", \"hep-ex\", \"hep-lat\", \"hep-ph\", \"hep-th\", \"nlin\", \"nucl-ex\",\n",
    "            \"nucl-th\", \"quant-ph\", \"math\", \"physics\"]\n",
    "          \n",
    "search_query_11 = \"abs:clustering+AND+abs:data+AND+ti:clustering+ANDNOT+%28{}%29\".format(exclude)\n",
    "search_query_12 = \"abs:regression+AND+abs:data+AND+ti:regression+ANDNOT+%28{}%29\".format(exclude)\n",
    "\n",
    "search_query_11 = \"abs:clustering+AND+abs:data+AND+ti:clustering+ANDNOT+%28{}%29\".format(exclude)\n",
    "search_query_12 = \"abs:regression+AND+abs:data+AND+ti:regression+ANDNOT+%28{}%29\".format(exclude)\n",
    "search_query_14 = \"abs:%22association+rule%22+AND+abs:data+AND+ti:%22association+rule%22+ANDNOT+%28{}%29\"\n",
    "                    .format(exclude)\n",
    "\n",
    "search_query_21 = \"abs:clustering+AND+ti:clustering+ANDNOT+%28{}%29\".format(exclude)\n",
    "search_query_22 = \"abs:regression+AND+ti:regression+ANDNOT+%28{}%29\".format(exclude)\n",
    "search_query_23 = \"abs:classification+AND+ti:classification+ANDNOT+%28{}%29\".format(exclude)\n",
    "search_query_24 = \"abs:%22association+rule%22+AND+ti:%22association+rule%22+ANDNOT+%28{}%29\".format(exclude)\n",
    "\n",
    "search_query_31 = \"abs:%22clustering+is%22+AND+ti:clustering+ANDNOT+%28{}%29\".format(exclude)\n",
    "search_query_32 = \"abs:%22regression+is%22+AND+ti:regression+ANDNOT+%28{}%29\".format(exclude)\n",
    "search_query_33 = \"abs:%22classification+is%22+AND+ti:classification+ANDNOT+%28{}%29\".format(exclude)\n",
    "\n",
    "search_query_4 = \"abs:%22association+rule%22+AND+abs:data+AND+ti:%22association+rule%22+%28{}%29\".format(exclude)\n",
    "\n",
    "### Later added queries\n",
    "search_query_51 = \"all:sequential+pattern+AND+abs:data+ANDNOT+%28{}%29\".format(exclude)\n",
    "search_query_52 = \"all:frequential+pattern+AND+abs:data+ANDNOT+%28{}%29\".format(exclude)\n",
    "search_query_53 = \"abs:prediction+AND+ti:prediction+ANDNOT+%28{}%29\".format(exclude)\n",
    "```\n",
    "\n",
    "__Additional Notes__:  \n",
    "<p>...</p>\n",
    "___\n"
   ]
  },
  {
   "cell_type": "code",
   "execution_count": 1,
   "metadata": {},
   "outputs": [],
   "source": [
    "import os\n",
    "import pandas as pd\n",
    "import matplotlib.pyplot as plt\n",
    "import seaborn as sns\n",
    "from nltk.tokenize import sent_tokenize, word_tokenize\n",
    "from nltk.stem import WordNetLemmatizer\n",
    "from nltk.corpus import stopwords\n",
    "from typing import *\n",
    "import string\n",
    "sns.reset_defaults()"
   ]
  },
  {
   "cell_type": "markdown",
   "metadata": {},
   "source": [
    "## Loading the data \n",
    "__Dir structure__ for text-based dataset is stored as illustrated: \n",
    "- super_dir\n",
    "    - dir(represents the class of the txt)\n",
    "        - 1.txt\n",
    "        - 2.txt\n",
    "        - n.txt\n",
    "    - dir (another class)\n",
    "        - 1.txt\n",
    "        - 2.txt\n",
    "        - n.txt"
   ]
  },
  {
   "cell_type": "code",
   "execution_count": 2,
   "metadata": {},
   "outputs": [],
   "source": [
    "super_dir = \"data/datasets/daniel_0212\""
   ]
  },
  {
   "cell_type": "code",
   "execution_count": 3,
   "metadata": {},
   "outputs": [
    {
     "name": "stdout",
     "output_type": "stream",
     "text": [
      "CPU times: user 23.3 s, sys: 1.16 s, total: 24.4 s\n",
      "Wall time: 25.7 s\n"
     ]
    }
   ],
   "source": [
    "%%time\n",
    "_classes = []\n",
    "_paths = []\n",
    "_sentences_len = []\n",
    "_tokens_len = []\n",
    "_words_len = []\n",
    "_unique_tokens_len = []\n",
    "_unique_lemmatized = []\n",
    "#_tokens = []\n",
    "_class_tokens = {}\n",
    "lemmatizer = WordNetLemmatizer()\n",
    "for root, dirs, files in os.walk(super_dir):\n",
    "    if len(dirs) == 0:\n",
    "        # treat super dir as class\n",
    "        pass\n",
    "    else:\n",
    "        for _class_name in dirs: \n",
    "            path = os.path.join(super_dir, _class_name)\n",
    "            #x = [data.append({_class_name: os.path.join(path, x)}) for x in os.listdir(path) if x.endswith(\".txt\")]\n",
    "            for file_path in [x for x in os.listdir(path) if x.endswith(\".txt\")]:\n",
    "                \n",
    "                # Read File\n",
    "                file = open(os.path.join(path,file_path), \"r\")\n",
    "                txt = file.read()\n",
    "                file.close()\n",
    "                # Tokenization\n",
    "                tokens = word_tokenize(txt)\n",
    "                unique_tokens = set(tokens)\n",
    "                \n",
    "                #Building dict[class: tokens]\n",
    "                if _class_name in _class_tokens.keys():\n",
    "                    _class_tokens[_class_name] += tokens\n",
    "                else:\n",
    "                    _class_tokens.update({_class_name: tokens})\n",
    "                \n",
    "                #Filling list for pd.DataFrame\n",
    "                _unique_lemmatized.append(len({lemmatizer.lemmatize(x) for x in tokens}))\n",
    "                #[_tokens.append(x) for x in words]\n",
    "                _tokens_len.append(len(tokens))\n",
    "                _unique_tokens_len.append(len(set(tokens)))\n",
    "                _classes.append(_class_name)\n",
    "                _paths.append(os.path.join(file_path))\n",
    "                _sentences_len.append(len(sent_tokenize(txt)))\n",
    "                \n",
    "                \n",
    "            \n"
   ]
  },
  {
   "cell_type": "code",
   "execution_count": 4,
   "metadata": {},
   "outputs": [],
   "source": [
    "df = pd.DataFrame(list(zip(_classes, _paths, _sentences_len, _tokens_len, _unique_tokens_len, _unique_lemmatized)),\n",
    "                  columns = [\"class\", \"file_name\", \"#sentences\", \"#tokens\", \"#unique_tokens\",\"#unique_lemmatized\"])"
   ]
  },
  {
   "cell_type": "code",
   "execution_count": 5,
   "metadata": {},
   "outputs": [
    {
     "data": {
      "text/html": [
       "<div>\n",
       "<style scoped>\n",
       "    .dataframe tbody tr th:only-of-type {\n",
       "        vertical-align: middle;\n",
       "    }\n",
       "\n",
       "    .dataframe tbody tr th {\n",
       "        vertical-align: top;\n",
       "    }\n",
       "\n",
       "    .dataframe thead th {\n",
       "        text-align: right;\n",
       "    }\n",
       "</style>\n",
       "<table border=\"1\" class=\"dataframe\">\n",
       "  <thead>\n",
       "    <tr style=\"text-align: right;\">\n",
       "      <th></th>\n",
       "      <th>class</th>\n",
       "      <th>file_name</th>\n",
       "      <th>#sentences</th>\n",
       "      <th>#tokens</th>\n",
       "      <th>#unique_tokens</th>\n",
       "      <th>#unique_lemmatized</th>\n",
       "    </tr>\n",
       "  </thead>\n",
       "  <tbody>\n",
       "    <tr>\n",
       "      <th>0</th>\n",
       "      <td>classification</td>\n",
       "      <td>[2015]A-Feature-based-Classification-of-Model-...</td>\n",
       "      <td>5</td>\n",
       "      <td>121</td>\n",
       "      <td>80</td>\n",
       "      <td>78</td>\n",
       "    </tr>\n",
       "    <tr>\n",
       "      <th>1</th>\n",
       "      <td>classification</td>\n",
       "      <td>[2018]Nonparametric-semisupervised-classificat...</td>\n",
       "      <td>9</td>\n",
       "      <td>189</td>\n",
       "      <td>115</td>\n",
       "      <td>111</td>\n",
       "    </tr>\n",
       "    <tr>\n",
       "      <th>2</th>\n",
       "      <td>classification</td>\n",
       "      <td>[2018]Rice-Classification-Using-Spatio-Spectra...</td>\n",
       "      <td>9</td>\n",
       "      <td>192</td>\n",
       "      <td>115</td>\n",
       "      <td>112</td>\n",
       "    </tr>\n",
       "    <tr>\n",
       "      <th>3</th>\n",
       "      <td>classification</td>\n",
       "      <td>[2011]A-Facial-Expression-Classification-Syste...</td>\n",
       "      <td>8</td>\n",
       "      <td>136</td>\n",
       "      <td>87</td>\n",
       "      <td>86</td>\n",
       "    </tr>\n",
       "    <tr>\n",
       "      <th>4</th>\n",
       "      <td>classification</td>\n",
       "      <td>[2018]Energy-Efficient-Event-Localization-and-...</td>\n",
       "      <td>7</td>\n",
       "      <td>207</td>\n",
       "      <td>136</td>\n",
       "      <td>133</td>\n",
       "    </tr>\n",
       "  </tbody>\n",
       "</table>\n",
       "</div>"
      ],
      "text/plain": [
       "            class                                          file_name  \\\n",
       "0  classification  [2015]A-Feature-based-Classification-of-Model-...   \n",
       "1  classification  [2018]Nonparametric-semisupervised-classificat...   \n",
       "2  classification  [2018]Rice-Classification-Using-Spatio-Spectra...   \n",
       "3  classification  [2011]A-Facial-Expression-Classification-Syste...   \n",
       "4  classification  [2018]Energy-Efficient-Event-Localization-and-...   \n",
       "\n",
       "   #sentences  #tokens  #unique_tokens  #unique_lemmatized  \n",
       "0           5      121              80                  78  \n",
       "1           9      189             115                 111  \n",
       "2           9      192             115                 112  \n",
       "3           8      136              87                  86  \n",
       "4           7      207             136                 133  "
      ]
     },
     "execution_count": 5,
     "metadata": {},
     "output_type": "execute_result"
    }
   ],
   "source": [
    "df.head()"
   ]
  },
  {
   "cell_type": "code",
   "execution_count": 6,
   "metadata": {},
   "outputs": [],
   "source": [
    "#df.describe()"
   ]
  },
  {
   "cell_type": "markdown",
   "metadata": {},
   "source": [
    "## Descriptive Measures about all Documents"
   ]
  },
  {
   "cell_type": "markdown",
   "metadata": {},
   "source": [
    "### Tokens and Sentences"
   ]
  },
  {
   "cell_type": "code",
   "execution_count": 7,
   "metadata": {},
   "outputs": [
    {
     "name": "stdout",
     "output_type": "stream",
     "text": [
      "Number of documents: 8241\n",
      "Number of unique files: 7989\n",
      "Number of tokens: 1448885\n",
      "Number of unique tokens: 41338\n",
      "Number of Sentences: 58252\n",
      "\n",
      "CPU times: user 161 ms, sys: 16.2 ms, total: 177 ms\n",
      "Wall time: 176 ms\n"
     ]
    }
   ],
   "source": [
    "%%time\n",
    "tokens = sum(list(_class_tokens.values()), []) # Get all values of dict[class: [tokens]] in a list\n",
    "print(\"Number of documents: {}\".format(df.shape[0]))\n",
    "print(\"Number of unique files: {}\".format(df[\"file_name\"].nunique()))\n",
    "print(\"Number of tokens: {}\".format(df[\"#tokens\"].sum()))\n",
    "print(\"Number of unique tokens: {}\".format(len({x for x in tokens})))\n",
    "print(\"Number of Sentences: {}\\n\".format(df[\"#sentences\"].sum()))"
   ]
  },
  {
   "cell_type": "markdown",
   "metadata": {},
   "source": [
    "### Noise in Corpus"
   ]
  },
  {
   "cell_type": "code",
   "execution_count": 8,
   "metadata": {},
   "outputs": [
    {
     "name": "stdout",
     "output_type": "stream",
     "text": [
      "Digits in tokens: 4298\n",
      "Punctuation in tokens: 150616\n",
      "Stop-Words in tokens: 450861\n",
      "Noise in corpus: 41.809736452513484%\n",
      "\n",
      "CPU times: user 3min 23s, sys: 40.8 s, total: 4min 4s\n",
      "Wall time: 4min 6s\n"
     ]
    }
   ],
   "source": [
    "%%time\n",
    "noise_numb = [x for x in tokens if x.isdigit()]\n",
    "noise_punct = [x for x in tokens if x in string.punctuation]\n",
    "noise_stopw = [x for x in tokens if x in stopwords.words('english')]\n",
    "noise = len(noise_numb) + len(noise_punct) + len(noise_stopw)\n",
    "noise_measure = noise/len(tokens) * 100\n",
    "\n",
    "print(\"Digits in tokens: {}\".format(len(noise_numb)))\n",
    "print(\"Punctuation in tokens: {}\".format(len(noise_punct)))\n",
    "print(\"Stop-Words in tokens: {}\".format(len(noise_stopw)))\n",
    "print(\"Noise in corpus: {}%\\n\".format(noise_measure))"
   ]
  },
  {
   "cell_type": "markdown",
   "metadata": {},
   "source": [
    "### Words in Corpus"
   ]
  },
  {
   "cell_type": "code",
   "execution_count": 9,
   "metadata": {},
   "outputs": [
    {
     "name": "stdout",
     "output_type": "stream",
     "text": [
      "Unique words: 40751\n",
      "Unqiue words after lemmatization (unique): 40751\n",
      "Unique word lost caused by lemmatization: 5.808446418492796%\n",
      "\n",
      "CPU times: user 286 ms, sys: 5.68 ms, total: 291 ms\n",
      "Wall time: 291 ms\n"
     ]
    }
   ],
   "source": [
    "%%time\n",
    "unique_words = set(tokens)-set(noise_numb)-set(noise_punct)-set(noise_stopw)\n",
    "len_unique_words = len(unique_words)\n",
    "len_unique_lemmas = len({lemmatizer.lemmatize(x) for x in unique_words})\n",
    "\n",
    "print(\"Unique words: {}\".format(len_unique_words))\n",
    "print(\"Unqiue words after lemmatization (unique): {}\".format(len_unique_words))\n",
    "print(\"Unique word lost caused by lemmatization: {}%\\n\".format((1-(len_unique_lemmas/len_unique_words))*100))"
   ]
  },
  {
   "cell_type": "markdown",
   "metadata": {},
   "source": [
    "## Visualizations\n",
    "\n",
    "TODO: \n",
    "1. There is still the _class_tokens object(dict[class_name: [tokens]]). Visualization about number of words, noise, etc. per class"
   ]
  },
  {
   "cell_type": "markdown",
   "metadata": {},
   "source": [
    "### Class Distribution"
   ]
  },
  {
   "cell_type": "code",
   "execution_count": 19,
   "metadata": {},
   "outputs": [
    {
     "data": {
      "text/plain": [
       "class\n",
       "association       2272\n",
       "classification    2016\n",
       "clustering        2271\n",
       "regression        1682\n",
       "Name: file_name, dtype: int64"
      ]
     },
     "execution_count": 19,
     "metadata": {},
     "output_type": "execute_result"
    },
    {
     "data": {
      "image/png": "[encoded data removed]",
      "text/plain": [
       "<Figure size 432x288 with 1 Axes>"
      ]
     },
     "metadata": {},
     "output_type": "display_data"
    }
   ],
   "source": [
    "ax = sns.countplot(x=\"class\", data=df, order = df['class'].value_counts().index)\n",
    "df.groupby('class').count()[\"file_name\"]"
   ]
  },
  {
   "cell_type": "markdown",
   "metadata": {},
   "source": [
    "### Barplot Document-Level"
   ]
  },
  {
   "cell_type": "code",
   "execution_count": 11,
   "metadata": {},
   "outputs": [
    {
     "data": {
      "image/png": "[encoded data removed]",
      "text/plain": [
       "<Figure size 1152x720 with 4 Axes>"
      ]
     },
     "metadata": {},
     "output_type": "display_data"
    }
   ],
   "source": [
    "figure = plt.figure()\n",
    "#figure.suptitle(\"Averaged Measures\")\n",
    "figure.set_size_inches(16,10)\n",
    "\n",
    "ax_1 = figure.add_subplot(2,2,1)\n",
    "ax_2 = figure.add_subplot(2,2,2)\n",
    "ax_3 = figure.add_subplot(2,2,3)\n",
    "ax_4 = figure.add_subplot(2,2,4)\n",
    "\n",
    "ax_1.set_title(\"Average sentences per class\")\n",
    "ax_2.set_title(\"Average tokens in one document\")\n",
    "ax_3.set_title(\"Average unique tokens in one document\")\n",
    "ax_4.set_title(\"Average lemmatized words in one document\")\n",
    "\n",
    "plt_sent = sns.barplot(x=\"#sentences\", y = \"class\", data=df, ax=ax_1)\n",
    "plt_word = sns.barplot(x=\"#tokens\", y = \"class\", data = df, ax=ax_2)\n",
    "plt_uword = sns.barplot(x=\"#unique_tokens\", y = \"class\", data = df, ax=ax_3)\n",
    "plt_lemma = sns.barplot(x=\"#unique_lemmatized\", y = \"class\", data = df, ax=ax_4)\n",
    "\n",
    "plt.tight_layout()"
   ]
  }
 ],
 "metadata": {
  "kernelspec": {
   "display_name": "Python 3",
   "language": "python",
   "name": "python3"
  },
  "language_info": {
   "codemirror_mode": {
    "name": "ipython",
    "version": 3
   },
   "file_extension": ".py",
   "mimetype": "text/x-python",
   "name": "python",
   "nbconvert_exporter": "python",
   "pygments_lexer": "ipython3",
   "version": "3.6.5"
  }
 },
 "nbformat": 4,
 "nbformat_minor": 2
}
