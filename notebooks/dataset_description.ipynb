{
 "cells": [
  {
   "cell_type": "markdown",
   "metadata": {},
   "source": [
    "# Descriptive Notebook for Text-based Datasets\n",
    "___\n",
    "__Name of dataset__: richard_sd_02122018\n",
    "__Date__: 02.12.2018  \n",
    "__Creator__: Richard  \n",
    "__Purpose__: No specific pipeline   \n",
    "__Crawled Databases__: All databases in Elsevier \n",
    "\n",
    "__Used Queries (Code Snippet)____:\n",
    "\n",
    "```\n",
    "queries = [\"Title-Abstr-Key%28Clustering+AND+data%29+AND+Title%28Clustering%29\",\n",
    "               \"Title-Abstr-Key%28Clustering+is%29+AND+Title%28Clustering%29\",\n",
    "               \"Title-Abstr-Key%28Classification+is%29+AND+Title%28Classification+OR+Prediction%29\",\n",
    "               \"Title-Abstr-Key%28Classification+AND+Prediction%29+AND+Title%28Classification+OR+Prediction%29\", \n",
    "               \"Title-Abstr-Key%28Sequence+Analysis+is%29+AND+Title%28Sequence%29\",\n",
    "               \"Title-Abstr-Key%28Sequence+Analysis+AND+data%29+AND+Title%28Sequence%29\",\n",
    "               \"Title-Abstr-Key%28Sequence+Analytics+AND+data%29+AND+Title%28Sequence%29\",\n",
    "               \"Title-Abstr-Key%28Association+rule+AND+data%29+AND+Title%28Association%29\",\n",
    "               \"Title-Abstr-Key%28Association+rule+mining+is%29+AND+Title%28Association%29\",\n",
    "               \"Title-Abstr-Key%28Sequential+Pattern%29\",\n",
    "               \"Title-Abstr-Key%28Frequent+Pattern%29\",\n",
    "               \"Title-Abstr-Key%28Regression+is%29+AND+Title%28Prediction%29\",\n",
    "               \"Title-Abstr-Key%28Regression+AND+data%29+AND+Title%28Prediction%29\"]\n",
    "```\n",
    "__Additional Notes__:  \n",
    "<p>Dataset consists of already cleaned documents. Amount of crawled data is too high to process here. So every document consists only of one sentence.</p>\n",
    "<p>The following steps were done: </p>\n",
    "<ol>\n",
    "    <li>Filtered sentences to sentences containing any of a list of keywords (see list below)</li>\n",
    "    <li>Used manually (keyword extraction) created topics to find similarity to sentences</li>\n",
    "    <li>Only used 25% of the most similar sentences as final dataset.</li>\n",
    "</ol>\n",
    "Used Keywords for searching: <br>\n",
    "\n",
    "```\n",
    "search_terms_for_patterns = [\"frequent pattern mining is\", \"pattern analysis is\", \"frequent pattern mining aims\", \"frequent pattern is\", \"frequent pattern mining defined\", \"frequent patterns are\", \"pattern analysis\", \"sequential patterns are\", \"sequential pattern mining is\", \"sequential pattern mining defined\", \"pattern mining aims\", \"pattern mining is\", \"association rules are\", \"association rule mining is\", \"association rule mining aims\"]\n",
    "\n",
    "search_terms_for_prediction = [\"prediction aims\", \"prediction is\", \"classification is\", \"classification aims\", \"classification defined\", \"classification defines\", \"regression is\", \"regression aims\", \"regression defined\", \"regression defines\", \"regression analysis is\", \"classification analysis is\", \"classification analysis aims\", \"regression analysis aims\"]\n",
    "\n",
    "search_terms_for_clustering = [\"clustering is\", \"clustering defined\", \"clustering defines\", \"clustering aims\", \"cluster analysis is\", \"cluster analysis aims\", \"cluster analysis defined\", \"cluster analysis defines\"]\n",
    "\n",
    "```\n",
    "___\n"
   ]
  },
  {
   "cell_type": "code",
   "execution_count": 3,
   "metadata": {},
   "outputs": [],
   "source": [
    "import os\n",
    "import pandas as pd\n",
    "import matplotlib.pyplot as plt\n",
    "import seaborn as sns\n",
    "from nltk.tokenize import sent_tokenize, word_tokenize\n",
    "from nltk.stem import WordNetLemmatizer\n",
    "from nltk.corpus import stopwords\n",
    "from typing import *\n",
    "import string\n",
    "from tqdm import tqdm\n",
    "sns.reset_defaults()"
   ]
  },
  {
   "cell_type": "markdown",
   "metadata": {},
   "source": [
    "## Loading the data \n",
    "__Dir structure__ for text-based dataset is stored as illustrated: \n",
    "- super_dir\n",
    "    - dir(represents the class of the txt)\n",
    "        - 1.txt\n",
    "        - 2.txt\n",
    "        - n.txt\n",
    "    - dir (another class)\n",
    "        - 1.txt\n",
    "        - 2.txt\n",
    "        - n.txt"
   ]
  },
  {
   "cell_type": "code",
   "execution_count": 4,
   "metadata": {},
   "outputs": [],
   "source": [
    "super_dir = \"../helper/data_selection/topic_based_approaches/out\""
   ]
  },
  {
   "cell_type": "code",
   "execution_count": 5,
   "metadata": {},
   "outputs": [
    {
     "name": "stderr",
     "output_type": "stream",
     "text": [
      "100%|██████████| 510/510 [00:02<00:00, 212.57it/s]\n",
      "100%|██████████| 2189/2189 [00:04<00:00, 523.40it/s]\n",
      "100%|██████████| 2487/2487 [00:04<00:00, 514.92it/s]"
     ]
    },
    {
     "name": "stdout",
     "output_type": "stream",
     "text": [
      "CPU times: user 5.68 s, sys: 885 ms, total: 6.57 s\n",
      "Wall time: 11.4 s\n"
     ]
    },
    {
     "name": "stderr",
     "output_type": "stream",
     "text": [
      "\n"
     ]
    }
   ],
   "source": [
    "%%time\n",
    "_classes = []\n",
    "_paths = []\n",
    "_sentences_len = []\n",
    "_tokens_len = []\n",
    "_words_len = []\n",
    "_unique_tokens_len = []\n",
    "_unique_lemmatized = []\n",
    "#_tokens = []\n",
    "_class_tokens = {}\n",
    "lemmatizer = WordNetLemmatizer()\n",
    "for root, dirs, files in os.walk(super_dir):\n",
    "    if len(dirs) == 0:\n",
    "        # treat super dir as class\n",
    "        pass\n",
    "    else:\n",
    "        for _class_name in dirs: \n",
    "            path = os.path.join(super_dir, _class_name)\n",
    "            #x = [data.append({_class_name: os.path.join(path, x)}) for x in os.listdir(path) if x.endswith(\".txt\")]\n",
    "            for file_path in tqdm([x for x in os.listdir(path) if x.endswith(\".txt\")]):\n",
    "                \n",
    "                # Read File\n",
    "                file = open(os.path.join(path,file_path), \"r\")\n",
    "                txt = file.read()\n",
    "                file.close()\n",
    "                # Tokenization\n",
    "                tokens = word_tokenize(txt)\n",
    "                unique_tokens = set(tokens)\n",
    "                \n",
    "                #Building dict[class: tokens]\n",
    "                if _class_name in _class_tokens.keys():\n",
    "                    _class_tokens[_class_name] += tokens\n",
    "                else:\n",
    "                    _class_tokens.update({_class_name: tokens})\n",
    "                \n",
    "                #Filling list for pd.DataFrame\n",
    "                _unique_lemmatized.append(len({lemmatizer.lemmatize(x) for x in tokens}))\n",
    "                #[_tokens.append(x) for x in words]\n",
    "                _tokens_len.append(len(tokens))\n",
    "                _unique_tokens_len.append(len(set(tokens)))\n",
    "                _classes.append(_class_name)\n",
    "                _paths.append(os.path.join(file_path))\n",
    "                _sentences_len.append(len(sent_tokenize(txt)))\n",
    "                \n",
    "                \n",
    "            \n"
   ]
  },
  {
   "cell_type": "code",
   "execution_count": 6,
   "metadata": {},
   "outputs": [],
   "source": [
    "df = pd.DataFrame(list(zip(_classes, _paths, _sentences_len, _tokens_len, _unique_tokens_len, _unique_lemmatized)),\n",
    "                  columns = [\"class\", \"file_name\", \"#sentences\", \"#tokens\", \"#unique_tokens\",\"#unique_lemmatized\"])"
   ]
  },
  {
   "cell_type": "code",
   "execution_count": 7,
   "metadata": {},
   "outputs": [
    {
     "data": {
      "text/html": [
       "<div>\n",
       "<style scoped>\n",
       "    .dataframe tbody tr th:only-of-type {\n",
       "        vertical-align: middle;\n",
       "    }\n",
       "\n",
       "    .dataframe tbody tr th {\n",
       "        vertical-align: top;\n",
       "    }\n",
       "\n",
       "    .dataframe thead th {\n",
       "        text-align: right;\n",
       "    }\n",
       "</style>\n",
       "<table border=\"1\" class=\"dataframe\">\n",
       "  <thead>\n",
       "    <tr style=\"text-align: right;\">\n",
       "      <th></th>\n",
       "      <th>class</th>\n",
       "      <th>file_name</th>\n",
       "      <th>#sentences</th>\n",
       "      <th>#tokens</th>\n",
       "      <th>#unique_tokens</th>\n",
       "      <th>#unique_lemmatized</th>\n",
       "    </tr>\n",
       "  </thead>\n",
       "  <tbody>\n",
       "    <tr>\n",
       "      <th>0</th>\n",
       "      <td>sequential_pattern_mining</td>\n",
       "      <td>frequent_pattern_mining_65.txt</td>\n",
       "      <td>2</td>\n",
       "      <td>23</td>\n",
       "      <td>18</td>\n",
       "      <td>18</td>\n",
       "    </tr>\n",
       "    <tr>\n",
       "      <th>1</th>\n",
       "      <td>sequential_pattern_mining</td>\n",
       "      <td>frequent_pattern_mining_71.txt</td>\n",
       "      <td>1</td>\n",
       "      <td>16</td>\n",
       "      <td>14</td>\n",
       "      <td>14</td>\n",
       "    </tr>\n",
       "    <tr>\n",
       "      <th>2</th>\n",
       "      <td>sequential_pattern_mining</td>\n",
       "      <td>frequent_pattern_mining_59.txt</td>\n",
       "      <td>1</td>\n",
       "      <td>19</td>\n",
       "      <td>18</td>\n",
       "      <td>18</td>\n",
       "    </tr>\n",
       "    <tr>\n",
       "      <th>3</th>\n",
       "      <td>sequential_pattern_mining</td>\n",
       "      <td>frequent_pattern_mining_275.txt</td>\n",
       "      <td>1</td>\n",
       "      <td>20</td>\n",
       "      <td>17</td>\n",
       "      <td>17</td>\n",
       "    </tr>\n",
       "    <tr>\n",
       "      <th>4</th>\n",
       "      <td>sequential_pattern_mining</td>\n",
       "      <td>frequent_pattern_mining_507.txt</td>\n",
       "      <td>1</td>\n",
       "      <td>19</td>\n",
       "      <td>18</td>\n",
       "      <td>18</td>\n",
       "    </tr>\n",
       "  </tbody>\n",
       "</table>\n",
       "</div>"
      ],
      "text/plain": [
       "                       class                        file_name  #sentences  \\\n",
       "0  sequential_pattern_mining   frequent_pattern_mining_65.txt           2   \n",
       "1  sequential_pattern_mining   frequent_pattern_mining_71.txt           1   \n",
       "2  sequential_pattern_mining   frequent_pattern_mining_59.txt           1   \n",
       "3  sequential_pattern_mining  frequent_pattern_mining_275.txt           1   \n",
       "4  sequential_pattern_mining  frequent_pattern_mining_507.txt           1   \n",
       "\n",
       "   #tokens  #unique_tokens  #unique_lemmatized  \n",
       "0       23              18                  18  \n",
       "1       16              14                  14  \n",
       "2       19              18                  18  \n",
       "3       20              17                  17  \n",
       "4       19              18                  18  "
      ]
     },
     "execution_count": 7,
     "metadata": {},
     "output_type": "execute_result"
    }
   ],
   "source": [
    "df.head()"
   ]
  },
  {
   "cell_type": "code",
   "execution_count": 8,
   "metadata": {},
   "outputs": [],
   "source": [
    "#df.describe()"
   ]
  },
  {
   "cell_type": "markdown",
   "metadata": {},
   "source": [
    "## Descriptive Measures about all Documents"
   ]
  },
  {
   "cell_type": "markdown",
   "metadata": {},
   "source": [
    "### Tokens and Sentences"
   ]
  },
  {
   "cell_type": "code",
   "execution_count": 9,
   "metadata": {},
   "outputs": [
    {
     "name": "stdout",
     "output_type": "stream",
     "text": [
      "Number of documents: 5186\n",
      "Number of unique files: 5186\n",
      "Number of tokens: 155801\n",
      "Number of unique tokens: 7589\n",
      "Number of Sentences: 5592\n",
      "\n",
      "CPU times: user 25.8 ms, sys: 3.45 ms, total: 29.2 ms\n",
      "Wall time: 28 ms\n"
     ]
    }
   ],
   "source": [
    "%%time\n",
    "tokens = sum(list(_class_tokens.values()), []) # Get all values of dict[class: [tokens]] in a list\n",
    "print(\"Number of documents: {}\".format(df.shape[0]))\n",
    "print(\"Number of unique files: {}\".format(df[\"file_name\"].nunique()))\n",
    "print(\"Number of tokens: {}\".format(df[\"#tokens\"].sum()))\n",
    "print(\"Number of unique tokens: {}\".format(len({x for x in tokens})))\n",
    "print(\"Number of Sentences: {}\\n\".format(df[\"#sentences\"].sum()))"
   ]
  },
  {
   "cell_type": "markdown",
   "metadata": {},
   "source": [
    "### Noise in Corpus"
   ]
  },
  {
   "cell_type": "code",
   "execution_count": 10,
   "metadata": {},
   "outputs": [
    {
     "name": "stdout",
     "output_type": "stream",
     "text": [
      "Digits in tokens: 0\n",
      "Punctuation in tokens: 11688\n",
      "Stop-Words in tokens: 57928\n",
      "Noise in corpus: 44.68264003440286%\n",
      "\n",
      "CPU times: user 22.7 s, sys: 4.92 s, total: 27.6 s\n",
      "Wall time: 27.9 s\n"
     ]
    }
   ],
   "source": [
    "%%time\n",
    "noise_numb = [x for x in tokens if x.isdigit()]\n",
    "noise_punct = [x for x in tokens if x in string.punctuation]\n",
    "noise_stopw = [x for x in tokens if x in stopwords.words('english')]\n",
    "noise = len(noise_numb) + len(noise_punct) + len(noise_stopw)\n",
    "noise_measure = noise/len(tokens) * 100\n",
    "\n",
    "print(\"Digits in tokens: {}\".format(len(noise_numb)))\n",
    "print(\"Punctuation in tokens: {}\".format(len(noise_punct)))\n",
    "print(\"Stop-Words in tokens: {}\".format(len(noise_stopw)))\n",
    "print(\"Noise in corpus: {}%\\n\".format(noise_measure))"
   ]
  },
  {
   "cell_type": "markdown",
   "metadata": {},
   "source": [
    "### Words in Corpus"
   ]
  },
  {
   "cell_type": "code",
   "execution_count": 14,
   "metadata": {},
   "outputs": [
    {
     "name": "stdout",
     "output_type": "stream",
     "text": [
      "Unique words: 7470\n",
      "Unqiue words after lemmatization (unique): 6715\n",
      "Unique word lost caused by lemmatization: 10.107095046854086%\n",
      "\n",
      "CPU times: user 54.7 ms, sys: 3.84 ms, total: 58.6 ms\n",
      "Wall time: 55.9 ms\n"
     ]
    }
   ],
   "source": [
    "%%time\n",
    "unique_words = set(tokens)-set(noise_numb)-set(noise_punct)-set(noise_stopw)\n",
    "len_unique_words = len(unique_words)\n",
    "len_unique_lemmas = len({lemmatizer.lemmatize(x) for x in unique_words})\n",
    "\n",
    "print(\"Unique words: {}\".format(len_unique_words))\n",
    "print(\"Unqiue words after lemmatization (unique): {}\".format(len_unique_lemmas))\n",
    "print(\"Unique word lost caused by lemmatization: {}%\\n\".format((1-(len_unique_lemmas/len_unique_words))*100))"
   ]
  },
  {
   "cell_type": "markdown",
   "metadata": {},
   "source": [
    "## Visualizations\n",
    "\n",
    "TODO: \n",
    "1. There is still the _class_tokens object(dict[class_name: [tokens]]). Visualization about number of words, noise, etc. per class"
   ]
  },
  {
   "cell_type": "markdown",
   "metadata": {},
   "source": [
    "### Class Distribution"
   ]
  },
  {
   "cell_type": "code",
   "execution_count": 15,
   "metadata": {},
   "outputs": [
    {
     "data": {
      "text/plain": [
       "class\n",
       "clustering                   2487\n",
       "prediction                   2189\n",
       "sequential_pattern_mining     510\n",
       "Name: file_name, dtype: int64"
      ]
     },
     "execution_count": 15,
     "metadata": {},
     "output_type": "execute_result"
    },
    {
     "data": {
      "image/png": "[encoded data removed]",
      "text/plain": [
       "<Figure size 432x288 with 1 Axes>"
      ]
     },
     "metadata": {
      "needs_background": "light"
     },
     "output_type": "display_data"
    }
   ],
   "source": [
    "ax = sns.countplot(x=\"class\", data=df, order = df['class'].value_counts().index)\n",
    "df.groupby('class').count()[\"file_name\"]"
   ]
  },
  {
   "cell_type": "markdown",
   "metadata": {},
   "source": [
    "### Barplot Document-Level"
   ]
  },
  {
   "cell_type": "code",
   "execution_count": 16,
   "metadata": {},
   "outputs": [
    {
     "data": {
      "image/png": "[encoded data removed]",
      "text/plain": [
       "<Figure size 1152x720 with 4 Axes>"
      ]
     },
     "metadata": {
      "needs_background": "light"
     },
     "output_type": "display_data"
    }
   ],
   "source": [
    "figure = plt.figure()\n",
    "#figure.suptitle(\"Averaged Measures\")\n",
    "figure.set_size_inches(16,10)\n",
    "\n",
    "ax_1 = figure.add_subplot(2,2,1)\n",
    "ax_2 = figure.add_subplot(2,2,2)\n",
    "ax_3 = figure.add_subplot(2,2,3)\n",
    "ax_4 = figure.add_subplot(2,2,4)\n",
    "\n",
    "ax_1.set_title(\"Average sentences per class\")\n",
    "ax_2.set_title(\"Average tokens in one document\")\n",
    "ax_3.set_title(\"Average unique tokens in one document\")\n",
    "ax_4.set_title(\"Average lemmatized words in one document\")\n",
    "\n",
    "plt_sent = sns.barplot(x=\"#sentences\", y = \"class\", data=df, ax=ax_1)\n",
    "plt_word = sns.barplot(x=\"#tokens\", y = \"class\", data = df, ax=ax_2)\n",
    "plt_uword = sns.barplot(x=\"#unique_tokens\", y = \"class\", data = df, ax=ax_3)\n",
    "plt_lemma = sns.barplot(x=\"#unique_lemmatized\", y = \"class\", data = df, ax=ax_4)\n",
    "\n",
    "plt.tight_layout()"
   ]
  },
  {
   "cell_type": "code",
   "execution_count": null,
   "metadata": {},
   "outputs": [],
   "source": []
  }
 ],
 "metadata": {
  "kernelspec": {
   "display_name": "Python 3",
   "language": "python",
   "name": "python3"
  },
  "language_info": {
   "codemirror_mode": {
    "name": "ipython",
    "version": 3
   },
   "file_extension": ".py",
   "mimetype": "text/x-python",
   "name": "python",
   "nbconvert_exporter": "python",
   "pygments_lexer": "ipython3",
   "version": "3.6.5"
  }
 },
 "nbformat": 4,
 "nbformat_minor": 2
}
