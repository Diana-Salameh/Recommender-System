{
 "cells": [
  {
   "cell_type": "markdown",
   "metadata": {},
   "source": [
    "# Glove vs DAN\n",
    "\n",
    "We want to illustrate the the Feedforward Layers of an DAN learn a more abstract representation then simple bow-averaging, so that each layer will increasingly magnify small but meaningful differences in the word embedding average."
   ]
  },
  {
   "cell_type": "markdown",
   "metadata": {},
   "source": [
    "Notes:\n",
    "___\n",
    "\n",
    "1. For PCA are to similar sentences shit.. \n",
    "2. T-SNE -> Results are shit. How does this algorithm work??\n",
    "3. PFFFF\n",
    "\n",
    "4. Maybe it looks much better in a 3D Plot\n",
    "\n",
    "\n",
    "Try this whole shit with.. Trained USE"
   ]
  },
  {
   "cell_type": "code",
   "execution_count": 2,
   "metadata": {},
   "outputs": [],
   "source": [
    "import os\n",
    "import numpy as np\n",
    "import pandas as pd\n",
    "import tensorflow as tf \n",
    "import tensorflow_hub as tf_hub\n",
    "import seaborn as sns\n",
    "from typing import *"
   ]
  },
  {
   "cell_type": "code",
   "execution_count": 3,
   "metadata": {},
   "outputs": [],
   "source": [
    "from gensim.scripts.glove2word2vec import glove2word2vec\n",
    "from gensim.models.keyedvectors import KeyedVectors"
   ]
  },
  {
   "cell_type": "code",
   "execution_count": 4,
   "metadata": {},
   "outputs": [
    {
     "name": "stdout",
     "output_type": "stream",
     "text": [
      "INFO:tensorflow:Using /tfhub to cache modules.\n"
     ]
    }
   ],
   "source": [
    "# Implementing TFhub env\n",
    "os.environ[\"TFHUB_CACHE_DIR\"] = '/tfhub'\n",
    "model_url = \"https://tfhub.dev/google/universal-sentence-encoder/2\"\n",
    "\n",
    "model_use = tf_hub.Module(model_url, trainable=False)"
   ]
  },
  {
   "cell_type": "code",
   "execution_count": 5,
   "metadata": {},
   "outputs": [],
   "source": [
    "# https://nlp.stanford.edu/projects/glove\n",
    "glove_vecs = \"/Users/Daniel/Downloads/glove.6B/glove.6B.300d.txt\"\n",
    "word2vec_out = \"/Users/Daniel/Downloads/glove.6B/w2v.6B.300d.txt\" # Place for transformed GloveFiles"
   ]
  },
  {
   "cell_type": "code",
   "execution_count": 6,
   "metadata": {},
   "outputs": [],
   "source": [
    "s1 = \"i want to predict costs\"\n",
    "s2 = \"i want to predict the stock price\"\n",
    "s3 = \"i want to find sequence pattern\"\n",
    "s4 = \"i want similar costs\"\n",
    "\n",
    "sentences = [s1,s2,s3, s4]"
   ]
  },
  {
   "cell_type": "markdown",
   "metadata": {},
   "source": [
    "## Transforming Glove Vectors to Word2Vec Format"
   ]
  },
  {
   "cell_type": "code",
   "execution_count": 7,
   "metadata": {},
   "outputs": [
    {
     "name": "stdout",
     "output_type": "stream",
     "text": [
      "CPU times: user 2min 10s, sys: 2.56 s, total: 2min 13s\n",
      "Wall time: 2min 17s\n"
     ]
    }
   ],
   "source": [
    "%%time\n",
    "# glove2word2vec(glove_input_file=glove_vecs, word2vec_output_file=word2vec_out)\n",
    "glove_model = KeyedVectors.load_word2vec_format(word2vec_out, binary=False)"
   ]
  },
  {
   "cell_type": "markdown",
   "metadata": {},
   "source": [
    "## Sentences to Vectors"
   ]
  },
  {
   "cell_type": "code",
   "execution_count": 8,
   "metadata": {},
   "outputs": [
    {
     "name": "stdout",
     "output_type": "stream",
     "text": [
      "INFO:tensorflow:Saver not created because there are no variables in the graph to restore\n",
      "CPU times: user 25.1 s, sys: 6.42 s, total: 31.5 s\n",
      "Wall time: 31.3 s\n"
     ]
    }
   ],
   "source": [
    "%%time\n",
    "_dict = {}\n",
    "with tf.Session() as session: \n",
    "    # Initializing global variables in the graph \n",
    "    session.run([tf.global_variables_initializer(), tf.tables_initializer()])\n",
    "    \n",
    "    sentence_embeddings = session.run(model_use(sentences))\n",
    "    for index, se in enumerate(sentence_embeddings):\n",
    "        _dict.update({sentences[index]: se})"
   ]
  },
  {
   "cell_type": "code",
   "execution_count": 9,
   "metadata": {},
   "outputs": [
    {
     "data": {
      "text/plain": [
       "dict_keys(['i want to predict costs', 'i want to predict the stock price', 'i want to find sequence pattern', 'i want similar costs'])"
      ]
     },
     "execution_count": 9,
     "metadata": {},
     "output_type": "execute_result"
    }
   ],
   "source": [
    "_dict.keys()"
   ]
  },
  {
   "cell_type": "markdown",
   "metadata": {},
   "source": [
    "### GLOVE"
   ]
  },
  {
   "cell_type": "markdown",
   "metadata": {},
   "source": [
    "#### Creating word set"
   ]
  },
  {
   "cell_type": "code",
   "execution_count": 10,
   "metadata": {},
   "outputs": [],
   "source": [
    "### getting every word\n",
    "from nltk.tokenize import word_tokenize\n",
    "word_set = set()\n",
    "\n",
    "for sentence in sentences:\n",
    "    words = word_tokenize(sentence)\n",
    "    for word in words: \n",
    "        word_set.add(word)"
   ]
  },
  {
   "cell_type": "markdown",
   "metadata": {},
   "source": [
    "#### Getting word vectors"
   ]
  },
  {
   "cell_type": "code",
   "execution_count": 11,
   "metadata": {},
   "outputs": [],
   "source": [
    "_dict_words = {}\n",
    "\n",
    "for word in word_set: \n",
    "    _dict_words.update({word: glove_model[word]})"
   ]
  },
  {
   "cell_type": "code",
   "execution_count": 12,
   "metadata": {},
   "outputs": [
    {
     "data": {
      "text/plain": [
       "dict_keys(['find', 'to', 'pattern', 'similar', 'predict', 'costs', 'sequence', 'i', 'want', 'price', 'stock', 'the'])"
      ]
     },
     "execution_count": 12,
     "metadata": {},
     "output_type": "execute_result"
    }
   ],
   "source": [
    "_dict_words.keys()"
   ]
  },
  {
   "cell_type": "markdown",
   "metadata": {},
   "source": [
    "#### Averaging words"
   ]
  },
  {
   "cell_type": "code",
   "execution_count": 13,
   "metadata": {},
   "outputs": [],
   "source": [
    "def calculate_average(bag_of_words: List[np.ndarray]):\n",
    "    _vector_sum = np.zeros((300,))\n",
    "    for x in bag_of_words:\n",
    "        _vector_sum += x\n",
    "       \n",
    "    return (_vector_sum/len(bag_of_words))"
   ]
  },
  {
   "cell_type": "code",
   "execution_count": null,
   "metadata": {},
   "outputs": [],
   "source": []
  },
  {
   "cell_type": "code",
   "execution_count": 14,
   "metadata": {},
   "outputs": [],
   "source": [
    "_dict_averages = {}\n",
    "for sentence in sentences:\n",
    "    bag_of_words = []\n",
    "    for word in _dict_words.keys():\n",
    "        if word in sentence: \n",
    "            bag_of_words.append(_dict_words[word])\n",
    "    average = calculate_average(bag_of_words)\n",
    "    _dict_averages.update({sentence: average})"
   ]
  },
  {
   "cell_type": "code",
   "execution_count": 15,
   "metadata": {},
   "outputs": [
    {
     "data": {
      "text/plain": [
       "dict_keys(['i want to predict costs', 'i want to predict the stock price', 'i want to find sequence pattern', 'i want similar costs'])"
      ]
     },
     "execution_count": 15,
     "metadata": {},
     "output_type": "execute_result"
    }
   ],
   "source": [
    "_dict_averages.keys()"
   ]
  },
  {
   "cell_type": "code",
   "execution_count": 16,
   "metadata": {},
   "outputs": [],
   "source": [
    "#_dict_averages"
   ]
  },
  {
   "cell_type": "markdown",
   "metadata": {},
   "source": [
    "### Dimensionality Reduction"
   ]
  },
  {
   "cell_type": "code",
   "execution_count": 17,
   "metadata": {},
   "outputs": [],
   "source": [
    "from sklearn.decomposition import PCA"
   ]
  },
  {
   "cell_type": "code",
   "execution_count": 18,
   "metadata": {},
   "outputs": [],
   "source": [
    "pca_USE = PCA(n_components=2)\n",
    "pca_glove = PCA(n_components=2)"
   ]
  },
  {
   "cell_type": "code",
   "execution_count": 19,
   "metadata": {},
   "outputs": [],
   "source": [
    "vectors_use = []\n",
    "\n",
    "for sentence in sentences: \n",
    "    vectors_use.append(_dict[sentence])\n",
    "    \n",
    "vectors_glove = []\n",
    "for sentence in sentences: \n",
    "    vectors_glove.append(_dict_averages[sentence])"
   ]
  },
  {
   "cell_type": "code",
   "execution_count": null,
   "metadata": {},
   "outputs": [],
   "source": []
  },
  {
   "cell_type": "code",
   "execution_count": 20,
   "metadata": {},
   "outputs": [],
   "source": [
    "matrix_use = pca_USE.fit_transform(vectors_use)\n",
    "matrix_glove = pca_glove.fit_transform(vectors_glove)"
   ]
  },
  {
   "cell_type": "code",
   "execution_count": 21,
   "metadata": {},
   "outputs": [],
   "source": [
    "df_use = pd.DataFrame(data = {\"sentence\": sentences,      \n",
    "                    \"x\": matrix_use[:,0],\n",
    "                    \"y\": matrix_use[:,1]\n",
    "                    })\n",
    "\n",
    "df_glove = pd.DataFrame(data = {\"sentence\": sentences,      \n",
    "                    \"x\": matrix_glove[:,0],\n",
    "                    \"y\": matrix_glove[:,1]\n",
    "                    })"
   ]
  },
  {
   "cell_type": "code",
   "execution_count": 22,
   "metadata": {},
   "outputs": [
    {
     "data": {
      "text/html": [
       "<div>\n",
       "<style scoped>\n",
       "    .dataframe tbody tr th:only-of-type {\n",
       "        vertical-align: middle;\n",
       "    }\n",
       "\n",
       "    .dataframe tbody tr th {\n",
       "        vertical-align: top;\n",
       "    }\n",
       "\n",
       "    .dataframe thead th {\n",
       "        text-align: right;\n",
       "    }\n",
       "</style>\n",
       "<table border=\"1\" class=\"dataframe\">\n",
       "  <thead>\n",
       "    <tr style=\"text-align: right;\">\n",
       "      <th></th>\n",
       "      <th>sentence</th>\n",
       "      <th>x</th>\n",
       "      <th>y</th>\n",
       "    </tr>\n",
       "  </thead>\n",
       "  <tbody>\n",
       "    <tr>\n",
       "      <th>0</th>\n",
       "      <td>i want to predict costs</td>\n",
       "      <td>-0.305399</td>\n",
       "      <td>-0.102889</td>\n",
       "    </tr>\n",
       "    <tr>\n",
       "      <th>1</th>\n",
       "      <td>i want to predict the stock price</td>\n",
       "      <td>-0.190863</td>\n",
       "      <td>-0.580479</td>\n",
       "    </tr>\n",
       "    <tr>\n",
       "      <th>2</th>\n",
       "      <td>i want to find sequence pattern</td>\n",
       "      <td>0.809887</td>\n",
       "      <td>0.064180</td>\n",
       "    </tr>\n",
       "    <tr>\n",
       "      <th>3</th>\n",
       "      <td>i want similar costs</td>\n",
       "      <td>-0.313625</td>\n",
       "      <td>0.619189</td>\n",
       "    </tr>\n",
       "  </tbody>\n",
       "</table>\n",
       "</div>"
      ],
      "text/plain": [
       "                            sentence         x         y\n",
       "0            i want to predict costs -0.305399 -0.102889\n",
       "1  i want to predict the stock price -0.190863 -0.580479\n",
       "2    i want to find sequence pattern  0.809887  0.064180\n",
       "3               i want similar costs -0.313625  0.619189"
      ]
     },
     "execution_count": 22,
     "metadata": {},
     "output_type": "execute_result"
    }
   ],
   "source": [
    "df_use"
   ]
  },
  {
   "cell_type": "code",
   "execution_count": 23,
   "metadata": {},
   "outputs": [
    {
     "data": {
      "text/html": [
       "<div>\n",
       "<style scoped>\n",
       "    .dataframe tbody tr th:only-of-type {\n",
       "        vertical-align: middle;\n",
       "    }\n",
       "\n",
       "    .dataframe tbody tr th {\n",
       "        vertical-align: top;\n",
       "    }\n",
       "\n",
       "    .dataframe thead th {\n",
       "        text-align: right;\n",
       "    }\n",
       "</style>\n",
       "<table border=\"1\" class=\"dataframe\">\n",
       "  <thead>\n",
       "    <tr style=\"text-align: right;\">\n",
       "      <th></th>\n",
       "      <th>sentence</th>\n",
       "      <th>x</th>\n",
       "      <th>y</th>\n",
       "    </tr>\n",
       "  </thead>\n",
       "  <tbody>\n",
       "    <tr>\n",
       "      <th>0</th>\n",
       "      <td>i want to predict costs</td>\n",
       "      <td>-0.651092</td>\n",
       "      <td>-0.066004</td>\n",
       "    </tr>\n",
       "    <tr>\n",
       "      <th>1</th>\n",
       "      <td>i want to predict the stock price</td>\n",
       "      <td>-0.563146</td>\n",
       "      <td>1.229694</td>\n",
       "    </tr>\n",
       "    <tr>\n",
       "      <th>2</th>\n",
       "      <td>i want to find sequence pattern</td>\n",
       "      <td>1.715635</td>\n",
       "      <td>0.029793</td>\n",
       "    </tr>\n",
       "    <tr>\n",
       "      <th>3</th>\n",
       "      <td>i want similar costs</td>\n",
       "      <td>-0.501397</td>\n",
       "      <td>-1.193483</td>\n",
       "    </tr>\n",
       "  </tbody>\n",
       "</table>\n",
       "</div>"
      ],
      "text/plain": [
       "                            sentence         x         y\n",
       "0            i want to predict costs -0.651092 -0.066004\n",
       "1  i want to predict the stock price -0.563146  1.229694\n",
       "2    i want to find sequence pattern  1.715635  0.029793\n",
       "3               i want similar costs -0.501397 -1.193483"
      ]
     },
     "execution_count": 23,
     "metadata": {},
     "output_type": "execute_result"
    }
   ],
   "source": [
    "df_glove"
   ]
  },
  {
   "cell_type": "code",
   "execution_count": 24,
   "metadata": {},
   "outputs": [
    {
     "data": {
      "image/png": "[encoded data removed]",
      "text/plain": [
       "<Figure size 432x288 with 1 Axes>"
      ]
     },
     "metadata": {
      "needs_background": "light"
     },
     "output_type": "display_data"
    }
   ],
   "source": [
    "ax = sns.scatterplot(x=\"x\", y=\"y\", hue=\"sentence\", s = 180, alpha = 0.7, legend = \"full\", data=df_use)\n"
   ]
  },
  {
   "cell_type": "code",
   "execution_count": 25,
   "metadata": {},
   "outputs": [
    {
     "data": {
      "text/plain": [
       "<matplotlib.axes._subplots.AxesSubplot at 0x12ff2fac8>"
      ]
     },
     "execution_count": 25,
     "metadata": {},
     "output_type": "execute_result"
    },
    {
     "data": {
      "image/png": "[encoded data removed]",
      "text/plain": [
       "<Figure size 432x288 with 1 Axes>"
      ]
     },
     "metadata": {
      "needs_background": "light"
     },
     "output_type": "display_data"
    }
   ],
   "source": [
    "sns.scatterplot(x=\"x\", y=\"y\", hue=\"sentence\", s = 180, alpha = 0.7, legend = \"full\",data=df_glove)\n"
   ]
  },
  {
   "cell_type": "code",
   "execution_count": 26,
   "metadata": {},
   "outputs": [],
   "source": [
    "# U can can cheat better with an 3D plot"
   ]
  },
  {
   "cell_type": "raw",
   "metadata": {},
   "source": [
    "%matplotlib notebook\n",
    "import matplotlib.pyplot as plt\n",
    "from mpl_toolkits.mplot3d import Axes3D\n",
    "fig = plt.figure()\n",
    "ax = Axes3D(fig)\n",
    "fig.suptitle(\"\")\n",
    "\n",
    "ax.set_xlabel(\"X\")\n",
    "ax.set_ylabel(\"Y\")\n",
    "ax.set_zlabel(\"Z\")\n",
    "\n",
    "groups = df_use.groupby(\"sentence\")\n",
    "for name, group in groups:\n",
    "    ax.scatter(group.z, group.y, group.x, s = 150, alpha = 0.25, label=name)\n",
    "    ax.legend()\n",
    "    \n",
    "ax.set_yticklabels([])\n",
    "ax.set_xticklabels([])\n",
    "ax.set_zticklabels([])"
   ]
  },
  {
   "cell_type": "code",
   "execution_count": null,
   "metadata": {},
   "outputs": [],
   "source": []
  },
  {
   "cell_type": "code",
   "execution_count": null,
   "metadata": {},
   "outputs": [],
   "source": []
  },
  {
   "cell_type": "code",
   "execution_count": null,
   "metadata": {},
   "outputs": [],
   "source": []
  },
  {
   "cell_type": "code",
   "execution_count": null,
   "metadata": {},
   "outputs": [],
   "source": []
  },
  {
   "cell_type": "code",
   "execution_count": null,
   "metadata": {},
   "outputs": [],
   "source": []
  },
  {
   "cell_type": "code",
   "execution_count": null,
   "metadata": {},
   "outputs": [],
   "source": []
  }
 ],
 "metadata": {
  "kernelspec": {
   "display_name": "Python 3",
   "language": "python",
   "name": "python3"
  },
  "language_info": {
   "codemirror_mode": {
    "name": "ipython",
    "version": 3
   },
   "file_extension": ".py",
   "mimetype": "text/x-python",
   "name": "python",
   "nbconvert_exporter": "python",
   "pygments_lexer": "ipython3",
   "version": "3.6.5"
  },
  "toc": {
   "base_numbering": 1.0,
   "nav_menu": {},
   "number_sections": true,
   "sideBar": true,
   "skip_h1_title": false,
   "title_cell": "Table of Contents",
   "title_sidebar": "Contents",
   "toc_cell": false,
   "toc_position": {},
   "toc_section_display": true,
   "toc_window_display": false
  }
 },
 "nbformat": 4,
 "nbformat_minor": 2
}
