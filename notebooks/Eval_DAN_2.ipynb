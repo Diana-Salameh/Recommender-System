{
 "cells": [
  {
   "cell_type": "markdown",
   "metadata": {},
   "source": [
    "# Evaluation (II)\n",
    "## Training the SVM and Compare Results"
   ]
  },
  {
   "cell_type": "code",
   "execution_count": 1,
   "metadata": {},
   "outputs": [],
   "source": [
    "import os\n",
    "import sys\n",
    "import json\n",
    "import pandas as pd\n",
    "sys.path.append(\"../\")\n",
    "from rs_helper import DAN,FastText, scatter_plot"
   ]
  },
  {
   "cell_type": "code",
   "execution_count": 2,
   "metadata": {},
   "outputs": [],
   "source": [
    "def read_data(_dir:str) -> pd.DataFrame:\n",
    "    data = {}\n",
    "    #data[\"url\"] = []\n",
    "    data[\"text\"] = []\n",
    "    data[\"class\"] = []\n",
    "    for root, dirs, files in os.walk(_dir):\n",
    "        for _dir in dirs: \n",
    "            for txt_file in [x for x in os.listdir(os.path.join(root, _dir)) if x.endswith((\".txt\", \".TXT\"))]:\n",
    "                # Class name = dir name\n",
    "                class_name = _dir\n",
    "                #Read File\n",
    "                file_name = os.path.abspath(os.path.join(root, _dir, txt_file))\n",
    "                file = open(file_name, \"r\")\n",
    "                txt = file.read()\n",
    "                file.close()\n",
    "                #data[\"url\"].append(file_name)\n",
    "                data[\"text\"].append(txt)\n",
    "                data[\"class\"].append(class_name)\n",
    "    df = pd.DataFrame.from_dict(data)\n",
    "    del data\n",
    "    return df"
   ]
  },
  {
   "cell_type": "code",
   "execution_count": 3,
   "metadata": {},
   "outputs": [],
   "source": [
    "data_dir = \"../datasets/final_datasets/clean_dataset_equal\""
   ]
  },
  {
   "cell_type": "code",
   "execution_count": 4,
   "metadata": {},
   "outputs": [],
   "source": [
    "df = read_data(data_dir).sample(frac=1)"
   ]
  },
  {
   "cell_type": "code",
   "execution_count": 5,
   "metadata": {},
   "outputs": [],
   "source": [
    "df_eval = read_data(\"../datasets/eval_data/\")"
   ]
  },
  {
   "cell_type": "markdown",
   "metadata": {},
   "source": [
    "## Add Embeddings"
   ]
  },
  {
   "cell_type": "code",
   "execution_count": 6,
   "metadata": {},
   "outputs": [
    {
     "name": "stdout",
     "output_type": "stream",
     "text": [
      "INFO:tensorflow:FastText Model is loading\n"
     ]
    },
    {
     "name": "stderr",
     "output_type": "stream",
     "text": [
      "INFO:tensorflow:FastText Model is loading\n"
     ]
    },
    {
     "name": "stdout",
     "output_type": "stream",
     "text": [
      "INFO:tensorflow:FastText Model loaded!\n"
     ]
    },
    {
     "name": "stderr",
     "output_type": "stream",
     "text": [
      "INFO:tensorflow:FastText Model loaded!\n"
     ]
    }
   ],
   "source": [
    "ft_model = FastText()"
   ]
  },
  {
   "cell_type": "code",
   "execution_count": 7,
   "metadata": {},
   "outputs": [],
   "source": [
    "#frozen_graph_path = \"TEST_CLEAN_EQUAL/frozen_graph.pb\""
   ]
  },
  {
   "cell_type": "code",
   "execution_count": 8,
   "metadata": {},
   "outputs": [],
   "source": [
    "#dan = DAN(ft_model,frozen_graph_path)"
   ]
  },
  {
   "cell_type": "raw",
   "metadata": {},
   "source": [
    "%%time\n",
    "df[\"embedding\"] = df[\"text\"].apply(lambda x: dan.inference(x)[0])\n",
    "df_eval[\"embedding\"] = df_eval[\"text\"].apply(lambda x: dan.inference(x)[0])\n"
   ]
  },
  {
   "cell_type": "code",
   "execution_count": 9,
   "metadata": {},
   "outputs": [],
   "source": [
    "path = \"DAN_COMBINATIONS\""
   ]
  },
  {
   "cell_type": "code",
   "execution_count": 10,
   "metadata": {},
   "outputs": [],
   "source": [
    "dan_models = []"
   ]
  },
  {
   "cell_type": "code",
   "execution_count": 11,
   "metadata": {},
   "outputs": [],
   "source": [
    "for model in os.listdir(path):\n",
    "    if os.path.isdir(os.path.join(path,model)):\n",
    "        if model != \".ipynb_checkpoints\":\n",
    "            frozen_graph = os.path.join(path, model, \"frozen_graph.pb\")\n",
    "            config = os.path.abspath(os.path.join(path,model, \"config.json\"))\n",
    "            dan_models.append((DAN(ft_model, frozen_graph), config))"
   ]
  },
  {
   "cell_type": "markdown",
   "metadata": {},
   "source": [
    "## Train Test Split"
   ]
  },
  {
   "cell_type": "code",
   "execution_count": 12,
   "metadata": {},
   "outputs": [],
   "source": [
    "from sklearn.model_selection import train_test_split\n",
    "from sklearn.svm import SVC"
   ]
  },
  {
   "cell_type": "code",
   "execution_count": 14,
   "metadata": {},
   "outputs": [],
   "source": [
    "counter = 1\n",
    "for dan, config in dan_models[24:]:\n",
    "    # handling df and embeddings\n",
    "    _df = df\n",
    "    _df_eval = df_eval\n",
    "    _df[\"embedding\"] = _df[\"text\"].apply(lambda x: dan.inference(x)[0])\n",
    "    _df_eval[\"embedding\"] = _df_eval[\"text\"].apply(lambda x: dan.inference(x)[0])\n",
    "    \n",
    "    x,y = train_test_split(_df, test_size = 0.1, shuffle = True)\n",
    "    \n",
    "    # define svc\n",
    "    svc_linear = SVC(gamma = \"scale\", kernel = \"linear\", C=12)\n",
    "    svc_linear.fit(_df[\"embedding\"].tolist(), _df[\"class\"].tolist())\n",
    "    \n",
    "    svc_rbf = SVC(gamma = \"scale\", kernel = \"rbf\", C=12)\n",
    "    svc_rbf.fit(_df[\"embedding\"].tolist(), _df[\"class\"].tolist())\n",
    "    \n",
    "    insampling_score_l = svc_linear.score(x[\"embedding\"].tolist(), x[\"class\"].tolist())\n",
    "    test_score_l = svc_linear.score(y[\"embedding\"].tolist(), y[\"class\"].tolist())\n",
    "    valid_score_l = svc_linear.score(_df_eval[\"embedding\"].tolist(),_df_eval[\"class\"].tolist())\n",
    "    \n",
    "     # define svc\n",
    "    svc_rbf = SVC(gamma = \"scale\", kernel = \"rbf\", C=12)\n",
    "    svc_rbf.fit(_df[\"embedding\"].tolist(), _df[\"class\"].tolist())\n",
    "    insampling_score_r = svc_rbf.score(x[\"embedding\"].tolist(), x[\"class\"].tolist())\n",
    "    test_score_r = svc_rbf.score(y[\"embedding\"].tolist(), y[\"class\"].tolist())\n",
    "    valid_score_r= svc_rbf.score(_df_eval[\"embedding\"].tolist(),_df_eval[\"class\"].tolist())\n",
    "    \n",
    "    # Read Score\n",
    "    with open(config, \"r\") as _json:\n",
    "            _dict = json.load(_json)\n",
    "            \n",
    "    _dict[\"insampling_linear_kernel\"] = insampling_score_l\n",
    "    _dict[\"test_linear_kernel\"] = test_score_l\n",
    "    _dict[\"valid_score_linear_kernel\"] = valid_score_l\n",
    "    \n",
    "    _dict[\"insampling_rbf_kernel\"] = insampling_score_r\n",
    "    _dict[\"test_rbf_kernel\"] = test_score_r\n",
    "    _dict[\"valid_score_rbf_kernel\"] = valid_score_r\n",
    "    \n",
    "    print(_dict)\n",
    "    # Write new JSON\n",
    "    with open(config, \"w\") as _json:\n",
    "        json.dump(_dict, _json)\n",
    "    \n",
    "    print(\"{} of {}\".format(counter, len(dan_models)))\n",
    "    counter+=1"
   ]
  },
  {
   "cell_type": "code",
   "execution_count": null,
   "metadata": {},
   "outputs": [],
   "source": []
  },
  {
   "cell_type": "raw",
   "metadata": {},
   "source": []
  }
 ],
 "metadata": {
  "kernelspec": {
   "display_name": "Python 3",
   "language": "python",
   "name": "python3"
  },
  "language_info": {
   "codemirror_mode": {
    "name": "ipython",
    "version": 3
   },
   "file_extension": ".py",
   "mimetype": "text/x-python",
   "name": "python",
   "nbconvert_exporter": "python",
   "pygments_lexer": "ipython3",
   "version": "3.6.5"
  }
 },
 "nbformat": 4,
 "nbformat_minor": 2
}
