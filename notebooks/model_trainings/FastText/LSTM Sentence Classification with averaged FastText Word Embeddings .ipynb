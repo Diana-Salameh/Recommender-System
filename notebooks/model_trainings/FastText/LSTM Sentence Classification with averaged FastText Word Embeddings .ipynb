{
 "cells": [
  {
   "cell_type": "markdown",
   "metadata": {},
   "source": [
    "## LSTM Classification with FastText Embeddings"
   ]
  },
  {
   "cell_type": "code",
   "execution_count": 27,
   "metadata": {},
   "outputs": [],
   "source": [
    "import os \n",
    "import numpy as np \n",
    "import re \n",
    "import pickle\n",
    "import pandas as pd\n",
    "import operator \n",
    "from functools import reduce\n",
    "from tqdm import tqdm\n",
    "import string\n",
    "\n",
    "from nltk.tokenize import word_tokenize\n",
    "\n",
    "from sklearn.utils import shuffle\n",
    "from sklearn.model_selection import train_test_split\n",
    "\n",
    "from keras.models import Sequential\n",
    "from keras.layers import Dense, LSTM, Dropout, GRU\n",
    "\n",
    "from gensim.models import FastText\n",
    "\n",
    "from matplotlib import pyplot as plt\n",
    "import seaborn as sns\n",
    "\n",
    "import spacy\n",
    "nlp = spacy.load('en_core_web_sm')\n",
    "\n",
    "DATA_DIR = \"../../../data/datasets/merged_files\"\n",
    "FAST_TEXT_DATA_DIR = \"../../../helper/data_obtaining/science_direct/out/merged_datasets/\"\n",
    "N_SAMPLES_FAST_TEXT = 10000"
   ]
  },
  {
   "cell_type": "code",
   "execution_count": 2,
   "metadata": {},
   "outputs": [],
   "source": [
    "def preprocess_raw_data(doc: str) -> list:\n",
    "    doc = nlp(doc)\n",
    "    return [[x.lower_ for x in text if x.is_alpha and not x.is_punct] for text in doc.sents]"
   ]
  },
  {
   "cell_type": "code",
   "execution_count": 3,
   "metadata": {},
   "outputs": [],
   "source": [
    "def load_lstm_data(directory: str):\n",
    "    data_raw, labels = list(), list()\n",
    "    for file in os.listdir(directory):\n",
    "        if file.endswith(\".txt\"):\n",
    "            data_raw.append(open(os.path.join(directory, file), \"r\").read())\n",
    "            labels.append(file.split(\".\")[0])\n",
    "    return data_raw, labels"
   ]
  },
  {
   "cell_type": "code",
   "execution_count": 4,
   "metadata": {},
   "outputs": [],
   "source": [
    "def load_fasttext_data(directory: str):\n",
    "    raw_out = list()\n",
    "    for sub in os.listdir(directory):\n",
    "        if os.path.isdir(directory+sub):\n",
    "            for file in [x for x in os.listdir(directory+sub) if x.endswith(\".txt\")]:\n",
    "                raw_out.append(open(directory+sub+\"/\"+file, \"r\").read().replace(\"  \", \" \"))\n",
    "    return raw_out"
   ]
  },
  {
   "cell_type": "markdown",
   "metadata": {},
   "source": [
    "### Loading data for FastText model\n",
    "__Data cleaning:__<br/>\n",
    "- Removing of punctuation and nums with re '[a-z]+'\n",
    "- Result: List of word tokenized sentences (List(List(String))"
   ]
  },
  {
   "cell_type": "code",
   "execution_count": 5,
   "metadata": {
    "scrolled": true
   },
   "outputs": [
    {
     "name": "stdout",
     "output_type": "stream",
     "text": [
      "['abstract', 'self-care', 'problems', 'diagnosis', 'and', 'classification', 'is', 'an', 'important', 'challenge', 'in', 'exceptional', 'children', 'health', 'care', 'systems']\n"
     ]
    }
   ],
   "source": [
    "\"\"\"\n",
    "ft_data = list()\n",
    "for doc in tqdm(shuffle(ft_data_raw)[:10000]): \n",
    "    preprocessed_doc = preprocess_raw_data(doc)\n",
    "    ft_data.extend(preprocessed_doc)\n",
    "ft_data[0]\n",
    "\"\"\"\n",
    "# Literally takes forever > Check without preprocessing again\n",
    "\n",
    "if os.path.exists(\"fastText_data_{}.pkl\".format(N_SAMPLES_FAST_TEXT)):\n",
    "    ft_data = pickle.load(open(\"fastText_data_{}.pkl\".format(N_SAMPLES_FAST_TEXT), \"rb\"))\n",
    "else:\n",
    "    ft_data_raw = load_fasttext_data(FAST_TEXT_DATA_DIR)\n",
    "    ft_data = list()\n",
    "    for doc in tqdm(shuffle(ft_data_raw)[:N_SAMPLES_FAST_TEXT]):\n",
    "        sents = re.split(r'(?<!\\w\\.\\w.)(?<![A-Z][a-z]\\.)(?<=\\.|\\?)\\s', doc)\n",
    "        for s in sents:\n",
    "            tokens = word_tokenize(s)\n",
    "            clean = [t.lower() for t in tokens if re.match(\"[a-z]+\", t.lower()) is not None]\n",
    "            ft_data.append(clean)\n",
    "    pickle.dump(ft_data, open(\"fastText_data_{}.pkl\".format(N_SAMPLES_FAST_TEXT), \"wb\"))\n",
    "print(ft_data[0])"
   ]
  },
  {
   "cell_type": "markdown",
   "metadata": {},
   "source": [
    "### Loading data for LSTM"
   ]
  },
  {
   "cell_type": "code",
   "execution_count": 6,
   "metadata": {},
   "outputs": [],
   "source": [
    "raw, raw_labels = load_lstm_data(DATA_DIR)\n",
    "data = list()\n",
    "for text in raw:\n",
    "    data.append(preprocess_raw_data(text))"
   ]
  },
  {
   "cell_type": "code",
   "execution_count": 7,
   "metadata": {},
   "outputs": [
    {
     "name": "stdout",
     "output_type": "stream",
     "text": [
      "______DATA FORMAT______\n",
      "data: List(List(String))\n",
      "labels: List(String)\n",
      "Classes: 3\n",
      "Class distribution: prediction 2364 - clustering 2619 - frequent_pattern_mining 546\n",
      "__________________________________\n"
     ]
    }
   ],
   "source": [
    "print(\"______DATA FORMAT______\")\n",
    "print(\"data: List(List(String))\")\n",
    "print(\"labels: List(String)\")\n",
    "print(\"Classes: {}\".format(len(data)))\n",
    "print(\"Class distribution: {} {} - {} {} - {} {}\".format(raw_labels[0], len(data[0]), \n",
    "                                                         raw_labels[1], len(data[1]), \n",
    "                                                         raw_labels[2], len(data[2])))\n",
    "print(\"__________________________________\")"
   ]
  },
  {
   "cell_type": "markdown",
   "metadata": {},
   "source": [
    "### Train a FastText model to derive Word Embeddings"
   ]
  },
  {
   "cell_type": "code",
   "execution_count": 8,
   "metadata": {},
   "outputs": [],
   "source": [
    "if os.path.exists(\"ft_model_{}.pkl\".format(N_SAMPLES_FAST_TEXT)):\n",
    "    ft_model = pickle.load(open(\"ft_model_{}.pkl\".format(N_SAMPLES_FAST_TEXT), \"rb\"))\n",
    "else:\n",
    "    ft_model = FastText(ft_data, size=100, window=5, min_count=5, workers=3, sg=1)\n",
    "    pickle.dump(ft_model, open(\"ft_model_{}.pkl\".format(N_SAMPLES_FAST_TEXT), \"wb\"))"
   ]
  },
  {
   "cell_type": "markdown",
   "metadata": {},
   "source": [
    "#### Quick check on functionality and quality of embeddings"
   ]
  },
  {
   "cell_type": "code",
   "execution_count": 9,
   "metadata": {},
   "outputs": [
    {
     "name": "stderr",
     "output_type": "stream",
     "text": [
      "/Users/richardhorn/anaconda3/envs/rs/lib/python3.6/site-packages/gensim/matutils.py:737: FutureWarning: Conversion of the second argument of issubdtype from `int` to `np.signedinteger` is deprecated. In future, it will be treated as `np.int64 == np.dtype(int).type`.\n",
      "  if np.issubdtype(vec.dtype, np.int):\n"
     ]
    },
    {
     "data": {
      "text/plain": [
       "[('coclustering', 0.9364023208618164),\n",
       " ('swclustering', 0.9258905053138733),\n",
       " ('lrclustering', 0.9215612411499023),\n",
       " ('clustering', 0.9189531803131104),\n",
       " ('prankclustering', 0.911766529083252),\n",
       " ('reclustering', 0.9081591367721558),\n",
       " ('biclustering', 0.9043294191360474),\n",
       " ('preclustering', 0.9026942253112793),\n",
       " ('bi-clustering', 0.9004812240600586),\n",
       " ('declustering', 0.8991345167160034)]"
      ]
     },
     "execution_count": 9,
     "metadata": {},
     "output_type": "execute_result"
    }
   ],
   "source": [
    "ft_model.wv.most_similar(\"Clustering\")"
   ]
  },
  {
   "cell_type": "code",
   "execution_count": 10,
   "metadata": {},
   "outputs": [
    {
     "data": {
      "text/plain": [
       "[('logicregression', 0.8992341756820679),\n",
       " ('meta-regression', 0.8912472724914551),\n",
       " ('regression', 0.876956582069397),\n",
       " ('c-regression', 0.8653339147567749),\n",
       " ('regression/correlation', 0.8650035858154297),\n",
       " ('regression-lai', 0.8632293939590454),\n",
       " ('gression', 0.8632272481918335),\n",
       " ('regressions', 0.8619264960289001),\n",
       " ('regression-kriging', 0.8538936376571655),\n",
       " ('agression', 0.8441092371940613)]"
      ]
     },
     "execution_count": 10,
     "metadata": {},
     "output_type": "execute_result"
    }
   ],
   "source": [
    "ft_model.wv.most_similar(\"Regression\")"
   ]
  },
  {
   "cell_type": "code",
   "execution_count": 11,
   "metadata": {},
   "outputs": [
    {
     "data": {
      "text/plain": [
       "0.41599146"
      ]
     },
     "execution_count": 11,
     "metadata": {},
     "output_type": "execute_result"
    }
   ],
   "source": [
    "ft_model.wv.similarity(\"clustering\", \"regression\")"
   ]
  },
  {
   "cell_type": "markdown",
   "metadata": {},
   "source": [
    "### Prepare data for LSTM"
   ]
  },
  {
   "cell_type": "code",
   "execution_count": 12,
   "metadata": {},
   "outputs": [],
   "source": [
    "def derive_sentence_vector(sent):\n",
    "    vectors = []\n",
    "    for token in sent:\n",
    "        if ft_model.wv.__contains__(token):\n",
    "            vectors.append(ft_model.wv.__getitem__(token))\n",
    "    return sum(vectors)/len(vectors)"
   ]
  },
  {
   "cell_type": "code",
   "execution_count": 13,
   "metadata": {},
   "outputs": [
    {
     "data": {
      "text/html": [
       "<div>\n",
       "<style scoped>\n",
       "    .dataframe tbody tr th:only-of-type {\n",
       "        vertical-align: middle;\n",
       "    }\n",
       "\n",
       "    .dataframe tbody tr th {\n",
       "        vertical-align: top;\n",
       "    }\n",
       "\n",
       "    .dataframe thead th {\n",
       "        text-align: right;\n",
       "    }\n",
       "</style>\n",
       "<table border=\"1\" class=\"dataframe\">\n",
       "  <thead>\n",
       "    <tr style=\"text-align: right;\">\n",
       "      <th></th>\n",
       "      <th>index</th>\n",
       "      <th>label</th>\n",
       "      <th>clear label</th>\n",
       "      <th>text</th>\n",
       "      <th>vector</th>\n",
       "    </tr>\n",
       "  </thead>\n",
       "  <tbody>\n",
       "    <tr>\n",
       "      <th>0</th>\n",
       "      <td>601</td>\n",
       "      <td>0</td>\n",
       "      <td>prediction</td>\n",
       "      <td>[classification, is, a, very, important, field...</td>\n",
       "      <td>[0.19949676, 0.22450398, -0.3021901, 0.1023725...</td>\n",
       "    </tr>\n",
       "    <tr>\n",
       "      <th>1</th>\n",
       "      <td>2758</td>\n",
       "      <td>1</td>\n",
       "      <td>clustering</td>\n",
       "      <td>[clustering, is, a, common, technique, for, st...</td>\n",
       "      <td>[0.14455421, 0.16508643, -0.22018084, 0.092961...</td>\n",
       "    </tr>\n",
       "    <tr>\n",
       "      <th>2</th>\n",
       "      <td>2358</td>\n",
       "      <td>1</td>\n",
       "      <td>clustering</td>\n",
       "      <td>[the, reviewed, literature, leads, to, the, fo...</td>\n",
       "      <td>[0.13997078, 0.23241495, -0.2627896, -0.047451...</td>\n",
       "    </tr>\n",
       "    <tr>\n",
       "      <th>3</th>\n",
       "      <td>3248</td>\n",
       "      <td>1</td>\n",
       "      <td>clustering</td>\n",
       "      <td>[hence, we, see, successful, application, of, ...</td>\n",
       "      <td>[0.19287322, 0.24820286, -0.2766688, 0.0174228...</td>\n",
       "    </tr>\n",
       "    <tr>\n",
       "      <th>4</th>\n",
       "      <td>4752</td>\n",
       "      <td>1</td>\n",
       "      <td>clustering</td>\n",
       "      <td>[compared, with, supervised, learning, cluster...</td>\n",
       "      <td>[0.11539412, 0.2564255, -0.3025535, 0.13784078...</td>\n",
       "    </tr>\n",
       "    <tr>\n",
       "      <th>5</th>\n",
       "      <td>2670</td>\n",
       "      <td>1</td>\n",
       "      <td>clustering</td>\n",
       "      <td>[however, it, is, not, fully, understood, whet...</td>\n",
       "      <td>[0.12868866, 0.25812417, -0.27068955, -0.07421...</td>\n",
       "    </tr>\n",
       "    <tr>\n",
       "      <th>6</th>\n",
       "      <td>569</td>\n",
       "      <td>0</td>\n",
       "      <td>prediction</td>\n",
       "      <td>[it, can, be, seen, that, if, the, classifier,...</td>\n",
       "      <td>[0.16009589, 0.25442773, -0.2903351, -0.040104...</td>\n",
       "    </tr>\n",
       "    <tr>\n",
       "      <th>7</th>\n",
       "      <td>232</td>\n",
       "      <td>0</td>\n",
       "      <td>prediction</td>\n",
       "      <td>[projection, pursuit, regression, projection, ...</td>\n",
       "      <td>[0.2829726, -0.004418063, -0.471544, 0.1178580...</td>\n",
       "    </tr>\n",
       "    <tr>\n",
       "      <th>8</th>\n",
       "      <td>2109</td>\n",
       "      <td>0</td>\n",
       "      <td>prediction</td>\n",
       "      <td>[when, the, training, algorithm, tries, to, fi...</td>\n",
       "      <td>[0.10802021, 0.28760976, -0.35611635, 0.006912...</td>\n",
       "    </tr>\n",
       "    <tr>\n",
       "      <th>9</th>\n",
       "      <td>5117</td>\n",
       "      <td>2</td>\n",
       "      <td>frequent_pattern_mining</td>\n",
       "      <td>[however, the, downwardclosure, property, in, ...</td>\n",
       "      <td>[0.1947148, 0.20444857, -0.2517771, 0.01829162...</td>\n",
       "    </tr>\n",
       "  </tbody>\n",
       "</table>\n",
       "</div>"
      ],
      "text/plain": [
       "   index label              clear label  \\\n",
       "0    601     0               prediction   \n",
       "1   2758     1               clustering   \n",
       "2   2358     1               clustering   \n",
       "3   3248     1               clustering   \n",
       "4   4752     1               clustering   \n",
       "5   2670     1               clustering   \n",
       "6    569     0               prediction   \n",
       "7    232     0               prediction   \n",
       "8   2109     0               prediction   \n",
       "9   5117     2  frequent_pattern_mining   \n",
       "\n",
       "                                                text  \\\n",
       "0  [classification, is, a, very, important, field...   \n",
       "1  [clustering, is, a, common, technique, for, st...   \n",
       "2  [the, reviewed, literature, leads, to, the, fo...   \n",
       "3  [hence, we, see, successful, application, of, ...   \n",
       "4  [compared, with, supervised, learning, cluster...   \n",
       "5  [however, it, is, not, fully, understood, whet...   \n",
       "6  [it, can, be, seen, that, if, the, classifier,...   \n",
       "7  [projection, pursuit, regression, projection, ...   \n",
       "8  [when, the, training, algorithm, tries, to, fi...   \n",
       "9  [however, the, downwardclosure, property, in, ...   \n",
       "\n",
       "                                              vector  \n",
       "0  [0.19949676, 0.22450398, -0.3021901, 0.1023725...  \n",
       "1  [0.14455421, 0.16508643, -0.22018084, 0.092961...  \n",
       "2  [0.13997078, 0.23241495, -0.2627896, -0.047451...  \n",
       "3  [0.19287322, 0.24820286, -0.2766688, 0.0174228...  \n",
       "4  [0.11539412, 0.2564255, -0.3025535, 0.13784078...  \n",
       "5  [0.12868866, 0.25812417, -0.27068955, -0.07421...  \n",
       "6  [0.16009589, 0.25442773, -0.2903351, -0.040104...  \n",
       "7  [0.2829726, -0.004418063, -0.471544, 0.1178580...  \n",
       "8  [0.10802021, 0.28760976, -0.35611635, 0.006912...  \n",
       "9  [0.1947148, 0.20444857, -0.2517771, 0.01829162...  "
      ]
     },
     "execution_count": 13,
     "metadata": {},
     "output_type": "execute_result"
    }
   ],
   "source": [
    "df_data = pd.DataFrame(columns=[\"label\", \"clear label\", \"text\", \"vector\"])\n",
    "for i, (cl, l) in enumerate(zip(data, raw_labels)):\n",
    "    for sent in cl:\n",
    "        if len(sent) > 0:\n",
    "            temp_df = pd.DataFrame([[i, l, sent, derive_sentence_vector(sent)]], \n",
    "                                   columns=[\"label\", \"clear label\", \"text\", \"vector\"])\n",
    "            df_data = df_data.append(temp_df, ignore_index=True)\n",
    "\n",
    "df_data = shuffle(df_data).reset_index()\n",
    "df_data.loc[:9]"
   ]
  },
  {
   "cell_type": "code",
   "execution_count": 14,
   "metadata": {},
   "outputs": [],
   "source": [
    "features = list(df_data['vector'])\n",
    "labels = list(df_data['label'])"
   ]
  },
  {
   "cell_type": "code",
   "execution_count": 15,
   "metadata": {},
   "outputs": [],
   "source": [
    "X_train, X_test, y_train, y_test, _, _ = train_test_split(features, labels, df_data.index, test_size=0.20, random_state=0)"
   ]
  },
  {
   "cell_type": "code",
   "execution_count": 16,
   "metadata": {},
   "outputs": [
    {
     "name": "stdout",
     "output_type": "stream",
     "text": [
      "<class 'list'>\n",
      "4400\n",
      "<class 'list'>\n",
      "4400\n",
      "(4400, 1, 100)\n"
     ]
    }
   ],
   "source": [
    "print(type(X_train))\n",
    "print(len(X_train))\n",
    "print(type(y_train))\n",
    "print(len(y_train))\n",
    "print(np.array(X_train).reshape(len(X_train), 1, 100).shape)"
   ]
  },
  {
   "cell_type": "markdown",
   "metadata": {},
   "source": [
    "### Define and Train LSTM Model\n",
    "Input to LSTM has shape (n_samples, n_timesteps, n_features)"
   ]
  },
  {
   "cell_type": "code",
   "execution_count": 28,
   "metadata": {},
   "outputs": [
    {
     "name": "stdout",
     "output_type": "stream",
     "text": [
      "_________________________________________________________________\n",
      "Layer (type)                 Output Shape              Param #   \n",
      "=================================================================\n",
      "gru_1 (GRU)                  (None, None, 200)         180600    \n",
      "_________________________________________________________________\n",
      "dropout_2 (Dropout)          (None, None, 200)         0         \n",
      "_________________________________________________________________\n",
      "dense_2 (Dense)              (None, None, 1)           201       \n",
      "=================================================================\n",
      "Total params: 180,801\n",
      "Trainable params: 180,801\n",
      "Non-trainable params: 0\n",
      "_________________________________________________________________\n",
      "None\n"
     ]
    }
   ],
   "source": [
    "lstm = Sequential()\n",
    "lstm.add(GRU(units=200, input_shape = (None, 100), return_sequences = True))\n",
    "# lstm.add(Dropout(0.2))\n",
    "# lstm.add(LSTM(units=100, return_sequences = True))\n",
    "lstm.add(Dropout(0.2))\n",
    "lstm.add(Dense(1, activation='relu'))\n",
    "lstm.compile(loss='mean_squared_error', optimizer='adam', metrics=['accuracy'])\n",
    "print(lstm.summary())"
   ]
  },
  {
   "cell_type": "code",
   "execution_count": 29,
   "metadata": {},
   "outputs": [
    {
     "name": "stdout",
     "output_type": "stream",
     "text": [
      "Epoch 1/20\n",
      "4400/4400 [==============================] - 1s 268us/step - loss: 0.4152 - acc: 0.5475\n",
      "Epoch 2/20\n",
      "4400/4400 [==============================] - 0s 60us/step - loss: 0.2042 - acc: 0.7686\n",
      "Epoch 3/20\n",
      "4400/4400 [==============================] - 0s 65us/step - loss: 0.1349 - acc: 0.8573\n",
      "Epoch 4/20\n",
      "4400/4400 [==============================] - 0s 67us/step - loss: 0.1201 - acc: 0.8741\n",
      "Epoch 5/20\n",
      "4400/4400 [==============================] - 0s 71us/step - loss: 0.1147 - acc: 0.8830\n",
      "Epoch 6/20\n",
      "4400/4400 [==============================] - 0s 76us/step - loss: 0.1123 - acc: 0.8811\n",
      "Epoch 7/20\n",
      "4400/4400 [==============================] - 0s 66us/step - loss: 0.1083 - acc: 0.8855\n",
      "Epoch 8/20\n",
      "4400/4400 [==============================] - 0s 65us/step - loss: 0.1060 - acc: 0.8845\n",
      "Epoch 9/20\n",
      "4400/4400 [==============================] - 0s 66us/step - loss: 0.1040 - acc: 0.8877\n",
      "Epoch 10/20\n",
      "4400/4400 [==============================] - 0s 75us/step - loss: 0.1058 - acc: 0.8852\n",
      "Epoch 11/20\n",
      "4400/4400 [==============================] - 0s 68us/step - loss: 0.1019 - acc: 0.8911\n",
      "Epoch 12/20\n",
      "4400/4400 [==============================] - 0s 77us/step - loss: 0.0991 - acc: 0.8961\n",
      "Epoch 13/20\n",
      "4400/4400 [==============================] - 0s 71us/step - loss: 0.0986 - acc: 0.8936\n",
      "Epoch 14/20\n",
      "4400/4400 [==============================] - 0s 66us/step - loss: 0.0970 - acc: 0.8975\n",
      "Epoch 15/20\n",
      "4400/4400 [==============================] - 0s 72us/step - loss: 0.0966 - acc: 0.8975\n",
      "Epoch 16/20\n",
      "4400/4400 [==============================] - 0s 68us/step - loss: 0.0950 - acc: 0.8982\n",
      "Epoch 17/20\n",
      "4400/4400 [==============================] - 0s 65us/step - loss: 0.0944 - acc: 0.9002\n",
      "Epoch 18/20\n",
      "4400/4400 [==============================] - 0s 71us/step - loss: 0.0923 - acc: 0.9045\n",
      "Epoch 19/20\n",
      "4400/4400 [==============================] - 0s 71us/step - loss: 0.0907 - acc: 0.9064\n",
      "Epoch 20/20\n",
      "4400/4400 [==============================] - 0s 70us/step - loss: 0.0915 - acc: 0.9041\n"
     ]
    }
   ],
   "source": [
    "lstm_history = lstm.fit(np.array(X_train).reshape(len(X_train), 1, 100), \n",
    "                        np.array(y_train).reshape(len(y_train), 1, 1), \n",
    "                        epochs=20, \n",
    "                        batch_size=128)"
   ]
  },
  {
   "cell_type": "markdown",
   "metadata": {},
   "source": [
    "#### Evaluate trained LSTM Model"
   ]
  },
  {
   "cell_type": "code",
   "execution_count": 30,
   "metadata": {},
   "outputs": [
    {
     "name": "stdout",
     "output_type": "stream",
     "text": [
      "Accuracy: 90.73569483371566%\n"
     ]
    }
   ],
   "source": [
    "# Final evaluation of the model\n",
    "scores = lstm.evaluate(np.array(X_test).reshape(len(X_test), 1, 100), \n",
    "                       np.array(y_test).reshape(len(y_test), 1, 1), \n",
    "                       verbose=10)\n",
    "print(\"Accuracy: {}%\".format((scores[1]*100)))"
   ]
  },
  {
   "cell_type": "code",
   "execution_count": 31,
   "metadata": {},
   "outputs": [
    {
     "name": "stdout",
     "output_type": "stream",
     "text": [
      "dict_keys(['loss', 'acc'])\n"
     ]
    }
   ],
   "source": [
    "print(lstm_history.history.keys())"
   ]
  },
  {
   "cell_type": "code",
   "execution_count": 32,
   "metadata": {},
   "outputs": [
    {
     "data": {
      "image/png": "[encoded data removed]",
      "text/plain": [
       "<Figure size 432x288 with 1 Axes>"
      ]
     },
     "metadata": {
      "needs_background": "light"
     },
     "output_type": "display_data"
    },
    {
     "data": {
      "image/png": "[encoded data removed]",
      "text/plain": [
       "<Figure size 432x288 with 1 Axes>"
      ]
     },
     "metadata": {
      "needs_background": "light"
     },
     "output_type": "display_data"
    }
   ],
   "source": [
    "plt.plot(lstm_history.history['acc'])\n",
    "plt.title('Model Accuracy over Epochs')\n",
    "plt.ylabel('Accuracy')\n",
    "plt.xlabel('Epoch')\n",
    "plt.legend([\"Accuracy\"], loc='upper left')\n",
    "plt.show()\n",
    "\n",
    "plt.plot(lstm_history.history['loss'])\n",
    "plt.title('Model Loss over Epochs\\n(Mean Square Error)')\n",
    "plt.ylabel('Loss')\n",
    "plt.xlabel('Epoch')\n",
    "plt.legend([\"Loss\"], loc='upper right')\n",
    "plt.show()"
   ]
  },
  {
   "cell_type": "markdown",
   "metadata": {},
   "source": [
    "### Make prediction on problem statement"
   ]
  },
  {
   "cell_type": "code",
   "execution_count": 33,
   "metadata": {},
   "outputs": [],
   "source": [
    "def load_valid_data():\n",
    "    texts = open(\"valid.txt\", \"r\").read().split(\"\\n\")\n",
    "    v_labels, v_text = list(), list()\n",
    "    for text in texts: \n",
    "        label, txt = text.split(\"_\")\n",
    "        v_labels.append(label)\n",
    "        v_text.append(txt)\n",
    "    return v_labels, v_text"
   ]
  },
  {
   "cell_type": "code",
   "execution_count": 34,
   "metadata": {},
   "outputs": [],
   "source": [
    "def transform_input(text):\n",
    "    data = preprocess_raw_data(text)\n",
    "    res = list()\n",
    "    for s in data:\n",
    "        x = derive_sentence_vector(s)\n",
    "        res.append(x)\n",
    "    return np.array(res).reshape(len(res), 1, 100)"
   ]
  },
  {
   "cell_type": "code",
   "execution_count": 35,
   "metadata": {},
   "outputs": [
    {
     "name": "stdout",
     "output_type": "stream",
     "text": [
      "I have different machine types and want to find similar error structures based on recent error history. Thereby, the error should be grouped in different categories or groups which are as dissimilar as possible.\n",
      "Predicted: 0 - prediction | Ground truth: clustering\n",
      "Predicted: 0 - prediction | Ground truth: clustering\n",
      "____________\n",
      "In terms of a new product introduction, the price of a product should be predicted based on different characteristics like the size, equipment features or the buying power of the area.\n",
      "Predicted: 0 - prediction | Ground truth: prediction\n",
      "____________\n",
      "The analysis should evauate the relationship between the weather and the amount of sold ice cream. More specific, it should be examined how much the temperature influences the renvenue of the organization.\n",
      "Predicted: 1 - clustering | Ground truth: prediction\n",
      "Predicted: 1 - clustering | Ground truth: prediction\n",
      "____________\n",
      "Clustering is unsupervised and helps grouping similar objects.\n",
      "Predicted: 1 - clustering | Ground truth: clustering\n",
      "____________\n",
      "I want to predict the stock prices for a new product.\n",
      "Predicted: 0 - prediction | Ground truth: prediction\n",
      "____________\n"
     ]
    }
   ],
   "source": [
    "v_labels, v_inputs = load_valid_data()\n",
    "for l, t in zip(v_labels, v_inputs):\n",
    "    print(t)\n",
    "    x = transform_input(t)\n",
    "    y = lstm.predict_classes(x, verbose=10)\n",
    "    for pred in y:\n",
    "        print(\"Predicted: {} - {} | Ground truth: {}\".format(pred[0][0], raw_labels[pred[0][0]], l))\n",
    "    print(\"____________\")"
   ]
  },
  {
   "cell_type": "code",
   "execution_count": null,
   "metadata": {},
   "outputs": [],
   "source": []
  }
 ],
 "metadata": {
  "kernelspec": {
   "display_name": "Python 3",
   "language": "python",
   "name": "python3"
  },
  "language_info": {
   "codemirror_mode": {
    "name": "ipython",
    "version": 3
   },
   "file_extension": ".py",
   "mimetype": "text/x-python",
   "name": "python",
   "nbconvert_exporter": "python",
   "pygments_lexer": "ipython3",
   "version": "3.6.5"
  }
 },
 "nbformat": 4,
 "nbformat_minor": 2
}
