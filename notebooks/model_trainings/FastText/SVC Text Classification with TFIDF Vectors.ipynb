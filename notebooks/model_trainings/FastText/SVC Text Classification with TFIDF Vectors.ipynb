{
 "cells": [
  {
   "cell_type": "code",
   "execution_count": 1,
   "metadata": {},
   "outputs": [],
   "source": [
    "import os \n",
    "import pandas as pd\n",
    "from sklearn.utils import shuffle\n",
    "import matplotlib.pyplot as plt\n",
    "from sklearn.model_selection import train_test_split\n",
    "from sklearn.feature_extraction.text import CountVectorizer\n",
    "from sklearn.feature_extraction.text import TfidfTransformer\n",
    "from sklearn.feature_extraction.text import TfidfVectorizer\n",
    "from sklearn.naive_bayes import MultinomialNB\n",
    "from sklearn.linear_model import LogisticRegression\n",
    "from sklearn.ensemble import RandomForestClassifier\n",
    "from sklearn.svm import LinearSVC\n",
    "from sklearn.svm import SVC\n",
    "from sklearn.model_selection import cross_val_score\n",
    "from sklearn.metrics import confusion_matrix\n",
    "import seaborn as sns\n",
    "\n",
    "DATA = \"../../../data/datasets/merged_files\"\n",
    "\n",
    "%matplotlib inline"
   ]
  },
  {
   "cell_type": "code",
   "execution_count": 11,
   "metadata": {},
   "outputs": [],
   "source": [
    "list_data = list()\n",
    "for file in os.listdir(DATA):\n",
    "    if file.endswith(\"txt\"):\n",
    "        text = open(os.path.join(DATA, file), \"r\").read().replace(\"  \", \" \").split(\"\\n\")\n",
    "        for t in text:\n",
    "            list_data.append([file.split(\".\")[0], t])\n",
    "                \n",
    "data = pd.DataFrame(list_data, columns=[\"label\", \"text\"])"
   ]
  },
  {
   "cell_type": "code",
   "execution_count": 12,
   "metadata": {},
   "outputs": [
    {
     "data": {
      "text/html": [
       "<div>\n",
       "<style scoped>\n",
       "    .dataframe tbody tr th:only-of-type {\n",
       "        vertical-align: middle;\n",
       "    }\n",
       "\n",
       "    .dataframe tbody tr th {\n",
       "        vertical-align: top;\n",
       "    }\n",
       "\n",
       "    .dataframe thead th {\n",
       "        text-align: right;\n",
       "    }\n",
       "</style>\n",
       "<table border=\"1\" class=\"dataframe\">\n",
       "  <thead>\n",
       "    <tr style=\"text-align: right;\">\n",
       "      <th></th>\n",
       "      <th>index</th>\n",
       "      <th>label</th>\n",
       "      <th>text</th>\n",
       "    </tr>\n",
       "  </thead>\n",
       "  <tbody>\n",
       "    <tr>\n",
       "      <th>0</th>\n",
       "      <td>4462</td>\n",
       "      <td>clustering</td>\n",
       "      <td>if a data set really has this structure, clust...</td>\n",
       "    </tr>\n",
       "    <tr>\n",
       "      <th>1</th>\n",
       "      <td>1964</td>\n",
       "      <td>prediction</td>\n",
       "      <td>logistic regression is a type of probabilistic...</td>\n",
       "    </tr>\n",
       "    <tr>\n",
       "      <th>2</th>\n",
       "      <td>3608</td>\n",
       "      <td>clustering</td>\n",
       "      <td>one of the most important issues in the cluste...</td>\n",
       "    </tr>\n",
       "    <tr>\n",
       "      <th>3</th>\n",
       "      <td>1395</td>\n",
       "      <td>prediction</td>\n",
       "      <td>the basic concept of regression analysis is to...</td>\n",
       "    </tr>\n",
       "    <tr>\n",
       "      <th>4</th>\n",
       "      <td>1458</td>\n",
       "      <td>prediction</td>\n",
       "      <td>such classification tasks are used in the dete...</td>\n",
       "    </tr>\n",
       "    <tr>\n",
       "      <th>5</th>\n",
       "      <td>3394</td>\n",
       "      <td>clustering</td>\n",
       "      <td>. hierarchical clustering hierarchical cluster...</td>\n",
       "    </tr>\n",
       "    <tr>\n",
       "      <th>6</th>\n",
       "      <td>3184</td>\n",
       "      <td>clustering</td>\n",
       "      <td>cluster analysis is an emerging technique to e...</td>\n",
       "    </tr>\n",
       "    <tr>\n",
       "      <th>7</th>\n",
       "      <td>2201</td>\n",
       "      <td>prediction</td>\n",
       "      <td>hence, how the prediction is produced is very ...</td>\n",
       "    </tr>\n",
       "    <tr>\n",
       "      <th>8</th>\n",
       "      <td>135</td>\n",
       "      <td>prediction</td>\n",
       "      <td>stepwise regression analysis is the most commo...</td>\n",
       "    </tr>\n",
       "    <tr>\n",
       "      <th>9</th>\n",
       "      <td>5315</td>\n",
       "      <td>frequent_pattern_mining</td>\n",
       "      <td>the possibility of obtaining nonfictitious rep...</td>\n",
       "    </tr>\n",
       "  </tbody>\n",
       "</table>\n",
       "</div>"
      ],
      "text/plain": [
       "   index                    label  \\\n",
       "0   4462               clustering   \n",
       "1   1964               prediction   \n",
       "2   3608               clustering   \n",
       "3   1395               prediction   \n",
       "4   1458               prediction   \n",
       "5   3394               clustering   \n",
       "6   3184               clustering   \n",
       "7   2201               prediction   \n",
       "8    135               prediction   \n",
       "9   5315  frequent_pattern_mining   \n",
       "\n",
       "                                                text  \n",
       "0  if a data set really has this structure, clust...  \n",
       "1  logistic regression is a type of probabilistic...  \n",
       "2  one of the most important issues in the cluste...  \n",
       "3  the basic concept of regression analysis is to...  \n",
       "4  such classification tasks are used in the dete...  \n",
       "5  . hierarchical clustering hierarchical cluster...  \n",
       "6  cluster analysis is an emerging technique to e...  \n",
       "7  hence, how the prediction is produced is very ...  \n",
       "8  stepwise regression analysis is the most commo...  \n",
       "9  the possibility of obtaining nonfictitious rep...  "
      ]
     },
     "execution_count": 12,
     "metadata": {},
     "output_type": "execute_result"
    }
   ],
   "source": [
    "data = shuffle(data).reset_index()\n",
    "data.head(10)"
   ]
  },
  {
   "cell_type": "code",
   "execution_count": 13,
   "metadata": {},
   "outputs": [
    {
     "data": {
      "text/plain": [
       "(5369, 3391)"
      ]
     },
     "execution_count": 13,
     "metadata": {},
     "output_type": "execute_result"
    }
   ],
   "source": [
    "tfidf = TfidfVectorizer(sublinear_tf=True, min_df=5, norm='l2', encoding='latin-1', ngram_range=(1, 2), stop_words='english')\n",
    "features = tfidf.fit_transform(data.text).toarray()\n",
    "labels = data.label\n",
    "features.shape\n",
    "# TFIDF Output -> Vector representations in terms of bag of words with tfidf scores per document"
   ]
  },
  {
   "cell_type": "markdown",
   "metadata": {},
   "source": [
    "## Test multiple models with cross-validation"
   ]
  },
  {
   "cell_type": "code",
   "execution_count": 18,
   "metadata": {
    "scrolled": true
   },
   "outputs": [
    {
     "data": {
      "image/png": "[encoded data removed]",
      "text/plain": [
       "<Figure size 432x288 with 1 Axes>"
      ]
     },
     "metadata": {
      "needs_background": "light"
     },
     "output_type": "display_data"
    }
   ],
   "source": [
    "models = [\n",
    "    RandomForestClassifier(n_estimators=200, max_depth=5, random_state=0),\n",
    "    LinearSVC(),\n",
    "    MultinomialNB(),\n",
    "    SVC(kernel=\"linear\"),\n",
    "    LogisticRegression(random_state=0, solver=\"lbfgs\", multi_class=\"multinomial\"),\n",
    "]\n",
    "\n",
    "\n",
    "CV = 5\n",
    "cv_df = pd.DataFrame(index=range(CV * len(models)))\n",
    "\n",
    "entries = []\n",
    "for model in models:\n",
    "    model_name = model.__class__.__name__\n",
    "    accuracies = cross_val_score(model, features, labels, scoring='accuracy', cv=CV)\n",
    "    \n",
    "    for fold_idx, accuracy in enumerate(accuracies):\n",
    "        entries.append((model_name, fold_idx, accuracy))\n",
    "        \n",
    "cv_df = pd.DataFrame(entries, columns=['model_name', 'fold_idx', 'accuracy'])\n",
    "\n",
    "sns.boxplot(x='model_name', y='accuracy', data=cv_df)\n",
    "sns.stripplot(x='model_name', y='accuracy', data=cv_df, \n",
    "              size=12, jitter=True, edgecolor=\"gray\", linewidth=2)\n",
    "plt.show()"
   ]
  },
  {
   "cell_type": "code",
   "execution_count": 19,
   "metadata": {},
   "outputs": [
    {
     "data": {
      "text/plain": [
       "model_name\n",
       "LinearSVC                 0.993480\n",
       "LogisticRegression        0.990314\n",
       "MultinomialNB             0.953253\n",
       "RandomForestClassifier    0.940774\n",
       "SVC                       0.993294\n",
       "Name: accuracy, dtype: float64"
      ]
     },
     "execution_count": 19,
     "metadata": {},
     "output_type": "execute_result"
    }
   ],
   "source": [
    "cv_df.groupby('model_name').accuracy.mean()"
   ]
  },
  {
   "cell_type": "markdown",
   "metadata": {},
   "source": [
    "## Create SVC Classifier"
   ]
  },
  {
   "cell_type": "code",
   "execution_count": 20,
   "metadata": {},
   "outputs": [
    {
     "data": {
      "image/png": "[encoded data removed]",
      "text/plain": [
       "<Figure size 720x720 with 2 Axes>"
      ]
     },
     "metadata": {
      "needs_background": "light"
     },
     "output_type": "display_data"
    }
   ],
   "source": [
    "model = LinearSVC()\n",
    "X_train, X_test, y_train, y_test, _, _ = train_test_split(features, labels, data.index, test_size=0.33, random_state=0)\n",
    "model.fit(X_train, y_train)\n",
    "y_pred = model.predict(X_test)\n",
    "\n",
    "conf_mat = confusion_matrix(y_test, y_pred)\n",
    "fig, ax = plt.subplots(figsize=(10,10))\n",
    "sns.heatmap(conf_mat, annot=True, fmt='d', xticklabels=data.label.unique(), yticklabels=data.label.unique())\n",
    "plt.ylabel('Actual')\n",
    "plt.xlabel('Predicted')\n",
    "plt.show()"
   ]
  },
  {
   "cell_type": "code",
   "execution_count": 22,
   "metadata": {},
   "outputs": [],
   "source": [
    "def load_valid_data():\n",
    "    texts = open(\"valid.txt\", \"r\").read().split(\"\\n\")\n",
    "    v_labels, v_text = list(), list()\n",
    "    for text in texts: \n",
    "        label, txt = text.split(\"_\")\n",
    "        v_labels.append(label)\n",
    "        v_text.append(txt)\n",
    "    return v_labels, v_text"
   ]
  },
  {
   "cell_type": "code",
   "execution_count": 31,
   "metadata": {},
   "outputs": [
    {
     "name": "stdout",
     "output_type": "stream",
     "text": [
      "Pred: clustering | Ground Truth: clustering\n",
      "Pred: prediction | Ground Truth: prediction\n",
      "Pred: prediction | Ground Truth: prediction\n",
      "Pred: clustering | Ground Truth: clustering\n",
      "Pred: prediction | Ground Truth: prediction\n",
      "\n",
      "Validation accuracy: 1.0\n"
     ]
    }
   ],
   "source": [
    "v_labels, v_texts = load_valid_data()\n",
    "t, f = 0, 0\n",
    "for l, txt in zip(v_labels, v_texts):\n",
    "    pred = model.predict(tfidf.transform([txt]))\n",
    "    if l == pred[0]:\n",
    "        t+=1\n",
    "    else:\n",
    "        f+=1\n",
    "    print(\"Pred: {} | Ground Truth: {}\".format(pred[0], l))\n",
    "print(\"\\nValidation accuracy: {}\".format(t/len(v_texts)))"
   ]
  }
 ],
 "metadata": {
  "kernelspec": {
   "display_name": "Python 3",
   "language": "python",
   "name": "python3"
  },
  "language_info": {
   "codemirror_mode": {
    "name": "ipython",
    "version": 3
   },
   "file_extension": ".py",
   "mimetype": "text/x-python",
   "name": "python",
   "nbconvert_exporter": "python",
   "pygments_lexer": "ipython3",
   "version": "3.6.5"
  }
 },
 "nbformat": 4,
 "nbformat_minor": 2
}
